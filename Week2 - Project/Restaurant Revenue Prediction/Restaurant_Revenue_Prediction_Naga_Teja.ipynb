{
 "cells": [
  {
   "cell_type": "markdown",
   "metadata": {
    "colab_type": "text",
    "id": "37puETfgRzzg"
   },
   "source": [
    "# Restaurant Revenue Prediction"
   ]
  },
  {
   "cell_type": "markdown",
   "metadata": {
    "colab_type": "text",
    "id": "EoRP98MpR-qj"
   },
   "source": [
    "## Importing the libraries"
   ]
  },
  {
   "cell_type": "code",
   "execution_count": 1,
   "metadata": {
    "colab": {},
    "colab_type": "code",
    "id": "N-qiINBQSK2g"
   },
   "outputs": [],
   "source": [
    "import numpy as np\n",
    "import matplotlib.pyplot as plt\n",
    "import pandas as pd\n",
    "from datetime import date\n",
    "from sklearn.preprocessing import MinMaxScaler\n",
    "from sklearn.model_selection import train_test_split\n",
    "from sklearn.linear_model import LinearRegression\n",
    "from sklearn.preprocessing import PolynomialFeatures\n",
    "from sklearn.tree import DecisionTreeRegressor\n",
    "from sklearn.ensemble import RandomForestRegressor"
   ]
  },
  {
   "cell_type": "markdown",
   "metadata": {
    "colab_type": "text",
    "id": "RopL7tUZSQkT"
   },
   "source": [
    "## Importing the dataset"
   ]
  },
  {
   "cell_type": "code",
   "execution_count": 2,
   "metadata": {
    "colab": {},
    "colab_type": "code",
    "id": "WwEPNDWySTKm"
   },
   "outputs": [],
   "source": [
    "dataset = pd.read_csv('train.csv')\n",
    "X = dataset.iloc[:, :-1]\n",
    "y = dataset.iloc[:, -1]\n",
    "today = date.today()"
   ]
  },
  {
   "cell_type": "code",
   "execution_count": 3,
   "metadata": {},
   "outputs": [],
   "source": [
    "X = X.iloc[:,1:]"
   ]
  },
  {
   "cell_type": "markdown",
   "metadata": {},
   "source": [
    "The ID is unique for each entry and is of no use in the modelling, this is removed in the previous step."
   ]
  },
  {
   "cell_type": "code",
   "execution_count": 4,
   "metadata": {},
   "outputs": [],
   "source": [
    "X['Open Date'] = abs((pd.to_datetime(X['Open Date']) - pd.to_datetime('today').normalize()).dt.days)"
   ]
  },
  {
   "cell_type": "markdown",
   "metadata": {},
   "source": [
    "The 'Open Date' has been replaced with the number of days"
   ]
  },
  {
   "cell_type": "markdown",
   "metadata": {
    "colab_type": "text",
    "id": "nhfKXNxlSabC"
   },
   "source": [
    "## Taking care of missing data"
   ]
  },
  {
   "cell_type": "markdown",
   "metadata": {},
   "source": [
    "This section is not relevant in this case as the data is consistent"
   ]
  },
  {
   "cell_type": "code",
   "execution_count": 5,
   "metadata": {
    "colab": {},
    "colab_type": "code",
    "id": "c93k7ipkSexq"
   },
   "outputs": [],
   "source": [
    "#from sklearn.impute import SimpleImputer\n",
    "#imputer = SimpleImputer(missing_values=np.nan, strategy='mean')"
   ]
  },
  {
   "cell_type": "markdown",
   "metadata": {
    "colab_type": "text",
    "id": "CriG6VzVSjcK"
   },
   "source": [
    "## Encoding categorical data"
   ]
  },
  {
   "cell_type": "markdown",
   "metadata": {
    "colab_type": "text",
    "id": "AhSpdQWeSsFh"
   },
   "source": [
    "### Encoding the Independent Variables"
   ]
  },
  {
   "cell_type": "code",
   "execution_count": 6,
   "metadata": {},
   "outputs": [],
   "source": [
    "X = pd.get_dummies(X)"
   ]
  },
  {
   "cell_type": "markdown",
   "metadata": {},
   "source": [
    "get_dummies is used instead of OneHotEncoder to preserve the X as dataframe"
   ]
  },
  {
   "cell_type": "code",
   "execution_count": 7,
   "metadata": {
    "colab": {},
    "colab_type": "code",
    "id": "5hwuVddlSwVi"
   },
   "outputs": [],
   "source": [
    "#from sklearn.compose import ColumnTransformer\n",
    "#from sklearn.preprocessing import OneHotEncoder\n",
    "\n",
    "#ct = ColumnTransformer(transformers=[('encoder', OneHotEncoder(), [1,2,3])], remainder='passthrough')\n",
    "#X = np.array(ct.fit_transform(X))"
   ]
  },
  {
   "cell_type": "code",
   "execution_count": 8,
   "metadata": {},
   "outputs": [],
   "source": [
    "feature_list = list(X.columns)"
   ]
  },
  {
   "cell_type": "markdown",
   "metadata": {},
   "source": [
    "feature_list contains all the headers (except revenue), it is going to prove useful later."
   ]
  },
  {
   "cell_type": "markdown",
   "metadata": {
    "colab_type": "text",
    "id": "TpGqbS4TqkIR"
   },
   "source": [
    "## Feature Scaling"
   ]
  },
  {
   "cell_type": "code",
   "execution_count": 9,
   "metadata": {},
   "outputs": [],
   "source": [
    "sc = MinMaxScaler()\n",
    "X = sc.fit_transform(X)\n",
    "X = pd.DataFrame(X)"
   ]
  },
  {
   "cell_type": "markdown",
   "metadata": {
    "colab_type": "text",
    "id": "qb_vcgm3qZKW"
   },
   "source": [
    "## Splitting the dataset into the Training set and Test set"
   ]
  },
  {
   "cell_type": "code",
   "execution_count": 10,
   "metadata": {
    "colab": {},
    "colab_type": "code",
    "id": "pXgA6CzlqbCl"
   },
   "outputs": [],
   "source": [
    "X_train, X_test, y_train, y_test = train_test_split(X, y, test_size = 0.2, random_state = 1)"
   ]
  },
  {
   "cell_type": "code",
   "execution_count": 11,
   "metadata": {
    "colab": {},
    "colab_type": "code",
    "id": "AxjSUXFQqo-3"
   },
   "outputs": [],
   "source": [
    "#X_train[:, :] = sc.fit_transform(X_train[:, :])\n",
    "#X_test[:, :] = sc.transform(X_test[:, :])"
   ]
  },
  {
   "cell_type": "markdown",
   "metadata": {},
   "source": [
    "# Training the Multiple Linear Regression model"
   ]
  },
  {
   "cell_type": "code",
   "execution_count": 12,
   "metadata": {},
   "outputs": [
    {
     "data": {
      "text/plain": [
       "LinearRegression()"
      ]
     },
     "execution_count": 12,
     "metadata": {},
     "output_type": "execute_result"
    }
   ],
   "source": [
    "regressor1 = LinearRegression()\n",
    "regressor1.fit(X_train, y_train)"
   ]
  },
  {
   "cell_type": "code",
   "execution_count": 13,
   "metadata": {},
   "outputs": [],
   "source": [
    "y_pred1 = regressor1.predict(X_test)"
   ]
  },
  {
   "cell_type": "code",
   "execution_count": 14,
   "metadata": {},
   "outputs": [],
   "source": [
    "sq_error1 = (y_test-y_pred1)**2"
   ]
  },
  {
   "cell_type": "code",
   "execution_count": 15,
   "metadata": {},
   "outputs": [
    {
     "data": {
      "text/plain": [
       "4.106693938012625e+37"
      ]
     },
     "execution_count": 15,
     "metadata": {},
     "output_type": "execute_result"
    }
   ],
   "source": [
    "msq_error1 = sq_error1.mean()\n",
    "msq_error1"
   ]
  },
  {
   "cell_type": "markdown",
   "metadata": {},
   "source": [
    "# Training the Polynomial Regression models"
   ]
  },
  {
   "cell_type": "code",
   "execution_count": 16,
   "metadata": {},
   "outputs": [
    {
     "data": {
      "text/plain": [
       "LinearRegression()"
      ]
     },
     "execution_count": 16,
     "metadata": {},
     "output_type": "execute_result"
    }
   ],
   "source": [
    "poly_reg2 = PolynomialFeatures(degree = 2)\n",
    "X_poly2 = poly_reg2.fit_transform(X_train)\n",
    "lin_reg_2 = LinearRegression()\n",
    "lin_reg_2.fit(X_poly2, y_train)"
   ]
  },
  {
   "cell_type": "code",
   "execution_count": 17,
   "metadata": {},
   "outputs": [],
   "source": [
    "y_pred2 = lin_reg_2.predict(poly_reg2.fit_transform(X_test))"
   ]
  },
  {
   "cell_type": "code",
   "execution_count": 18,
   "metadata": {},
   "outputs": [],
   "source": [
    "sq_error2 = (y_test-y_pred2)**2"
   ]
  },
  {
   "cell_type": "code",
   "execution_count": 19,
   "metadata": {},
   "outputs": [
    {
     "data": {
      "text/plain": [
       "16758361641082.756"
      ]
     },
     "execution_count": 19,
     "metadata": {},
     "output_type": "execute_result"
    }
   ],
   "source": [
    "msq_error2 = sq_error2.mean()\n",
    "msq_error2"
   ]
  },
  {
   "cell_type": "code",
   "execution_count": 20,
   "metadata": {},
   "outputs": [
    {
     "data": {
      "text/plain": [
       "LinearRegression()"
      ]
     },
     "execution_count": 20,
     "metadata": {},
     "output_type": "execute_result"
    }
   ],
   "source": [
    "poly_reg3 = PolynomialFeatures(degree = 3)\n",
    "X_poly3 = poly_reg3.fit_transform(X_train)\n",
    "lin_reg_3 = LinearRegression()\n",
    "lin_reg_3.fit(X_poly3, y_train)"
   ]
  },
  {
   "cell_type": "code",
   "execution_count": 21,
   "metadata": {},
   "outputs": [],
   "source": [
    "y_pred3 = lin_reg_3.predict(poly_reg3.fit_transform(X_test))"
   ]
  },
  {
   "cell_type": "code",
   "execution_count": 22,
   "metadata": {},
   "outputs": [],
   "source": [
    "sq_error3 = (y_test-y_pred3)**2"
   ]
  },
  {
   "cell_type": "code",
   "execution_count": 23,
   "metadata": {},
   "outputs": [
    {
     "data": {
      "text/plain": [
       "16080248661776.527"
      ]
     },
     "execution_count": 23,
     "metadata": {},
     "output_type": "execute_result"
    }
   ],
   "source": [
    "msq_error3 = sq_error3.mean()\n",
    "msq_error3"
   ]
  },
  {
   "cell_type": "code",
   "execution_count": 24,
   "metadata": {},
   "outputs": [
    {
     "data": {
      "text/plain": [
       "LinearRegression()"
      ]
     },
     "execution_count": 24,
     "metadata": {},
     "output_type": "execute_result"
    }
   ],
   "source": [
    "poly_reg4 = PolynomialFeatures(degree = 4)\n",
    "X_poly4 = poly_reg4.fit_transform(X_train)\n",
    "lin_reg_4 = LinearRegression()\n",
    "lin_reg_4.fit(X_poly4, y_train)"
   ]
  },
  {
   "cell_type": "code",
   "execution_count": 25,
   "metadata": {},
   "outputs": [],
   "source": [
    "y_pred4 = lin_reg_4.predict(poly_reg4.fit_transform(X_test))"
   ]
  },
  {
   "cell_type": "code",
   "execution_count": 26,
   "metadata": {},
   "outputs": [],
   "source": [
    "sq_error4 = (y_test-y_pred4)**2"
   ]
  },
  {
   "cell_type": "code",
   "execution_count": 27,
   "metadata": {},
   "outputs": [
    {
     "data": {
      "text/plain": [
       "16872909623521.588"
      ]
     },
     "execution_count": 27,
     "metadata": {},
     "output_type": "execute_result"
    }
   ],
   "source": [
    "msq_error4 = sq_error4.mean()\n",
    "msq_error4"
   ]
  },
  {
   "cell_type": "markdown",
   "metadata": {},
   "source": [
    "# Training the Decision Tree Regression Model"
   ]
  },
  {
   "cell_type": "code",
   "execution_count": 28,
   "metadata": {},
   "outputs": [
    {
     "data": {
      "text/plain": [
       "DecisionTreeRegressor(random_state=0)"
      ]
     },
     "execution_count": 28,
     "metadata": {},
     "output_type": "execute_result"
    }
   ],
   "source": [
    "regressor5 = DecisionTreeRegressor(random_state = 0)\n",
    "regressor5.fit(X_train, y_train)"
   ]
  },
  {
   "cell_type": "code",
   "execution_count": 29,
   "metadata": {},
   "outputs": [],
   "source": [
    "y_pred5 = regressor5.predict(X_test)"
   ]
  },
  {
   "cell_type": "code",
   "execution_count": 30,
   "metadata": {},
   "outputs": [],
   "source": [
    "sq_error5 = (y_test-y_pred5)**2"
   ]
  },
  {
   "cell_type": "code",
   "execution_count": 31,
   "metadata": {},
   "outputs": [
    {
     "data": {
      "text/plain": [
       "19305972133914.145"
      ]
     },
     "execution_count": 31,
     "metadata": {},
     "output_type": "execute_result"
    }
   ],
   "source": [
    "msq_error5 = sq_error5.mean()\n",
    "msq_error5"
   ]
  },
  {
   "cell_type": "markdown",
   "metadata": {},
   "source": [
    "# Training the Random Forest Regression model"
   ]
  },
  {
   "cell_type": "code",
   "execution_count": 32,
   "metadata": {},
   "outputs": [
    {
     "data": {
      "text/plain": [
       "RandomForestRegressor(n_estimators=25, random_state=0)"
      ]
     },
     "execution_count": 32,
     "metadata": {},
     "output_type": "execute_result"
    }
   ],
   "source": [
    "regressor6 = RandomForestRegressor(n_estimators = 25, random_state = 0)\n",
    "regressor6.fit(X_train, y_train)"
   ]
  },
  {
   "cell_type": "code",
   "execution_count": 33,
   "metadata": {},
   "outputs": [],
   "source": [
    "y_pred6 = regressor6.predict(X_test)"
   ]
  },
  {
   "cell_type": "code",
   "execution_count": 34,
   "metadata": {},
   "outputs": [],
   "source": [
    "sq_error6 = (y_test-y_pred6)**2"
   ]
  },
  {
   "cell_type": "code",
   "execution_count": 35,
   "metadata": {},
   "outputs": [
    {
     "data": {
      "text/plain": [
       "11621180207879.6"
      ]
     },
     "execution_count": 35,
     "metadata": {},
     "output_type": "execute_result"
    }
   ],
   "source": [
    "msq_error6 = sq_error6.mean()\n",
    "msq_error6"
   ]
  },
  {
   "cell_type": "code",
   "execution_count": 36,
   "metadata": {},
   "outputs": [
    {
     "name": "stdout",
     "output_type": "stream",
     "text": [
      "Variable: P29                  Importance: 0.204539\n",
      "Variable: Open Date            Importance: 0.118998\n",
      "Variable: P17                  Importance: 0.090371\n",
      "Variable: P2                   Importance: 0.057268\n",
      "Variable: P20                  Importance: 0.050464\n",
      "Variable: P28                  Importance: 0.04677\n",
      "Variable: City_İstanbul        Importance: 0.045353\n",
      "Variable: P23                  Importance: 0.041214\n",
      "Variable: P1                   Importance: 0.03436\n",
      "Variable: City_İzmir           Importance: 0.027561\n",
      "Variable: P22                  Importance: 0.024295\n",
      "Variable: P25                  Importance: 0.020342\n",
      "Variable: P3                   Importance: 0.01882\n",
      "Variable: P5                   Importance: 0.018266\n",
      "Variable: P6                   Importance: 0.015931\n",
      "Variable: P11                  Importance: 0.015571\n",
      "Variable: P14                  Importance: 0.015154\n",
      "Variable: P18                  Importance: 0.012491\n",
      "Variable: P27                  Importance: 0.010591\n",
      "Variable: P24                  Importance: 0.009999\n",
      "Variable: P37                  Importance: 0.009887\n",
      "Variable: P21                  Importance: 0.009796\n",
      "Variable: P26                  Importance: 0.009146\n",
      "Variable: P19                  Importance: 0.008554\n",
      "Variable: P8                   Importance: 0.007565\n",
      "Variable: Type_IL              Importance: 0.007414\n",
      "Variable: P32                  Importance: 0.00724\n",
      "Variable: P36                  Importance: 0.00695\n",
      "Variable: P16                  Importance: 0.00598\n",
      "Variable: P12                  Importance: 0.005725\n",
      "Variable: P35                  Importance: 0.005339\n",
      "Variable: P30                  Importance: 0.005032\n",
      "Variable: P15                  Importance: 0.004753\n",
      "Variable: P34                  Importance: 0.004752\n",
      "Variable: P13                  Importance: 0.002364\n",
      "Variable: City Group_Big Cities Importance: 0.002055\n",
      "Variable: P9                   Importance: 0.00199\n",
      "Variable: City_Diyarbakır      Importance: 0.00191\n",
      "Variable: City_Ankara          Importance: 0.001529\n",
      "Variable: P33                  Importance: 0.001326\n",
      "Variable: P31                  Importance: 0.001214\n",
      "Variable: P7                   Importance: 0.000997\n",
      "Variable: City_Bursa           Importance: 0.000957\n",
      "Variable: City_Samsun          Importance: 0.00093\n",
      "Variable: Type_FC              Importance: 0.000902\n",
      "Variable: P4                   Importance: 0.00087\n",
      "Variable: City_Tekirdağ        Importance: 0.000819\n",
      "Variable: City Group_Other     Importance: 0.000759\n",
      "Variable: City_Antalya         Importance: 0.000712\n",
      "Variable: City_Konya           Importance: 0.000698\n",
      "Variable: P10                  Importance: 0.000599\n",
      "Variable: City_Karabük         Importance: 0.000549\n",
      "Variable: City_Bolu            Importance: 0.000372\n",
      "Variable: City_Kütahya         Importance: 0.000358\n",
      "Variable: City_Eskişehir       Importance: 0.00031\n",
      "Variable: City_Amasya          Importance: 0.000272\n",
      "Variable: City_Balıkesir       Importance: 0.000261\n",
      "Variable: City_Tokat           Importance: 0.000253\n",
      "Variable: City_Adana           Importance: 0.000172\n",
      "Variable: City_Kayseri         Importance: 8.8e-05\n",
      "Variable: City_Kocaeli         Importance: 8.1e-05\n",
      "Variable: City_Sakarya         Importance: 5.8e-05\n",
      "Variable: City_Elazığ          Importance: 3.8e-05\n",
      "Variable: City_Muğla           Importance: 2e-05\n",
      "Variable: City_Aydın           Importance: 1.3e-05\n",
      "Variable: City_Osmaniye        Importance: 1e-05\n",
      "Variable: City_Afyonkarahisar  Importance: 8e-06\n",
      "Variable: City_Isparta         Importance: 6e-06\n",
      "Variable: City_Uşak            Importance: 5e-06\n",
      "Variable: Type_DT              Importance: 2e-06\n",
      "Variable: City_Kırklareli      Importance: 1e-06\n",
      "Variable: City_Denizli         Importance: 0.0\n",
      "Variable: City_Edirne          Importance: 0.0\n",
      "Variable: City_Gaziantep       Importance: 0.0\n",
      "Variable: City_Kastamonu       Importance: 0.0\n",
      "Variable: City_Trabzon         Importance: 0.0\n",
      "Variable: City_Şanlıurfa       Importance: 0.0\n"
     ]
    }
   ],
   "source": [
    "importances = list(regressor6.feature_importances_)\n",
    "feature_importances = [(feature, round(importance, 6)) for feature, importance in zip(feature_list, importances)]\n",
    "feature_importances = sorted(feature_importances, key = lambda x: x[1], reverse = True)\n",
    "[print('Variable: {:20} Importance: {}'.format(*pair)) for pair in feature_importances];"
   ]
  },
  {
   "cell_type": "code",
   "execution_count": 37,
   "metadata": {},
   "outputs": [
    {
     "data": {
      "image/png": "[encoded data removed]",
      "text/plain": [
       "<Figure size 1440x720 with 1 Axes>"
      ]
     },
     "metadata": {
      "needs_background": "light"
     },
     "output_type": "display_data"
    }
   ],
   "source": [
    "plt.rcParams[\"figure.figsize\"] = (20,10)\n",
    "\n",
    "x_values = list(range(len(importances)))\n",
    "plt.bar(x_values, importances, orientation = 'vertical')\n",
    "\n",
    "plt.xticks(x_values, feature_list, rotation='vertical')\n",
    "\n",
    "plt.ylabel('Importance'); plt.xlabel('Variable'); plt.title('Variable Importances');"
   ]
  },
  {
   "cell_type": "markdown",
   "metadata": {},
   "source": [
    "## Training Random Forest Regression model with fewer variables"
   ]
  },
  {
   "cell_type": "code",
   "execution_count": 38,
   "metadata": {},
   "outputs": [],
   "source": [
    "X_train_2 = X_train.iloc[:,[0,1,2,3,5,6,11,12,14,17,18,20,22,23,25,27,28,29,69,70]]"
   ]
  },
  {
   "cell_type": "code",
   "execution_count": 39,
   "metadata": {},
   "outputs": [],
   "source": [
    "X_test_2 = X_test.iloc[:,[0,1,2,3,5,6,11,12,14,17,18,20,22,23,25,27,28,29,69,70]]"
   ]
  },
  {
   "cell_type": "code",
   "execution_count": 40,
   "metadata": {},
   "outputs": [
    {
     "data": {
      "text/plain": [
       "RandomForestRegressor(n_estimators=25, random_state=0)"
      ]
     },
     "execution_count": 40,
     "metadata": {},
     "output_type": "execute_result"
    }
   ],
   "source": [
    "regressor7 = RandomForestRegressor(n_estimators = 25, random_state = 0)\n",
    "regressor7.fit(X_train_2, y_train)"
   ]
  },
  {
   "cell_type": "code",
   "execution_count": 41,
   "metadata": {},
   "outputs": [],
   "source": [
    "y_pred7 = regressor7.predict(X_test_2)"
   ]
  },
  {
   "cell_type": "code",
   "execution_count": 42,
   "metadata": {},
   "outputs": [],
   "source": [
    "sq_error7 = (y_test-y_pred7)**2"
   ]
  },
  {
   "cell_type": "code",
   "execution_count": 43,
   "metadata": {},
   "outputs": [
    {
     "data": {
      "text/plain": [
       "11595846604771.215"
      ]
     },
     "execution_count": 43,
     "metadata": {},
     "output_type": "execute_result"
    }
   ],
   "source": [
    "msq_error7 = sq_error7.mean()\n",
    "msq_error7"
   ]
  },
  {
   "cell_type": "markdown",
   "metadata": {},
   "source": [
    "## Training simple Linear Regression Models"
   ]
  },
  {
   "cell_type": "code",
   "execution_count": 44,
   "metadata": {},
   "outputs": [
    {
     "data": {
      "text/plain": [
       "LinearRegression()"
      ]
     },
     "execution_count": 44,
     "metadata": {},
     "output_type": "execute_result"
    }
   ],
   "source": [
    "regressor8 = LinearRegression()\n",
    "regressor8.fit(X_train.iloc[:,29].values.reshape(-1,1), y_train)"
   ]
  },
  {
   "cell_type": "code",
   "execution_count": 45,
   "metadata": {},
   "outputs": [],
   "source": [
    "y_pred8 = regressor8.predict(X_test.iloc[:,29].values.reshape(-1,1))"
   ]
  },
  {
   "cell_type": "code",
   "execution_count": 46,
   "metadata": {},
   "outputs": [],
   "source": [
    "sq_error8 = (y_test-y_pred8)**2"
   ]
  },
  {
   "cell_type": "code",
   "execution_count": 47,
   "metadata": {},
   "outputs": [
    {
     "data": {
      "text/plain": [
       "11669456766005.12"
      ]
     },
     "execution_count": 47,
     "metadata": {},
     "output_type": "execute_result"
    }
   ],
   "source": [
    "msq_error8 = sq_error8.mean()\n",
    "msq_error8"
   ]
  },
  {
   "cell_type": "code",
   "execution_count": 48,
   "metadata": {},
   "outputs": [
    {
     "data": {
      "text/plain": [
       "LinearRegression()"
      ]
     },
     "execution_count": 48,
     "metadata": {},
     "output_type": "execute_result"
    }
   ],
   "source": [
    "regressor9 = LinearRegression()\n",
    "regressor9.fit(X_train.iloc[:,0].values.reshape(-1,1), y_train)"
   ]
  },
  {
   "cell_type": "code",
   "execution_count": 49,
   "metadata": {},
   "outputs": [],
   "source": [
    "y_pred9 = regressor9.predict(X_test.iloc[:,0].values.reshape(-1,1))"
   ]
  },
  {
   "cell_type": "code",
   "execution_count": 50,
   "metadata": {},
   "outputs": [],
   "source": [
    "sq_error9 = (y_test-y_pred9)**2"
   ]
  },
  {
   "cell_type": "code",
   "execution_count": 51,
   "metadata": {},
   "outputs": [
    {
     "data": {
      "text/plain": [
       "9929444467578.576"
      ]
     },
     "execution_count": 51,
     "metadata": {},
     "output_type": "execute_result"
    }
   ],
   "source": [
    "msq_error9 = sq_error9.mean()\n",
    "msq_error9"
   ]
  },
  {
   "cell_type": "code",
   "execution_count": 52,
   "metadata": {},
   "outputs": [
    {
     "data": {
      "text/plain": [
       "LinearRegression()"
      ]
     },
     "execution_count": 52,
     "metadata": {},
     "output_type": "execute_result"
    }
   ],
   "source": [
    "regressor10 = LinearRegression()\n",
    "regressor10.fit(X_train.iloc[:,17].values.reshape(-1,1), y_train)"
   ]
  },
  {
   "cell_type": "code",
   "execution_count": 53,
   "metadata": {},
   "outputs": [],
   "source": [
    "y_pred10 = regressor10.predict(X_test.iloc[:,17].values.reshape(-1,1))"
   ]
  },
  {
   "cell_type": "code",
   "execution_count": 54,
   "metadata": {},
   "outputs": [],
   "source": [
    "sq_error10 = (y_test-y_pred10)**2"
   ]
  },
  {
   "cell_type": "code",
   "execution_count": 55,
   "metadata": {},
   "outputs": [
    {
     "data": {
      "text/plain": [
       "11977873395215.09"
      ]
     },
     "execution_count": 55,
     "metadata": {},
     "output_type": "execute_result"
    }
   ],
   "source": [
    "msq_error10 = sq_error10.mean()\n",
    "msq_error10"
   ]
  },
  {
   "cell_type": "code",
   "execution_count": null,
   "metadata": {},
   "outputs": [],
   "source": []
  }
 ],
 "metadata": {
  "colab": {
   "authorship_tag": "ABX9TyNxDRfLvKVBN9HjXcmlURF3",
   "collapsed_sections": [],
   "name": "data_preprocessing_tools.ipynb",
   "provenance": [],
   "toc_visible": true
  },
  "kernelspec": {
   "display_name": "Python 3",
   "language": "python",
   "name": "python3"
  },
  "language_info": {
   "codemirror_mode": {
    "name": "ipython",
    "version": 3
   },
   "file_extension": ".py",
   "mimetype": "text/x-python",
   "name": "python",
   "nbconvert_exporter": "python",
   "pygments_lexer": "ipython3",
   "version": "3.8.5"
  }
 },
 "nbformat": 4,
 "nbformat_minor": 1
}
