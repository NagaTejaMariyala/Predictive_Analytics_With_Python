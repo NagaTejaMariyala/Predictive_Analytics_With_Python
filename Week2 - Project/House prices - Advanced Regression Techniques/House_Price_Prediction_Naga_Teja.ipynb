{
 "cells": [
  {
   "cell_type": "markdown",
   "metadata": {
    "colab_type": "text",
    "id": "37puETfgRzzg"
   },
   "source": [
    "# House Price Prediction"
   ]
  },
  {
   "cell_type": "markdown",
   "metadata": {
    "colab_type": "text",
    "id": "EoRP98MpR-qj"
   },
   "source": [
    "## Importing the libraries"
   ]
  },
  {
   "cell_type": "code",
   "execution_count": 1,
   "metadata": {
    "colab": {},
    "colab_type": "code",
    "id": "N-qiINBQSK2g"
   },
   "outputs": [],
   "source": [
    "import numpy as np\n",
    "import matplotlib.pyplot as plt\n",
    "import pandas as pd\n",
    "from datetime import date\n",
    "from sklearn.preprocessing import LabelEncoder, OrdinalEncoder\n",
    "from sklearn.preprocessing import MinMaxScaler\n",
    "from sklearn.model_selection import train_test_split\n",
    "from sklearn.linear_model import LinearRegression\n",
    "from sklearn.preprocessing import PolynomialFeatures\n",
    "from sklearn.tree import DecisionTreeRegressor\n",
    "from sklearn.ensemble import RandomForestRegressor"
   ]
  },
  {
   "cell_type": "markdown",
   "metadata": {
    "colab_type": "text",
    "id": "RopL7tUZSQkT"
   },
   "source": [
    "## Importing the dataset"
   ]
  },
  {
   "cell_type": "code",
   "execution_count": 2,
   "metadata": {
    "colab": {},
    "colab_type": "code",
    "id": "WwEPNDWySTKm"
   },
   "outputs": [],
   "source": [
    "train_dataset = pd.read_csv('train.csv')\n",
    "test_dataset = pd.read_csv('test.csv')\n",
    "test_id = test_dataset['Id']\n",
    "dataset = pd.concat([train_dataset,test_dataset])\n",
    "dataset.drop('Id', axis=1, inplace=True)"
   ]
  },
  {
   "cell_type": "markdown",
   "metadata": {},
   "source": [
    "The ID is unique for each entry and is of no use in the modelling, this is removed in the previous step."
   ]
  },
  {
   "cell_type": "code",
   "execution_count": 3,
   "metadata": {},
   "outputs": [],
   "source": [
    "dataset.drop([columns for columns, count in dict(dataset.isna().sum()).items() if float(count/dataset.shape[0]) >= 0.5], axis = 1, inplace=True)"
   ]
  },
  {
   "cell_type": "code",
   "execution_count": 4,
   "metadata": {},
   "outputs": [
    {
     "data": {
      "text/plain": [
       "AllPub    2916\n",
       "NoSeWa       1\n",
       "Name: Utilities, dtype: int64"
      ]
     },
     "execution_count": 4,
     "metadata": {},
     "output_type": "execute_result"
    }
   ],
   "source": [
    "dataset['Utilities'].value_counts() "
   ]
  },
  {
   "cell_type": "code",
   "execution_count": 5,
   "metadata": {},
   "outputs": [],
   "source": [
    "dataset.drop('Utilities', axis=1, inplace=True)"
   ]
  },
  {
   "cell_type": "markdown",
   "metadata": {
    "colab_type": "text",
    "id": "nhfKXNxlSabC"
   },
   "source": [
    "## Taking care of missing data"
   ]
  },
  {
   "cell_type": "code",
   "execution_count": 6,
   "metadata": {},
   "outputs": [],
   "source": [
    "for field in ['GarageType', 'GarageFinish','GarageQual', 'GarageCond',\n",
    "              'BsmtFinType1','BsmtQual','BsmtCond', 'BsmtExposure', 'BsmtFinType1', \n",
    "              'BsmtFinType2','FireplaceQu',\n",
    "               'MasVnrType' ] :\n",
    "    dataset[field].fillna('None',inplace=True)"
   ]
  },
  {
   "cell_type": "code",
   "execution_count": 7,
   "metadata": {},
   "outputs": [],
   "source": [
    "for field in ['MasVnrArea','BsmtFullBath','BsmtHalfBath'\n",
    "              ,'BsmtFinSF1','GarageCars','GarageArea','TotalBsmtSF',\n",
    "             'BsmtUnfSF','BsmtFinSF2','GarageYrBlt','TotalBsmtSF']:\n",
    "    dataset[field].fillna(0,inplace=True) "
   ]
  },
  {
   "cell_type": "code",
   "execution_count": 8,
   "metadata": {},
   "outputs": [],
   "source": [
    "dataset['LotFrontage'] = dataset.groupby('Neighborhood')['LotFrontage'].transform(lambda x: x.fillna(x.mean()))\n",
    "for feature in ['MSZoning', 'Electrical']:\n",
    "    dataset[feature] = dataset.groupby('Neighborhood')[feature].transform(lambda x: x.fillna(x.mode()[0]))\n",
    "\n",
    "for field in ['SaleType','Exterior1st','Exterior2nd',]:\n",
    "    dataset[field].fillna(dataset[field].mode()[0],inplace=True)\n",
    "    \n",
    "dataset.Functional.fillna('Typ',inplace=True)\n",
    "dataset.KitchenQual.fillna('TA',inplace=True)"
   ]
  },
  {
   "cell_type": "markdown",
   "metadata": {
    "colab_type": "text",
    "id": "CriG6VzVSjcK"
   },
   "source": [
    "## Encoding categorical data"
   ]
  },
  {
   "cell_type": "markdown",
   "metadata": {
    "colab_type": "text",
    "id": "AhSpdQWeSsFh"
   },
   "source": [
    "### Encoding the Independent Variables"
   ]
  },
  {
   "cell_type": "code",
   "execution_count": 9,
   "metadata": {},
   "outputs": [],
   "source": [
    "for field in ['MSSubClass','LandSlope','YearBuilt','YearRemodAdd','CentralAir','GarageYrBlt','PavedDrive','YrSold']:\n",
    "    le = LabelEncoder()\n",
    "    dataset[field] = le.fit_transform(dataset[field].values)"
   ]
  },
  {
   "cell_type": "code",
   "execution_count": 10,
   "metadata": {},
   "outputs": [],
   "source": [
    "ordinal_features = ['ExterQual','LotShape','BsmtQual','BsmtCond','BsmtExposure','BsmtFinType1', 'BsmtFinType2',\n",
    "              'HeatingQC','Functional','FireplaceQu','KitchenQual', 'GarageFinish','GarageQual','GarageCond']\n",
    "\n",
    "for field in (ordinal_features):\n",
    "    dataset[field] = dataset[field].astype(str)\n",
    "\n",
    "    orders=[\n",
    "    #ExterQual\n",
    "    ['Po','Fa','TA','Gd','Ex'],\n",
    "    #LotShape\n",
    "    ['Reg','IR1' ,'IR2','IR3'],\n",
    "    #BsmtQual\n",
    "    ['None','Fa','TA','Gd','Ex'],\n",
    "    #BsmtCond\n",
    "    ['None','Po','Fa','TA','Gd','Ex'],\n",
    "    #BsmtExposure\n",
    "    ['None','No','Mn','Av','Gd'],\n",
    "    #BsmtFinType1\n",
    "    ['None','Unf','LwQ', 'Rec','BLQ','ALQ' , 'GLQ' ],\n",
    "    #BsmtFinType2\n",
    "   ['None','Unf','LwQ', 'Rec','BLQ','ALQ' , 'GLQ' ],\n",
    "    #HeatingQC\n",
    "    ['Po','Fa','TA','Gd','Ex'],\n",
    "    #Functional\n",
    "   ['Sev','Maj2','Maj1','Mod','Min2','Min1','Typ'],\n",
    "    #FireplaceQu\n",
    "    ['None','Po','Fa','TA','Gd','Ex'],\n",
    "    #KitchenQual\n",
    "    ['Fa','TA','Gd','Ex'],\n",
    "    #GarageFinish\n",
    "    ['None','Unf','RFn','Fin'],\n",
    "    #GarageQual\n",
    "    ['None','Po','Fa','TA','Gd','Ex'],\n",
    "    #GarageCond\n",
    "    ['None','Po','Fa','TA','Gd','Ex']]\n",
    "\n",
    "#for i in range(len(orders)):\n",
    "#    dataset.loc[ordinal_features[i]] = OrdinalEncoder(categories = {0:orders[i]}).fit_transform(dataset.loc[ordinal_features[i]].values.reshape(-1,1))\n",
    "for i in range(len(orders)):\n",
    "  dataset[ordinal_features[i]] = OrdinalEncoder(categories = {0:orders[i]}).fit_transform(\\\n",
    "                                                                                  dataset[ordinal_features[i]].values.reshape(-1,1))"
   ]
  },
  {
   "cell_type": "code",
   "execution_count": 11,
   "metadata": {},
   "outputs": [],
   "source": [
    "dataset = pd.get_dummies(dataset)"
   ]
  },
  {
   "cell_type": "markdown",
   "metadata": {
    "colab_type": "text",
    "id": "qb_vcgm3qZKW"
   },
   "source": [
    "## Splitting the dataset into the Training set and Test set"
   ]
  },
  {
   "cell_type": "code",
   "execution_count": 12,
   "metadata": {},
   "outputs": [],
   "source": [
    "train_dataset = dataset[:train_dataset.shape[0]]\n",
    "test_dataset = dataset[train_dataset.shape[0]:].drop('SalePrice', axis=1)"
   ]
  },
  {
   "cell_type": "code",
   "execution_count": 13,
   "metadata": {},
   "outputs": [],
   "source": [
    "train_dataset = train_dataset.drop(np.where(train_dataset['GrLivArea']>4000)[0])"
   ]
  },
  {
   "cell_type": "markdown",
   "metadata": {},
   "source": [
    "get_dummies is used instead of OneHotEncoder to preserve the X as dataframe"
   ]
  },
  {
   "cell_type": "code",
   "execution_count": 14,
   "metadata": {},
   "outputs": [],
   "source": [
    "X = train_dataset.drop('SalePrice', axis=1).values\n",
    "y = np.log1p(train_dataset['SalePrice'])"
   ]
  },
  {
   "cell_type": "code",
   "execution_count": 15,
   "metadata": {},
   "outputs": [],
   "source": [
    "feature_list = list(train_dataset.columns)\n",
    "feature_list.remove('SalePrice')"
   ]
  },
  {
   "cell_type": "code",
   "execution_count": 16,
   "metadata": {
    "colab": {},
    "colab_type": "code",
    "id": "pXgA6CzlqbCl"
   },
   "outputs": [],
   "source": [
    "X_train, X_test, y_train, y_test = train_test_split(X, y, test_size = 0.2, random_state = 1)"
   ]
  },
  {
   "cell_type": "markdown",
   "metadata": {},
   "source": [
    "# Training the Multiple Linear Regression model"
   ]
  },
  {
   "cell_type": "code",
   "execution_count": 17,
   "metadata": {},
   "outputs": [
    {
     "data": {
      "text/plain": [
       "array([[5.0000e+00, 6.5000e+01, 1.2257e+04, ..., 0.0000e+00, 1.0000e+00,\n",
       "        0.0000e+00],\n",
       "       [1.3000e+01, 2.4000e+01, 1.9500e+03, ..., 0.0000e+00, 1.0000e+00,\n",
       "        0.0000e+00],\n",
       "       [0.0000e+00, 7.2000e+01, 1.0011e+04, ..., 0.0000e+00, 1.0000e+00,\n",
       "        0.0000e+00],\n",
       "       ...,\n",
       "       [4.0000e+00, 5.0000e+01, 6.0000e+03, ..., 0.0000e+00, 1.0000e+00,\n",
       "        0.0000e+00],\n",
       "       [1.3000e+01, 2.1000e+01, 1.6800e+03, ..., 0.0000e+00, 1.0000e+00,\n",
       "        0.0000e+00],\n",
       "       [1.0000e+00, 5.0000e+01, 6.0000e+03, ..., 0.0000e+00, 1.0000e+00,\n",
       "        0.0000e+00]])"
      ]
     },
     "execution_count": 17,
     "metadata": {},
     "output_type": "execute_result"
    }
   ],
   "source": [
    "X_train"
   ]
  },
  {
   "cell_type": "code",
   "execution_count": 18,
   "metadata": {},
   "outputs": [
    {
     "data": {
      "text/plain": [
       "LinearRegression()"
      ]
     },
     "execution_count": 18,
     "metadata": {},
     "output_type": "execute_result"
    }
   ],
   "source": [
    "regressor1 = LinearRegression()\n",
    "regressor1.fit(X_train, y_train)"
   ]
  },
  {
   "cell_type": "code",
   "execution_count": 19,
   "metadata": {},
   "outputs": [],
   "source": [
    "y_pred1 = regressor1.predict(X_test)"
   ]
  },
  {
   "cell_type": "code",
   "execution_count": 20,
   "metadata": {},
   "outputs": [],
   "source": [
    "sq_error1 = (y_test-y_pred1)**2"
   ]
  },
  {
   "cell_type": "code",
   "execution_count": 21,
   "metadata": {},
   "outputs": [
    {
     "data": {
      "text/plain": [
       "77.93563207679517"
      ]
     },
     "execution_count": 21,
     "metadata": {},
     "output_type": "execute_result"
    }
   ],
   "source": [
    "msq_error1 = sq_error1.mean()\n",
    "msq_error1"
   ]
  },
  {
   "cell_type": "markdown",
   "metadata": {},
   "source": [
    "# Training the Polynomial Regression models"
   ]
  },
  {
   "cell_type": "code",
   "execution_count": 22,
   "metadata": {},
   "outputs": [
    {
     "data": {
      "text/plain": [
       "LinearRegression()"
      ]
     },
     "execution_count": 22,
     "metadata": {},
     "output_type": "execute_result"
    }
   ],
   "source": [
    "poly_reg2 = PolynomialFeatures(degree = 2)\n",
    "X_poly2 = poly_reg2.fit_transform(X_train)\n",
    "lin_reg_2 = LinearRegression()\n",
    "lin_reg_2.fit(X_poly2, y_train)"
   ]
  },
  {
   "cell_type": "code",
   "execution_count": 23,
   "metadata": {},
   "outputs": [],
   "source": [
    "y_pred2 = lin_reg_2.predict(poly_reg2.fit_transform(X_test))"
   ]
  },
  {
   "cell_type": "code",
   "execution_count": 24,
   "metadata": {},
   "outputs": [],
   "source": [
    "sq_error2 = (y_test-y_pred2)**2"
   ]
  },
  {
   "cell_type": "code",
   "execution_count": 25,
   "metadata": {},
   "outputs": [
    {
     "data": {
      "text/plain": [
       "1.2533378982270478"
      ]
     },
     "execution_count": 25,
     "metadata": {},
     "output_type": "execute_result"
    }
   ],
   "source": [
    "msq_error2 = sq_error2.mean()\n",
    "msq_error2"
   ]
  },
  {
   "cell_type": "markdown",
   "metadata": {},
   "source": [
    "# Training the Decision Tree Regression Model"
   ]
  },
  {
   "cell_type": "code",
   "execution_count": 26,
   "metadata": {},
   "outputs": [
    {
     "data": {
      "text/plain": [
       "DecisionTreeRegressor(random_state=0)"
      ]
     },
     "execution_count": 26,
     "metadata": {},
     "output_type": "execute_result"
    }
   ],
   "source": [
    "regressor5 = DecisionTreeRegressor(random_state = 0)\n",
    "regressor5.fit(X_train, y_train)"
   ]
  },
  {
   "cell_type": "code",
   "execution_count": 27,
   "metadata": {},
   "outputs": [],
   "source": [
    "y_pred5 = regressor5.predict(X_test)"
   ]
  },
  {
   "cell_type": "code",
   "execution_count": 28,
   "metadata": {},
   "outputs": [],
   "source": [
    "sq_error5 = (y_test-y_pred5)**2"
   ]
  },
  {
   "cell_type": "code",
   "execution_count": 29,
   "metadata": {},
   "outputs": [
    {
     "data": {
      "text/plain": [
       "0.04794947554760251"
      ]
     },
     "execution_count": 29,
     "metadata": {},
     "output_type": "execute_result"
    }
   ],
   "source": [
    "msq_error5 = sq_error5.mean()\n",
    "msq_error5"
   ]
  },
  {
   "cell_type": "markdown",
   "metadata": {},
   "source": [
    "# Training the Random Forest Regression model"
   ]
  },
  {
   "cell_type": "code",
   "execution_count": 30,
   "metadata": {},
   "outputs": [
    {
     "data": {
      "text/plain": [
       "RandomForestRegressor(random_state=0)"
      ]
     },
     "execution_count": 30,
     "metadata": {},
     "output_type": "execute_result"
    }
   ],
   "source": [
    "regressor6 = RandomForestRegressor(n_estimators = 100, random_state = 0)\n",
    "regressor6.fit(X_train, y_train)"
   ]
  },
  {
   "cell_type": "code",
   "execution_count": 31,
   "metadata": {},
   "outputs": [],
   "source": [
    "y_pred6 = regressor6.predict(X_test)"
   ]
  },
  {
   "cell_type": "code",
   "execution_count": 32,
   "metadata": {},
   "outputs": [],
   "source": [
    "sq_error6 = (y_test-y_pred6)**2"
   ]
  },
  {
   "cell_type": "code",
   "execution_count": 33,
   "metadata": {},
   "outputs": [
    {
     "data": {
      "text/plain": [
       "0.01827567201737378"
      ]
     },
     "execution_count": 33,
     "metadata": {},
     "output_type": "execute_result"
    }
   ],
   "source": [
    "msq_error6 = sq_error6.mean()\n",
    "msq_error6"
   ]
  },
  {
   "cell_type": "code",
   "execution_count": 34,
   "metadata": {},
   "outputs": [
    {
     "name": "stdout",
     "output_type": "stream",
     "text": [
      "Variable: OverallQual          Importance: 0.535964\n",
      "Variable: GrLivArea            Importance: 0.12457\n",
      "Variable: TotalBsmtSF          Importance: 0.043346\n",
      "Variable: GarageCars           Importance: 0.03467\n",
      "Variable: GarageArea           Importance: 0.027628\n",
      "Variable: YearBuilt            Importance: 0.021172\n",
      "Variable: 1stFlrSF             Importance: 0.020405\n",
      "Variable: BsmtFinSF1           Importance: 0.018113\n",
      "Variable: LotArea              Importance: 0.014119\n",
      "Variable: YearRemodAdd         Importance: 0.01014\n",
      "Variable: OverallCond          Importance: 0.009744\n",
      "Variable: LotFrontage          Importance: 0.009221\n",
      "Variable: GarageYrBlt          Importance: 0.00849\n",
      "Variable: FireplaceQu          Importance: 0.007921\n",
      "Variable: CentralAir           Importance: 0.007635\n",
      "Variable: BsmtFinType1         Importance: 0.005686\n",
      "Variable: WoodDeckSF           Importance: 0.005465\n",
      "Variable: BsmtUnfSF            Importance: 0.004815\n",
      "Variable: OpenPorchSF          Importance: 0.004346\n",
      "Variable: GarageFinish         Importance: 0.004187\n",
      "Variable: MSZoning_RM          Importance: 0.004127\n",
      "Variable: 2ndFlrSF             Importance: 0.003804\n",
      "Variable: BsmtQual             Importance: 0.003582\n",
      "Variable: MoSold               Importance: 0.003544\n",
      "Variable: KitchenQual          Importance: 0.003484\n",
      "Variable: GarageType_Detchd    Importance: 0.002673\n",
      "Variable: Fireplaces           Importance: 0.00255\n",
      "Variable: MasVnrArea           Importance: 0.002393\n",
      "Variable: LotShape             Importance: 0.002274\n",
      "Variable: MSZoning_C (all)     Importance: 0.002204\n",
      "Variable: TotRmsAbvGrd         Importance: 0.002113\n",
      "Variable: MSSubClass           Importance: 0.001991\n",
      "Variable: BsmtExposure         Importance: 0.001952\n",
      "Variable: HeatingQC            Importance: 0.001871\n",
      "Variable: Functional           Importance: 0.001695\n",
      "Variable: EnclosedPorch        Importance: 0.001636\n",
      "Variable: ExterQual            Importance: 0.001615\n",
      "Variable: YrSold               Importance: 0.001556\n",
      "Variable: FullBath             Importance: 0.001366\n",
      "Variable: GarageQual           Importance: 0.001333\n",
      "Variable: BedroomAbvGr         Importance: 0.001299\n",
      "Variable: GarageCond           Importance: 0.001273\n",
      "Variable: GarageType_Attchd    Importance: 0.001101\n",
      "Variable: BsmtFullBath         Importance: 0.000939\n",
      "Variable: PavedDrive           Importance: 0.000929\n",
      "Variable: SaleCondition_Abnorml Importance: 0.000882\n",
      "Variable: LandSlope            Importance: 0.000791\n",
      "Variable: SaleCondition_Family Importance: 0.00078\n",
      "Variable: MSZoning_RL          Importance: 0.000775\n",
      "Variable: Neighborhood_Edwards Importance: 0.000734\n",
      "Variable: BldgType_1Fam        Importance: 0.000727\n",
      "Variable: Exterior2nd_Brk Cmn  Importance: 0.00071\n",
      "Variable: SaleCondition_Normal Importance: 0.000664\n",
      "Variable: Exterior2nd_VinylSd  Importance: 0.000662\n",
      "Variable: BsmtCond             Importance: 0.000647\n",
      "Variable: Neighborhood_OldTown Importance: 0.000599\n",
      "Variable: Exterior1st_BrkComm  Importance: 0.000598\n",
      "Variable: Heating_Grav         Importance: 0.00059\n",
      "Variable: Exterior1st_VinylSd  Importance: 0.000578\n",
      "Variable: KitchenAbvGr         Importance: 0.000564\n",
      "Variable: HalfBath             Importance: 0.000561\n",
      "Variable: ScreenPorch          Importance: 0.000547\n",
      "Variable: Neighborhood_Crawfor Importance: 0.000531\n",
      "Variable: SaleType_WD          Importance: 0.000501\n",
      "Variable: RoofStyle_Gable      Importance: 0.000469\n",
      "Variable: Condition1_Norm      Importance: 0.000468\n",
      "Variable: Foundation_BrkTil    Importance: 0.000466\n",
      "Variable: Foundation_PConc     Importance: 0.000425\n",
      "Variable: ExterCond_TA         Importance: 0.000398\n",
      "Variable: Neighborhood_Sawyer  Importance: 0.000392\n",
      "Variable: Neighborhood_IDOTRR  Importance: 0.000391\n",
      "Variable: LandContour_Lvl      Importance: 0.000378\n",
      "Variable: BsmtFinSF2           Importance: 0.00037\n",
      "Variable: Foundation_CBlock    Importance: 0.000368\n",
      "Variable: LotConfig_Inside     Importance: 0.000359\n",
      "Variable: BsmtFinType2         Importance: 0.000356\n",
      "Variable: HouseStyle_1.5Fin    Importance: 0.000353\n",
      "Variable: LotConfig_Corner     Importance: 0.000339\n",
      "Variable: Electrical_SBrkr     Importance: 0.000337\n",
      "Variable: Condition1_Artery    Importance: 0.000306\n",
      "Variable: MasVnrType_BrkFace   Importance: 0.000303\n",
      "Variable: ExterCond_Gd         Importance: 0.000303\n",
      "Variable: MasVnrType_None      Importance: 0.0003\n",
      "Variable: Neighborhood_NAmes   Importance: 0.000294\n",
      "Variable: RoofStyle_Hip        Importance: 0.000284\n",
      "Variable: HouseStyle_1Story    Importance: 0.000277\n",
      "Variable: Exterior1st_MetalSd  Importance: 0.000273\n",
      "Variable: Neighborhood_CollgCr Importance: 0.000254\n",
      "Variable: Exterior2nd_MetalSd  Importance: 0.000246\n",
      "Variable: Exterior1st_BrkFace  Importance: 0.000241\n",
      "Variable: MasVnrType_Stone     Importance: 0.000241\n",
      "Variable: Exterior1st_Wd Sdng  Importance: 0.00024\n",
      "Variable: Condition1_Feedr     Importance: 0.000229\n",
      "Variable: Electrical_FuseA     Importance: 0.000227\n",
      "Variable: ExterCond_Fa         Importance: 0.000219\n",
      "Variable: GarageType_None      Importance: 0.000216\n",
      "Variable: Exterior2nd_HdBoard  Importance: 0.0002\n",
      "Variable: RoofStyle_Flat       Importance: 0.000197\n",
      "Variable: BsmtHalfBath         Importance: 0.000194\n",
      "Variable: LandContour_Bnk      Importance: 0.000192\n",
      "Variable: LotConfig_CulDSac    Importance: 0.000164\n",
      "Variable: Neighborhood_ClearCr Importance: 0.000164\n",
      "Variable: MiscVal              Importance: 0.000163\n",
      "Variable: Exterior1st_HdBoard  Importance: 0.000162\n",
      "Variable: Exterior1st_CemntBd  Importance: 0.00016\n",
      "Variable: Condition1_RRAe      Importance: 0.000157\n",
      "Variable: Exterior2nd_Plywood  Importance: 0.000154\n",
      "Variable: Exterior2nd_Wd Sdng  Importance: 0.000147\n",
      "Variable: Exterior1st_Plywood  Importance: 0.000145\n",
      "Variable: Neighborhood_BrkSide Importance: 0.000143\n",
      "Variable: Neighborhood_NridgHt Importance: 0.000143\n",
      "Variable: LandContour_HLS      Importance: 0.000138\n",
      "Variable: Heating_GasA         Importance: 0.000134\n",
      "Variable: Neighborhood_NWAmes  Importance: 0.000131\n",
      "Variable: HouseStyle_SLvl      Importance: 0.000124\n",
      "Variable: Neighborhood_MeadowV Importance: 0.000117\n",
      "Variable: Neighborhood_Somerst Importance: 0.000113\n",
      "Variable: SaleCondition_Partial Importance: 0.000111\n",
      "Variable: HouseStyle_2Story    Importance: 0.000105\n",
      "Variable: GarageType_BuiltIn   Importance: 0.000102\n",
      "Variable: SaleType_COD         Importance: 9.9e-05\n",
      "Variable: Electrical_FuseF     Importance: 9.8e-05\n",
      "Variable: BldgType_Duplex      Importance: 9.5e-05\n",
      "Variable: Neighborhood_Gilbert Importance: 9e-05\n",
      "Variable: Neighborhood_StoneBr Importance: 8.9e-05\n",
      "Variable: BldgType_TwnhsE      Importance: 8.8e-05\n",
      "Variable: Exterior1st_AsbShng  Importance: 8.1e-05\n",
      "Variable: BldgType_Twnhs       Importance: 7.9e-05\n",
      "Variable: Neighborhood_Mitchel Importance: 7.6e-05\n",
      "Variable: Condition1_RRAn      Importance: 7.3e-05\n",
      "Variable: Exterior2nd_AsbShng  Importance: 7.2e-05\n",
      "Variable: MSZoning_FV          Importance: 6.9e-05\n",
      "Variable: LowQualFinSF         Importance: 6.8e-05\n",
      "Variable: Neighborhood_Timber  Importance: 6.6e-05\n",
      "Variable: Condition2_Norm      Importance: 6.6e-05\n",
      "Variable: Exterior2nd_CmentBd  Importance: 6.3e-05\n",
      "Variable: Condition1_PosA      Importance: 6e-05\n",
      "Variable: Exterior2nd_Stucco   Importance: 5.9e-05\n",
      "Variable: SaleType_New         Importance: 5.9e-05\n",
      "Variable: LotConfig_FR2        Importance: 5.7e-05\n",
      "Variable: RoofMatl_Tar&Grv     Importance: 5.4e-05\n",
      "Variable: Neighborhood_NoRidge Importance: 4.9e-05\n",
      "Variable: Neighborhood_SawyerW Importance: 4.8e-05\n",
      "Variable: RoofStyle_Gambrel    Importance: 4.5e-05\n",
      "Variable: Exterior2nd_BrkFace  Importance: 4.5e-05\n",
      "Variable: Street_Pave          Importance: 4.4e-05\n",
      "Variable: 3SsnPorch            Importance: 4.3e-05\n",
      "Variable: Exterior1st_Stucco   Importance: 4.3e-05\n",
      "Variable: Exterior2nd_Wd Shng  Importance: 4.3e-05\n",
      "Variable: Neighborhood_SWISU   Importance: 4.2e-05\n",
      "Variable: LandContour_Low      Importance: 4.1e-05\n",
      "Variable: Electrical_Mix       Importance: 3.9e-05\n",
      "Variable: Heating_GasW         Importance: 3.7e-05\n",
      "Variable: PoolArea             Importance: 3.6e-05\n",
      "Variable: Exterior1st_WdShing  Importance: 3.4e-05\n",
      "Variable: Heating_OthW         Importance: 3.4e-05\n",
      "Variable: SaleCondition_Alloca Importance: 3.4e-05\n",
      "Variable: HouseStyle_2.5Unf    Importance: 3.3e-05\n",
      "Variable: Condition1_PosN      Importance: 3.1e-05\n",
      "Variable: HouseStyle_1.5Unf    Importance: 3e-05\n",
      "Variable: Condition2_Feedr     Importance: 2.6e-05\n",
      "Variable: RoofMatl_CompShg     Importance: 2.6e-05\n",
      "Variable: Exterior1st_AsphShn  Importance: 2.5e-05\n",
      "Variable: MasVnrType_BrkCmn    Importance: 2.4e-05\n",
      "Variable: Exterior2nd_Stone    Importance: 2.3e-05\n",
      "Variable: Neighborhood_Veenker Importance: 2.2e-05\n",
      "Variable: SaleType_ConLD       Importance: 2.1e-05\n",
      "Variable: HouseStyle_2.5Fin    Importance: 1.9e-05\n",
      "Variable: HouseStyle_SFoyer    Importance: 1.8e-05\n",
      "Variable: BldgType_2fmCon      Importance: 1.7e-05\n",
      "Variable: Foundation_Slab      Importance: 1.6e-05\n",
      "Variable: Neighborhood_Blmngtn Importance: 1.4e-05\n",
      "Variable: Condition1_RRNn      Importance: 1.4e-05\n",
      "Variable: SaleType_CWD         Importance: 1.4e-05\n",
      "Variable: MSZoning_RH          Importance: 1.2e-05\n",
      "Variable: Neighborhood_BrDale  Importance: 1.2e-05\n",
      "Variable: GarageType_CarPort   Importance: 1.2e-05\n",
      "Variable: Condition2_RRNn      Importance: 9e-06\n",
      "Variable: Exterior1st_Stone    Importance: 8e-06\n",
      "Variable: Heating_Wall         Importance: 8e-06\n",
      "Variable: GarageType_Basment   Importance: 8e-06\n",
      "Variable: SaleType_Oth         Importance: 7e-06\n",
      "Variable: Neighborhood_NPkVill Importance: 6e-06\n",
      "Variable: GarageType_2Types    Importance: 6e-06\n",
      "Variable: SaleType_ConLI       Importance: 6e-06\n",
      "Variable: SaleType_ConLw       Importance: 6e-06\n",
      "Variable: LotConfig_FR3        Importance: 5e-06\n",
      "Variable: Condition2_PosA      Importance: 5e-06\n",
      "Variable: Exterior2nd_AsphShn  Importance: 5e-06\n",
      "Variable: Heating_Floor        Importance: 5e-06\n",
      "Variable: RoofStyle_Mansard    Importance: 4e-06\n",
      "Variable: SaleType_Con         Importance: 4e-06\n",
      "Variable: RoofMatl_WdShngl     Importance: 3e-06\n",
      "Variable: Exterior2nd_CBlock   Importance: 3e-06\n",
      "Variable: Exterior2nd_ImStucc  Importance: 2e-06\n",
      "Variable: Exterior2nd_Other    Importance: 2e-06\n",
      "Variable: Foundation_Wood      Importance: 2e-06\n",
      "Variable: Street_Grvl          Importance: 1e-06\n",
      "Variable: Condition1_RRNe      Importance: 1e-06\n",
      "Variable: RoofMatl_WdShake     Importance: 1e-06\n",
      "Variable: Exterior1st_CBlock   Importance: 1e-06\n",
      "Variable: Foundation_Stone     Importance: 1e-06\n",
      "Variable: Neighborhood_Blueste Importance: 0.0\n",
      "Variable: Condition2_Artery    Importance: 0.0\n",
      "Variable: Condition2_PosN      Importance: 0.0\n",
      "Variable: Condition2_RRAe      Importance: 0.0\n",
      "Variable: Condition2_RRAn      Importance: 0.0\n",
      "Variable: RoofStyle_Shed       Importance: 0.0\n",
      "Variable: RoofMatl_ClyTile     Importance: 0.0\n",
      "Variable: RoofMatl_Membran     Importance: 0.0\n",
      "Variable: RoofMatl_Metal       Importance: 0.0\n",
      "Variable: RoofMatl_Roll        Importance: 0.0\n",
      "Variable: Exterior1st_ImStucc  Importance: 0.0\n",
      "Variable: ExterCond_Ex         Importance: 0.0\n",
      "Variable: ExterCond_Po         Importance: 0.0\n",
      "Variable: Electrical_FuseP     Importance: 0.0\n",
      "Variable: SaleCondition_AdjLand Importance: 0.0\n"
     ]
    }
   ],
   "source": [
    "importances = list(regressor6.feature_importances_)\n",
    "feature_importances = [(feature, round(importance, 6)) for feature, importance in zip(feature_list, importances)]\n",
    "feature_importances = sorted(feature_importances, key = lambda x: x[1], reverse = True)\n",
    "[print('Variable: {:20} Importance: {}'.format(*pair)) for pair in feature_importances];"
   ]
  },
  {
   "cell_type": "markdown",
   "metadata": {},
   "source": [
    "## Training Random Forest Regression model with fewer variables"
   ]
  },
  {
   "cell_type": "code",
   "execution_count": 35,
   "metadata": {},
   "outputs": [
    {
     "data": {
      "text/plain": [
       "RandomForestRegressor(random_state=0)"
      ]
     },
     "execution_count": 35,
     "metadata": {},
     "output_type": "execute_result"
    }
   ],
   "source": [
    "feature_importances = regressor6.feature_importances_[regressor6.feature_importances_ > np.percentile(regressor6.feature_importances_, 80)]\n",
    "important_features = [feature_list[np.where(regressor6.feature_importances_ == f_i)[0][0]] for f_i in feature_importances]\n",
    "\n",
    "X_imp = train_dataset.loc[:, important_features].values\n",
    "test_imp = test_dataset.loc[:, important_features].values\n",
    "X_train_, X_test_, y_train_, y_test_ = train_test_split(X_imp, y, test_size = 0.2, random_state = 1)\n",
    "regressor7 = RandomForestRegressor(n_estimators = 100, random_state = 0)\n",
    "regressor7.fit(X_train_, y_train_)"
   ]
  },
  {
   "cell_type": "code",
   "execution_count": 36,
   "metadata": {},
   "outputs": [],
   "source": [
    "y_pred7 = regressor7.predict(X_test_)"
   ]
  },
  {
   "cell_type": "code",
   "execution_count": 37,
   "metadata": {},
   "outputs": [],
   "source": [
    "sq_error7 = (y_test-y_pred7)**2"
   ]
  },
  {
   "cell_type": "code",
   "execution_count": 38,
   "metadata": {},
   "outputs": [
    {
     "data": {
      "text/plain": [
       "0.017809316535872324"
      ]
     },
     "execution_count": 38,
     "metadata": {},
     "output_type": "execute_result"
    }
   ],
   "source": [
    "msq_error7 = sq_error7.mean()\n",
    "msq_error7"
   ]
  },
  {
   "cell_type": "markdown",
   "metadata": {},
   "source": [
    "## Training simple Linear Regression Models"
   ]
  },
  {
   "cell_type": "code",
   "execution_count": 39,
   "metadata": {},
   "outputs": [
    {
     "data": {
      "text/plain": [
       "LinearRegression()"
      ]
     },
     "execution_count": 39,
     "metadata": {},
     "output_type": "execute_result"
    }
   ],
   "source": [
    "regressor8 = LinearRegression()\n",
    "regressor8.fit(X_train[:,6].reshape(-1,1), y_train)"
   ]
  },
  {
   "cell_type": "code",
   "execution_count": 40,
   "metadata": {},
   "outputs": [],
   "source": [
    "y_pred8 = regressor8.predict(X_test[:,6].reshape(-1,1))"
   ]
  },
  {
   "cell_type": "code",
   "execution_count": 41,
   "metadata": {},
   "outputs": [],
   "source": [
    "sq_error8 = (y_test-y_pred8)**2"
   ]
  },
  {
   "cell_type": "code",
   "execution_count": 42,
   "metadata": {},
   "outputs": [
    {
     "data": {
      "text/plain": [
       "0.1738702249785379"
      ]
     },
     "execution_count": 42,
     "metadata": {},
     "output_type": "execute_result"
    }
   ],
   "source": [
    "msq_error8 = sq_error8.mean()\n",
    "msq_error8"
   ]
  },
  {
   "cell_type": "code",
   "execution_count": 43,
   "metadata": {},
   "outputs": [
    {
     "data": {
      "text/plain": [
       "LinearRegression()"
      ]
     },
     "execution_count": 43,
     "metadata": {},
     "output_type": "execute_result"
    }
   ],
   "source": [
    "regressor9 = LinearRegression()\n",
    "regressor9.fit(X_train[:,0].reshape(-1,1), y_train)"
   ]
  },
  {
   "cell_type": "code",
   "execution_count": 44,
   "metadata": {},
   "outputs": [],
   "source": [
    "y_pred9 = regressor9.predict(X_test[:,0].reshape(-1,1))"
   ]
  },
  {
   "cell_type": "code",
   "execution_count": 45,
   "metadata": {},
   "outputs": [],
   "source": [
    "sq_error9 = (y_test-y_pred9)**2"
   ]
  },
  {
   "cell_type": "code",
   "execution_count": 46,
   "metadata": {},
   "outputs": [
    {
     "data": {
      "text/plain": [
       "0.17247078729776535"
      ]
     },
     "execution_count": 46,
     "metadata": {},
     "output_type": "execute_result"
    }
   ],
   "source": [
    "msq_error9 = sq_error9.mean()\n",
    "msq_error9"
   ]
  },
  {
   "cell_type": "code",
   "execution_count": 47,
   "metadata": {},
   "outputs": [
    {
     "data": {
      "text/plain": [
       "LinearRegression()"
      ]
     },
     "execution_count": 47,
     "metadata": {},
     "output_type": "execute_result"
    }
   ],
   "source": [
    "regressor10 = LinearRegression()\n",
    "regressor10.fit(X_train[:,17].reshape(-1,1), y_train)"
   ]
  },
  {
   "cell_type": "code",
   "execution_count": 48,
   "metadata": {},
   "outputs": [],
   "source": [
    "y_pred10 = regressor10.predict(X_test[:,17].reshape(-1,1))"
   ]
  },
  {
   "cell_type": "code",
   "execution_count": 49,
   "metadata": {},
   "outputs": [],
   "source": [
    "sq_error10 = (y_test-y_pred10)**2"
   ]
  },
  {
   "cell_type": "code",
   "execution_count": 50,
   "metadata": {},
   "outputs": [
    {
     "data": {
      "text/plain": [
       "0.1727054273443944"
      ]
     },
     "execution_count": 50,
     "metadata": {},
     "output_type": "execute_result"
    }
   ],
   "source": [
    "msq_error10 = sq_error10.mean()\n",
    "msq_error10"
   ]
  },
  {
   "cell_type": "code",
   "execution_count": 54,
   "metadata": {},
   "outputs": [],
   "source": [
    "rf = RandomForestRegressor()\n",
    "sale_price = rf.fit(X_train_,y_train_)\n",
    "\n",
    "test = test_imp\n",
    "sale_price = rf.predict(test)\n",
    "\n",
    "sale_price = np.exp(np.array(sale_price))"
   ]
  },
  {
   "cell_type": "code",
   "execution_count": 55,
   "metadata": {},
   "outputs": [
    {
     "data": {
      "text/html": [
       "<div>\n",
       "<style scoped>\n",
       "    .dataframe tbody tr th:only-of-type {\n",
       "        vertical-align: middle;\n",
       "    }\n",
       "\n",
       "    .dataframe tbody tr th {\n",
       "        vertical-align: top;\n",
       "    }\n",
       "\n",
       "    .dataframe thead th {\n",
       "        text-align: right;\n",
       "    }\n",
       "</style>\n",
       "<table border=\"1\" class=\"dataframe\">\n",
       "  <thead>\n",
       "    <tr style=\"text-align: right;\">\n",
       "      <th></th>\n",
       "      <th>Id</th>\n",
       "      <th>SalePrice</th>\n",
       "    </tr>\n",
       "  </thead>\n",
       "  <tbody>\n",
       "    <tr>\n",
       "      <th>0</th>\n",
       "      <td>1461</td>\n",
       "      <td>123563.752583</td>\n",
       "    </tr>\n",
       "    <tr>\n",
       "      <th>1</th>\n",
       "      <td>1462</td>\n",
       "      <td>150328.386884</td>\n",
       "    </tr>\n",
       "    <tr>\n",
       "      <th>2</th>\n",
       "      <td>1463</td>\n",
       "      <td>182119.178453</td>\n",
       "    </tr>\n",
       "    <tr>\n",
       "      <th>3</th>\n",
       "      <td>1464</td>\n",
       "      <td>180862.226055</td>\n",
       "    </tr>\n",
       "    <tr>\n",
       "      <th>4</th>\n",
       "      <td>1465</td>\n",
       "      <td>196470.445429</td>\n",
       "    </tr>\n",
       "  </tbody>\n",
       "</table>\n",
       "</div>"
      ],
      "text/plain": [
       "     Id      SalePrice\n",
       "0  1461  123563.752583\n",
       "1  1462  150328.386884\n",
       "2  1463  182119.178453\n",
       "3  1464  180862.226055\n",
       "4  1465  196470.445429"
      ]
     },
     "execution_count": 55,
     "metadata": {},
     "output_type": "execute_result"
    }
   ],
   "source": [
    "submission = pd.DataFrame(sale_price, columns = ['SalePrice'])\n",
    "submission = pd.concat([test_id, submission], axis=1)\n",
    "\n",
    "submission.head()"
   ]
  },
  {
   "cell_type": "code",
   "execution_count": 56,
   "metadata": {},
   "outputs": [],
   "source": [
    "submission.to_csv('Housing Prices (Test).csv', index=False)"
   ]
  },
  {
   "cell_type": "code",
   "execution_count": null,
   "metadata": {},
   "outputs": [],
   "source": []
  }
 ],
 "metadata": {
  "colab": {
   "authorship_tag": "ABX9TyNxDRfLvKVBN9HjXcmlURF3",
   "collapsed_sections": [],
   "name": "data_preprocessing_tools.ipynb",
   "provenance": [],
   "toc_visible": true
  },
  "kernelspec": {
   "display_name": "Python 3",
   "language": "python",
   "name": "python3"
  },
  "language_info": {
   "codemirror_mode": {
    "name": "ipython",
    "version": 3
   },
   "file_extension": ".py",
   "mimetype": "text/x-python",
   "name": "python",
   "nbconvert_exporter": "python",
   "pygments_lexer": "ipython3",
   "version": "3.8.5"
  }
 },
 "nbformat": 4,
 "nbformat_minor": 1
}
