{
 "cells": [
  {
   "cell_type": "markdown",
   "metadata": {
    "colab_type": "text",
    "id": "lP6JLo1tGNBg"
   },
   "source": [
    "# Artificial Neural Network"
   ]
  },
  {
   "cell_type": "markdown",
   "metadata": {
    "colab_type": "text",
    "id": "gWZyYmS_UE_L"
   },
   "source": [
    "### Importing the libraries"
   ]
  },
  {
   "cell_type": "code",
   "execution_count": 1,
   "metadata": {
    "colab": {},
    "colab_type": "code",
    "id": "MxkJoQBkUIHC"
   },
   "outputs": [],
   "source": [
    "import numpy as np\n",
    "import pandas as pd\n",
    "import tensorflow as tf"
   ]
  },
  {
   "cell_type": "markdown",
   "metadata": {
    "colab_type": "text",
    "id": "1E0Q3aoKUCRX"
   },
   "source": [
    "## Part 1 - Data Preprocessing"
   ]
  },
  {
   "cell_type": "markdown",
   "metadata": {
    "colab_type": "text",
    "id": "cKWAkFVGUU0Z"
   },
   "source": [
    "### Importing the dataset"
   ]
  },
  {
   "cell_type": "code",
   "execution_count": 2,
   "metadata": {
    "colab": {},
    "colab_type": "code",
    "id": "MXUkhkMfU4wq"
   },
   "outputs": [],
   "source": [
    "dataset = pd.read_csv('creditcard.csv')\n",
    "X = dataset.iloc[:, 3:-1].values\n",
    "y = dataset.iloc[:, -1].values"
   ]
  },
  {
   "cell_type": "code",
   "execution_count": 3,
   "metadata": {
    "colab": {
     "base_uri": "https://localhost:8080/",
     "height": 137
    },
    "colab_type": "code",
    "executionInfo": {
     "elapsed": 2396,
     "status": "ok",
     "timestamp": 1590257449961,
     "user": {
      "displayName": "Hadelin de Ponteves",
      "photoUrl": "https://lh3.googleusercontent.com/a-/AOh14GhEuXdT7eQweUmRPW8_laJuPggSK6hfvpl5a6WBaA=s64",
      "userId": "15047218817161520419"
     },
     "user_tz": -240
    },
    "id": "VYP9cQTWbzuI",
    "outputId": "797e7a64-9bac-436a-8c9c-94437e5e7587"
   },
   "outputs": [
    {
     "name": "stdout",
     "output_type": "stream",
     "text": [
      "[[ 2.53634674e+00  1.37815522e+00 -3.38320770e-01 ...  1.33558377e-01\n",
      "  -2.10530535e-02  1.49620000e+02]\n",
      " [ 1.66480113e-01  4.48154078e-01  6.00176493e-02 ... -8.98309914e-03\n",
      "   1.47241692e-02  2.69000000e+00]\n",
      " [ 1.77320934e+00  3.79779593e-01 -5.03198133e-01 ... -5.53527940e-02\n",
      "  -5.97518406e-02  3.78660000e+02]\n",
      " ...\n",
      " [-3.24963981e+00 -5.57828125e-01  2.63051512e+00 ...  4.45477214e-03\n",
      "  -2.65608286e-02  6.78800000e+01]\n",
      " [ 7.02510230e-01  6.89799168e-01 -3.77961134e-01 ...  1.08820735e-01\n",
      "   1.04532821e-01  1.00000000e+01]\n",
      " [ 7.03337367e-01 -5.06271240e-01 -1.25456788e-02 ... -2.41530880e-03\n",
      "   1.36489143e-02  2.17000000e+02]]\n"
     ]
    }
   ],
   "source": [
    "print(X)"
   ]
  },
  {
   "cell_type": "code",
   "execution_count": 4,
   "metadata": {
    "colab": {
     "base_uri": "https://localhost:8080/",
     "height": 34
    },
    "colab_type": "code",
    "executionInfo": {
     "elapsed": 2391,
     "status": "ok",
     "timestamp": 1590257449961,
     "user": {
      "displayName": "Hadelin de Ponteves",
      "photoUrl": "https://lh3.googleusercontent.com/a-/AOh14GhEuXdT7eQweUmRPW8_laJuPggSK6hfvpl5a6WBaA=s64",
      "userId": "15047218817161520419"
     },
     "user_tz": -240
    },
    "id": "38vKGE6Nb2RR",
    "outputId": "a815e42a-e0dd-4cb5-ab97-b17ead98fbc3"
   },
   "outputs": [
    {
     "name": "stdout",
     "output_type": "stream",
     "text": [
      "[0 0 0 ... 0 0 0]\n"
     ]
    }
   ],
   "source": [
    "print(y)"
   ]
  },
  {
   "cell_type": "markdown",
   "metadata": {
    "colab_type": "text",
    "id": "vHol938cW8zd"
   },
   "source": [
    "### Splitting the dataset into the Training set and Test set"
   ]
  },
  {
   "cell_type": "code",
   "execution_count": 5,
   "metadata": {
    "colab": {},
    "colab_type": "code",
    "id": "Z-TDt0Y_XEfc"
   },
   "outputs": [],
   "source": [
    "from sklearn.model_selection import train_test_split\n",
    "X_train, X_test, y_train, y_test = train_test_split(X, y, test_size = 0.2, random_state = 0)"
   ]
  },
  {
   "cell_type": "markdown",
   "metadata": {
    "colab_type": "text",
    "id": "-zfEzkRVXIwF"
   },
   "source": [
    "## Part 2 - Building the ANN"
   ]
  },
  {
   "cell_type": "markdown",
   "metadata": {
    "colab_type": "text",
    "id": "KvdeScabXtlB"
   },
   "source": [
    "### Initializing the ANN"
   ]
  },
  {
   "cell_type": "code",
   "execution_count": 6,
   "metadata": {
    "colab": {},
    "colab_type": "code",
    "id": "3dtrScHxXQox"
   },
   "outputs": [],
   "source": [
    "ann = tf.keras.models.Sequential()"
   ]
  },
  {
   "cell_type": "markdown",
   "metadata": {
    "colab_type": "text",
    "id": "rP6urV6SX7kS"
   },
   "source": [
    "### Adding the input layer and the first hidden layer"
   ]
  },
  {
   "cell_type": "code",
   "execution_count": 7,
   "metadata": {
    "colab": {},
    "colab_type": "code",
    "id": "bppGycBXYCQr"
   },
   "outputs": [],
   "source": [
    "ann.add(tf.keras.layers.Dense(units=6, activation='relu'))"
   ]
  },
  {
   "cell_type": "markdown",
   "metadata": {
    "colab_type": "text",
    "id": "BELWAc_8YJze"
   },
   "source": [
    "### Adding the second hidden layer"
   ]
  },
  {
   "cell_type": "code",
   "execution_count": 8,
   "metadata": {},
   "outputs": [],
   "source": [
    "ann.add(tf.keras.layers.Dense(units=6, activation='relu'))"
   ]
  },
  {
   "cell_type": "markdown",
   "metadata": {
    "colab_type": "text",
    "id": "BELWAc_8YJze"
   },
   "source": [
    "### Adding the second hidden layer"
   ]
  },
  {
   "cell_type": "code",
   "execution_count": 9,
   "metadata": {
    "colab": {},
    "colab_type": "code",
    "id": "JneR0u0sYRTd"
   },
   "outputs": [],
   "source": [
    "ann.add(tf.keras.layers.Dense(units=6, activation='relu'))"
   ]
  },
  {
   "cell_type": "markdown",
   "metadata": {
    "colab_type": "text",
    "id": "OyNEe6RXYcU4"
   },
   "source": [
    "### Adding the output layer"
   ]
  },
  {
   "cell_type": "code",
   "execution_count": 10,
   "metadata": {
    "colab": {},
    "colab_type": "code",
    "id": "Cn3x41RBYfvY"
   },
   "outputs": [],
   "source": [
    "ann.add(tf.keras.layers.Dense(units=1, activation='sigmoid'))"
   ]
  },
  {
   "cell_type": "markdown",
   "metadata": {
    "colab_type": "text",
    "id": "JT4u2S1_Y4WG"
   },
   "source": [
    "## Part 3 - Training the ANN"
   ]
  },
  {
   "cell_type": "markdown",
   "metadata": {
    "colab_type": "text",
    "id": "8GWlJChhY_ZI"
   },
   "source": [
    "### Compiling the ANN"
   ]
  },
  {
   "cell_type": "code",
   "execution_count": 11,
   "metadata": {
    "colab": {},
    "colab_type": "code",
    "id": "fG3RrwDXZEaS"
   },
   "outputs": [],
   "source": [
    "ann.compile(optimizer = 'adam', loss = 'binary_crossentropy', metrics = ['accuracy'])"
   ]
  },
  {
   "cell_type": "markdown",
   "metadata": {
    "colab_type": "text",
    "id": "0QR_G5u7ZLSM"
   },
   "source": [
    "### Training the ANN on the Training set"
   ]
  },
  {
   "cell_type": "code",
   "execution_count": 12,
   "metadata": {
    "colab": {
     "base_uri": "https://localhost:8080/",
     "height": 1000
    },
    "colab_type": "code",
    "executionInfo": {
     "elapsed": 33685,
     "status": "ok",
     "timestamp": 1590257481284,
     "user": {
      "displayName": "Hadelin de Ponteves",
      "photoUrl": "https://lh3.googleusercontent.com/a-/AOh14GhEuXdT7eQweUmRPW8_laJuPggSK6hfvpl5a6WBaA=s64",
      "userId": "15047218817161520419"
     },
     "user_tz": -240
    },
    "id": "nHZ-LKv_ZRb3",
    "outputId": "718cc4b0-b5aa-40f0-9b20-d3d31730a531"
   },
   "outputs": [
    {
     "name": "stdout",
     "output_type": "stream",
     "text": [
      "Epoch 1/100\n",
      "7121/7121 [==============================] - 9s 1ms/step - loss: 0.0476 - accuracy: 0.9983\n",
      "Epoch 2/100\n",
      "7121/7121 [==============================] - 7s 930us/step - loss: 0.0068 - accuracy: 0.9989\n",
      "Epoch 3/100\n",
      "7121/7121 [==============================] - 7s 925us/step - loss: 0.0040 - accuracy: 0.9995\n",
      "Epoch 4/100\n",
      "7121/7121 [==============================] - 8s 1ms/step - loss: 0.0043 - accuracy: 0.9993\n",
      "Epoch 5/100\n",
      "7121/7121 [==============================] - 6s 848us/step - loss: 0.0034 - accuracy: 0.9994\n",
      "Epoch 6/100\n",
      "7121/7121 [==============================] - 7s 932us/step - loss: 0.0033 - accuracy: 0.9994\n",
      "Epoch 7/100\n",
      "7121/7121 [==============================] - 7s 931us/step - loss: 0.0033 - accuracy: 0.9994\n",
      "Epoch 8/100\n",
      "7121/7121 [==============================] - 6s 900us/step - loss: 0.0033 - accuracy: 0.9994\n",
      "Epoch 9/100\n",
      "7121/7121 [==============================] - 8s 1ms/step - loss: 0.0031 - accuracy: 0.9994\n",
      "Epoch 10/100\n",
      "7121/7121 [==============================] - 6s 898us/step - loss: 0.0031 - accuracy: 0.9994\n",
      "Epoch 11/100\n",
      "7121/7121 [==============================] - 7s 1ms/step - loss: 0.0031 - accuracy: 0.9994\n",
      "Epoch 12/100\n",
      "7121/7121 [==============================] - 8s 1ms/step - loss: 0.0027 - accuracy: 0.9995\n",
      "Epoch 13/100\n",
      "7121/7121 [==============================] - 7s 966us/step - loss: 0.0032 - accuracy: 0.9994\n",
      "Epoch 14/100\n",
      "7121/7121 [==============================] - 6s 884us/step - loss: 0.0035 - accuracy: 0.9993\n",
      "Epoch 15/100\n",
      "7121/7121 [==============================] - 6s 879us/step - loss: 0.0029 - accuracy: 0.9994\n",
      "Epoch 16/100\n",
      "7121/7121 [==============================] - 6s 825us/step - loss: 0.0032 - accuracy: 0.9994\n",
      "Epoch 17/100\n",
      "7121/7121 [==============================] - 6s 806us/step - loss: 0.0030 - accuracy: 0.9994\n",
      "Epoch 18/100\n",
      "7121/7121 [==============================] - 6s 816us/step - loss: 0.0026 - accuracy: 0.9995\n",
      "Epoch 19/100\n",
      "7121/7121 [==============================] - 6s 832us/step - loss: 0.0031 - accuracy: 0.9994\n",
      "Epoch 20/100\n",
      "7121/7121 [==============================] - 7s 945us/step - loss: 0.0029 - accuracy: 0.9994\n",
      "Epoch 21/100\n",
      "7121/7121 [==============================] - 7s 918us/step - loss: 0.0031 - accuracy: 0.9994\n",
      "Epoch 22/100\n",
      "7121/7121 [==============================] - 6s 868us/step - loss: 0.0027 - accuracy: 0.9994\n",
      "Epoch 23/100\n",
      "7121/7121 [==============================] - 6s 897us/step - loss: 0.0027 - accuracy: 0.9995\n",
      "Epoch 24/100\n",
      "7121/7121 [==============================] - 6s 904us/step - loss: 0.0025 - accuracy: 0.9995\n",
      "Epoch 25/100\n",
      "7121/7121 [==============================] - 7s 992us/step - loss: 0.0029 - accuracy: 0.9993\n",
      "Epoch 26/100\n",
      "7121/7121 [==============================] - 6s 899us/step - loss: 0.0034 - accuracy: 0.9994\n",
      "Epoch 27/100\n",
      "7121/7121 [==============================] - 6s 856us/step - loss: 0.0034 - accuracy: 0.9993\n",
      "Epoch 28/100\n",
      "7121/7121 [==============================] - 6s 859us/step - loss: 0.0028 - accuracy: 0.9994\n",
      "Epoch 29/100\n",
      "7121/7121 [==============================] - 8s 1ms/step - loss: 0.0033 - accuracy: 0.9994\n",
      "Epoch 30/100\n",
      "7121/7121 [==============================] - 7s 973us/step - loss: 0.0031 - accuracy: 0.9994\n",
      "Epoch 31/100\n",
      "7121/7121 [==============================] - 7s 1ms/step - loss: 0.0026 - accuracy: 0.9995\n",
      "Epoch 32/100\n",
      "7121/7121 [==============================] - 7s 1ms/step - loss: 0.0034 - accuracy: 0.9994\n",
      "Epoch 33/100\n",
      "7121/7121 [==============================] - 7s 913us/step - loss: 0.0032 - accuracy: 0.9994\n",
      "Epoch 34/100\n",
      "7121/7121 [==============================] - 7s 939us/step - loss: 0.0028 - accuracy: 0.9995\n",
      "Epoch 35/100\n",
      "7121/7121 [==============================] - 7s 974us/step - loss: 0.0027 - accuracy: 0.9994\n",
      "Epoch 36/100\n",
      "7121/7121 [==============================] - 6s 911us/step - loss: 0.0030 - accuracy: 0.9994\n",
      "Epoch 37/100\n",
      "7121/7121 [==============================] - 6s 845us/step - loss: 0.0032 - accuracy: 0.9995\n",
      "Epoch 38/100\n",
      "7121/7121 [==============================] - 6s 831us/step - loss: 0.0026 - accuracy: 0.9994\n",
      "Epoch 39/100\n",
      "7121/7121 [==============================] - 6s 823us/step - loss: 0.0027 - accuracy: 0.9994\n",
      "Epoch 40/100\n",
      "7121/7121 [==============================] - 6s 861us/step - loss: 0.0029 - accuracy: 0.9994\n",
      "Epoch 41/100\n",
      "7121/7121 [==============================] - 7s 1ms/step - loss: 0.0028 - accuracy: 0.9995\n",
      "Epoch 42/100\n",
      "7121/7121 [==============================] - 7s 950us/step - loss: 0.0032 - accuracy: 0.9994\n",
      "Epoch 43/100\n",
      "7121/7121 [==============================] - 7s 970us/step - loss: 0.0029 - accuracy: 0.9994\n",
      "Epoch 44/100\n",
      "7121/7121 [==============================] - 6s 888us/step - loss: 0.0026 - accuracy: 0.9995\n",
      "Epoch 45/100\n",
      "7121/7121 [==============================] - 6s 837us/step - loss: 0.0031 - accuracy: 0.9994\n",
      "Epoch 46/100\n",
      "7121/7121 [==============================] - 6s 817us/step - loss: 0.0033 - accuracy: 0.9994\n",
      "Epoch 47/100\n",
      "7121/7121 [==============================] - 6s 865us/step - loss: 0.0029 - accuracy: 0.9994\n",
      "Epoch 48/100\n",
      "7121/7121 [==============================] - 6s 866us/step - loss: 0.0030 - accuracy: 0.9994\n",
      "Epoch 49/100\n",
      "7121/7121 [==============================] - 7s 958us/step - loss: 0.0028 - accuracy: 0.9994\n",
      "Epoch 50/100\n",
      "7121/7121 [==============================] - 7s 972us/step - loss: 0.0029 - accuracy: 0.9994\n",
      "Epoch 51/100\n",
      "7121/7121 [==============================] - 8s 1ms/step - loss: 0.0033 - accuracy: 0.9994\n",
      "Epoch 52/100\n",
      "7121/7121 [==============================] - 8s 1ms/step - loss: 0.0031 - accuracy: 0.9994\n",
      "Epoch 53/100\n",
      "7121/7121 [==============================] - 7s 1ms/step - loss: 0.0036 - accuracy: 0.9994\n",
      "Epoch 54/100\n",
      "7121/7121 [==============================] - 6s 882us/step - loss: 0.0030 - accuracy: 0.9994\n",
      "Epoch 55/100\n",
      "7121/7121 [==============================] - 7s 931us/step - loss: 0.0026 - accuracy: 0.9995\n",
      "Epoch 56/100\n",
      "7121/7121 [==============================] - 6s 877us/step - loss: 0.0037 - accuracy: 0.9994\n",
      "Epoch 57/100\n",
      "7121/7121 [==============================] - 6s 850us/step - loss: 0.0029 - accuracy: 0.9995\n",
      "Epoch 58/100\n",
      "7121/7121 [==============================] - 7s 977us/step - loss: 0.0027 - accuracy: 0.9995\n",
      "Epoch 59/100\n",
      "7121/7121 [==============================] - 8s 1ms/step - loss: 0.0030 - accuracy: 0.9995\n",
      "Epoch 60/100\n",
      "7121/7121 [==============================] - 9s 1ms/step - loss: 0.0029 - accuracy: 0.9995\n",
      "Epoch 61/100\n",
      "7121/7121 [==============================] - 8s 1ms/step - loss: 0.0026 - accuracy: 0.9996\n",
      "Epoch 62/100\n",
      "7121/7121 [==============================] - 8s 1ms/step - loss: 0.0027 - accuracy: 0.9995\n",
      "Epoch 63/100\n",
      "7121/7121 [==============================] - 8s 1ms/step - loss: 0.0031 - accuracy: 0.9995\n",
      "Epoch 64/100\n",
      "7121/7121 [==============================] - 8s 1ms/step - loss: 0.0030 - accuracy: 0.9994\n",
      "Epoch 65/100\n",
      "7121/7121 [==============================] - 7s 1ms/step - loss: 0.0025 - accuracy: 0.9996\n",
      "Epoch 66/100\n",
      "7121/7121 [==============================] - 7s 989us/step - loss: 0.0026 - accuracy: 0.9995\n",
      "Epoch 67/100\n",
      "7121/7121 [==============================] - 7s 1ms/step - loss: 0.0029 - accuracy: 0.9994\n",
      "Epoch 68/100\n",
      "7121/7121 [==============================] - 6s 895us/step - loss: 0.0029 - accuracy: 0.9995\n",
      "Epoch 69/100\n",
      "7121/7121 [==============================] - 7s 1ms/step - loss: 0.0031 - accuracy: 0.9995\n",
      "Epoch 70/100\n",
      "7121/7121 [==============================] - 6s 853us/step - loss: 0.0031 - accuracy: 0.9994\n",
      "Epoch 71/100\n",
      "7121/7121 [==============================] - 6s 798us/step - loss: 0.0030 - accuracy: 0.9994\n",
      "Epoch 72/100\n",
      "7121/7121 [==============================] - 6s 798us/step - loss: 0.0027 - accuracy: 0.9995\n",
      "Epoch 73/100\n",
      "7121/7121 [==============================] - 6s 881us/step - loss: 0.0027 - accuracy: 0.9995\n",
      "Epoch 74/100\n",
      "7121/7121 [==============================] - 6s 846us/step - loss: 0.0029 - accuracy: 0.9995\n",
      "Epoch 75/100\n",
      "7121/7121 [==============================] - 7s 939us/step - loss: 0.0026 - accuracy: 0.9995\n",
      "Epoch 76/100\n",
      "7121/7121 [==============================] - 6s 895us/step - loss: 0.0026 - accuracy: 0.9995\n",
      "Epoch 77/100\n",
      "7121/7121 [==============================] - 7s 993us/step - loss: 0.0029 - accuracy: 0.9995\n",
      "Epoch 78/100\n"
     ]
    },
    {
     "name": "stdout",
     "output_type": "stream",
     "text": [
      "7121/7121 [==============================] - 7s 951us/step - loss: 0.0026 - accuracy: 0.9995\n",
      "Epoch 79/100\n",
      "7121/7121 [==============================] - 6s 824us/step - loss: 0.0027 - accuracy: 0.9995\n",
      "Epoch 80/100\n",
      "7121/7121 [==============================] - 6s 897us/step - loss: 0.0030 - accuracy: 0.9994\n",
      "Epoch 81/100\n",
      "7121/7121 [==============================] - 7s 935us/step - loss: 0.0028 - accuracy: 0.9995\n",
      "Epoch 82/100\n",
      "7121/7121 [==============================] - 8s 1ms/step - loss: 0.0028 - accuracy: 0.9996\n",
      "Epoch 83/100\n",
      "7121/7121 [==============================] - 8s 1ms/step - loss: 0.0029 - accuracy: 0.9995\n",
      "Epoch 84/100\n",
      "7121/7121 [==============================] - 8s 1ms/step - loss: 0.0026 - accuracy: 0.9995\n",
      "Epoch 85/100\n",
      "7121/7121 [==============================] - 7s 1ms/step - loss: 0.0027 - accuracy: 0.9995\n",
      "Epoch 86/100\n",
      "7121/7121 [==============================] - 8s 1ms/step - loss: 0.0030 - accuracy: 0.9994\n",
      "Epoch 87/100\n",
      "7121/7121 [==============================] - 8s 1ms/step - loss: 0.0028 - accuracy: 0.9995\n",
      "Epoch 88/100\n",
      "7121/7121 [==============================] - 7s 979us/step - loss: 0.0023 - accuracy: 0.9996\n",
      "Epoch 89/100\n",
      "7121/7121 [==============================] - 9s 1ms/step - loss: 0.0028 - accuracy: 0.9995\n",
      "Epoch 90/100\n",
      "7121/7121 [==============================] - 7s 920us/step - loss: 0.0028 - accuracy: 0.9995\n",
      "Epoch 91/100\n",
      "7121/7121 [==============================] - 6s 864us/step - loss: 0.0028 - accuracy: 0.9995\n",
      "Epoch 92/100\n",
      "7121/7121 [==============================] - 6s 873us/step - loss: 0.0021 - accuracy: 0.9996\n",
      "Epoch 93/100\n",
      "7121/7121 [==============================] - 6s 879us/step - loss: 0.0031 - accuracy: 0.9994\n",
      "Epoch 94/100\n",
      "7121/7121 [==============================] - 7s 949us/step - loss: 0.0027 - accuracy: 0.9995\n",
      "Epoch 95/100\n",
      "7121/7121 [==============================] - 6s 850us/step - loss: 0.0027 - accuracy: 0.9995\n",
      "Epoch 96/100\n",
      "7121/7121 [==============================] - 6s 837us/step - loss: 0.0030 - accuracy: 0.9994\n",
      "Epoch 97/100\n",
      "7121/7121 [==============================] - 6s 897us/step - loss: 0.0026 - accuracy: 0.9996\n",
      "Epoch 98/100\n",
      "7121/7121 [==============================] - 7s 942us/step - loss: 0.0027 - accuracy: 0.9995\n",
      "Epoch 99/100\n",
      "7121/7121 [==============================] - 6s 908us/step - loss: 0.0025 - accuracy: 0.9995\n",
      "Epoch 100/100\n",
      "7121/7121 [==============================] - 6s 876us/step - loss: 0.0031 - accuracy: 0.9994\n"
     ]
    },
    {
     "data": {
      "text/plain": [
       "<tensorflow.python.keras.callbacks.History at 0x18e640d73a0>"
      ]
     },
     "execution_count": 12,
     "metadata": {},
     "output_type": "execute_result"
    }
   ],
   "source": [
    "ann.fit(X_train, y_train, batch_size = 32, epochs = 100)"
   ]
  },
  {
   "cell_type": "markdown",
   "metadata": {},
   "source": [
    "# Part 4 - Prediction of Test Results"
   ]
  },
  {
   "cell_type": "markdown",
   "metadata": {
    "colab_type": "text",
    "id": "u7yx47jPZt11"
   },
   "source": [
    "### Predicting the Test set results"
   ]
  },
  {
   "cell_type": "code",
   "execution_count": 13,
   "metadata": {
    "colab": {
     "base_uri": "https://localhost:8080/",
     "height": 137
    },
    "colab_type": "code",
    "executionInfo": {
     "elapsed": 33987,
     "status": "ok",
     "timestamp": 1590257481595,
     "user": {
      "displayName": "Hadelin de Ponteves",
      "photoUrl": "https://lh3.googleusercontent.com/a-/AOh14GhEuXdT7eQweUmRPW8_laJuPggSK6hfvpl5a6WBaA=s64",
      "userId": "15047218817161520419"
     },
     "user_tz": -240
    },
    "id": "nIyEeQdRZwgs",
    "outputId": "82330ba8-9bdc-4fd1-d3cf-b6d78ee7c2a3"
   },
   "outputs": [
    {
     "name": "stdout",
     "output_type": "stream",
     "text": [
      "[[0 0]\n",
      " [0 0]\n",
      " [0 0]\n",
      " ...\n",
      " [0 0]\n",
      " [0 0]\n",
      " [0 0]]\n"
     ]
    }
   ],
   "source": [
    "y_pred = ann.predict(X_test)\n",
    "y_pred = (y_pred > 0.5)\n",
    "print(np.concatenate((y_pred.reshape(len(y_pred),1), y_test.reshape(len(y_test),1)),1))"
   ]
  },
  {
   "cell_type": "markdown",
   "metadata": {
    "colab_type": "text",
    "id": "o0oyfLWoaEGw"
   },
   "source": [
    "### Making the Confusion Matrix"
   ]
  },
  {
   "cell_type": "code",
   "execution_count": 14,
   "metadata": {
    "colab": {
     "base_uri": "https://localhost:8080/",
     "height": 68
    },
    "colab_type": "code",
    "executionInfo": {
     "elapsed": 33981,
     "status": "ok",
     "timestamp": 1590257481595,
     "user": {
      "displayName": "Hadelin de Ponteves",
      "photoUrl": "https://lh3.googleusercontent.com/a-/AOh14GhEuXdT7eQweUmRPW8_laJuPggSK6hfvpl5a6WBaA=s64",
      "userId": "15047218817161520419"
     },
     "user_tz": -240
    },
    "id": "ci6K_r6LaF6P",
    "outputId": "4d854e9e-22d5-432f-f6e5-a102fe3ae0bd"
   },
   "outputs": [
    {
     "name": "stdout",
     "output_type": "stream",
     "text": [
      "[[56848    13]\n",
      " [   20    81]]\n"
     ]
    },
    {
     "data": {
      "text/plain": [
       "0.999420666409185"
      ]
     },
     "execution_count": 14,
     "metadata": {},
     "output_type": "execute_result"
    }
   ],
   "source": [
    "from sklearn.metrics import confusion_matrix, accuracy_score\n",
    "cm = confusion_matrix(y_test, y_pred)\n",
    "print(cm)\n",
    "accuracy_score(y_test, y_pred)"
   ]
  }
 ],
 "metadata": {
  "colab": {
   "authorship_tag": "ABX9TyMeRFWFoGrdaL5S3dx5MWmb",
   "collapsed_sections": [],
   "name": "artificial_neural_network.ipynb",
   "provenance": [],
   "toc_visible": true
  },
  "kernelspec": {
   "display_name": "Python 3",
   "language": "python",
   "name": "python3"
  },
  "language_info": {
   "codemirror_mode": {
    "name": "ipython",
    "version": 3
   },
   "file_extension": ".py",
   "mimetype": "text/x-python",
   "name": "python",
   "nbconvert_exporter": "python",
   "pygments_lexer": "ipython3",
   "version": "3.8.5"
  }
 },
 "nbformat": 4,
 "nbformat_minor": 1
}
