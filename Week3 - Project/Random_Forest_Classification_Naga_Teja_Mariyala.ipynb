{
 "cells": [
  {
   "cell_type": "markdown",
   "metadata": {},
   "source": [
    "# Random Forest Classification"
   ]
  },
  {
   "cell_type": "code",
   "execution_count": 1,
   "metadata": {},
   "outputs": [],
   "source": [
    "# Load libraries\n",
    "import pandas as pd\n",
    "import numpy as np\n",
    "import matplotlib.pyplot as plt\n",
    "import seaborn as sns\n",
    "\n",
    "from sklearn.preprocessing import StandardScaler, Normalizer, scale\n",
    "from sklearn.ensemble import RandomForestClassifier, AdaBoostClassifier, GradientBoostingClassifier, ExtraTreesClassifier\n",
    "from sklearn.svm import SVC, LinearSVC\n",
    "from sklearn.metrics import confusion_matrix, log_loss, auc, roc_curve, roc_auc_score, recall_score, precision_recall_curve\n",
    "from sklearn.metrics import make_scorer, precision_score, fbeta_score, f1_score, classification_report, accuracy_score\n",
    "from sklearn.model_selection import cross_val_score, train_test_split, KFold, StratifiedShuffleSplit, GridSearchCV\n",
    "from sklearn.linear_model import LogisticRegression"
   ]
  },
  {
   "cell_type": "code",
   "execution_count": 2,
   "metadata": {},
   "outputs": [],
   "source": [
    "%matplotlib inline\n",
    "plt.rcParams['figure.figsize'] = (16, 9)"
   ]
  },
  {
   "cell_type": "code",
   "execution_count": 3,
   "metadata": {},
   "outputs": [],
   "source": [
    "from sklearn.datasets import load_breast_cancer\n",
    "df = pd.DataFrame(load_breast_cancer()['data'],\n",
    " columns=load_breast_cancer()['feature_names'])\n",
    "df['y'] = load_breast_cancer()['target']"
   ]
  },
  {
   "cell_type": "code",
   "execution_count": 4,
   "metadata": {},
   "outputs": [
    {
     "data": {
      "text/html": [
       "<div>\n",
       "<style scoped>\n",
       "    .dataframe tbody tr th:only-of-type {\n",
       "        vertical-align: middle;\n",
       "    }\n",
       "\n",
       "    .dataframe tbody tr th {\n",
       "        vertical-align: top;\n",
       "    }\n",
       "\n",
       "    .dataframe thead th {\n",
       "        text-align: right;\n",
       "    }\n",
       "</style>\n",
       "<table border=\"1\" class=\"dataframe\">\n",
       "  <thead>\n",
       "    <tr style=\"text-align: right;\">\n",
       "      <th></th>\n",
       "      <th>mean radius</th>\n",
       "      <th>mean texture</th>\n",
       "      <th>mean perimeter</th>\n",
       "      <th>mean area</th>\n",
       "      <th>mean smoothness</th>\n",
       "      <th>mean compactness</th>\n",
       "      <th>mean concavity</th>\n",
       "      <th>mean concave points</th>\n",
       "      <th>mean symmetry</th>\n",
       "      <th>mean fractal dimension</th>\n",
       "      <th>...</th>\n",
       "      <th>worst texture</th>\n",
       "      <th>worst perimeter</th>\n",
       "      <th>worst area</th>\n",
       "      <th>worst smoothness</th>\n",
       "      <th>worst compactness</th>\n",
       "      <th>worst concavity</th>\n",
       "      <th>worst concave points</th>\n",
       "      <th>worst symmetry</th>\n",
       "      <th>worst fractal dimension</th>\n",
       "      <th>y</th>\n",
       "    </tr>\n",
       "  </thead>\n",
       "  <tbody>\n",
       "    <tr>\n",
       "      <th>0</th>\n",
       "      <td>17.99</td>\n",
       "      <td>10.38</td>\n",
       "      <td>122.80</td>\n",
       "      <td>1001.0</td>\n",
       "      <td>0.11840</td>\n",
       "      <td>0.27760</td>\n",
       "      <td>0.3001</td>\n",
       "      <td>0.14710</td>\n",
       "      <td>0.2419</td>\n",
       "      <td>0.07871</td>\n",
       "      <td>...</td>\n",
       "      <td>17.33</td>\n",
       "      <td>184.60</td>\n",
       "      <td>2019.0</td>\n",
       "      <td>0.1622</td>\n",
       "      <td>0.6656</td>\n",
       "      <td>0.7119</td>\n",
       "      <td>0.2654</td>\n",
       "      <td>0.4601</td>\n",
       "      <td>0.11890</td>\n",
       "      <td>0</td>\n",
       "    </tr>\n",
       "    <tr>\n",
       "      <th>1</th>\n",
       "      <td>20.57</td>\n",
       "      <td>17.77</td>\n",
       "      <td>132.90</td>\n",
       "      <td>1326.0</td>\n",
       "      <td>0.08474</td>\n",
       "      <td>0.07864</td>\n",
       "      <td>0.0869</td>\n",
       "      <td>0.07017</td>\n",
       "      <td>0.1812</td>\n",
       "      <td>0.05667</td>\n",
       "      <td>...</td>\n",
       "      <td>23.41</td>\n",
       "      <td>158.80</td>\n",
       "      <td>1956.0</td>\n",
       "      <td>0.1238</td>\n",
       "      <td>0.1866</td>\n",
       "      <td>0.2416</td>\n",
       "      <td>0.1860</td>\n",
       "      <td>0.2750</td>\n",
       "      <td>0.08902</td>\n",
       "      <td>0</td>\n",
       "    </tr>\n",
       "    <tr>\n",
       "      <th>2</th>\n",
       "      <td>19.69</td>\n",
       "      <td>21.25</td>\n",
       "      <td>130.00</td>\n",
       "      <td>1203.0</td>\n",
       "      <td>0.10960</td>\n",
       "      <td>0.15990</td>\n",
       "      <td>0.1974</td>\n",
       "      <td>0.12790</td>\n",
       "      <td>0.2069</td>\n",
       "      <td>0.05999</td>\n",
       "      <td>...</td>\n",
       "      <td>25.53</td>\n",
       "      <td>152.50</td>\n",
       "      <td>1709.0</td>\n",
       "      <td>0.1444</td>\n",
       "      <td>0.4245</td>\n",
       "      <td>0.4504</td>\n",
       "      <td>0.2430</td>\n",
       "      <td>0.3613</td>\n",
       "      <td>0.08758</td>\n",
       "      <td>0</td>\n",
       "    </tr>\n",
       "    <tr>\n",
       "      <th>3</th>\n",
       "      <td>11.42</td>\n",
       "      <td>20.38</td>\n",
       "      <td>77.58</td>\n",
       "      <td>386.1</td>\n",
       "      <td>0.14250</td>\n",
       "      <td>0.28390</td>\n",
       "      <td>0.2414</td>\n",
       "      <td>0.10520</td>\n",
       "      <td>0.2597</td>\n",
       "      <td>0.09744</td>\n",
       "      <td>...</td>\n",
       "      <td>26.50</td>\n",
       "      <td>98.87</td>\n",
       "      <td>567.7</td>\n",
       "      <td>0.2098</td>\n",
       "      <td>0.8663</td>\n",
       "      <td>0.6869</td>\n",
       "      <td>0.2575</td>\n",
       "      <td>0.6638</td>\n",
       "      <td>0.17300</td>\n",
       "      <td>0</td>\n",
       "    </tr>\n",
       "    <tr>\n",
       "      <th>4</th>\n",
       "      <td>20.29</td>\n",
       "      <td>14.34</td>\n",
       "      <td>135.10</td>\n",
       "      <td>1297.0</td>\n",
       "      <td>0.10030</td>\n",
       "      <td>0.13280</td>\n",
       "      <td>0.1980</td>\n",
       "      <td>0.10430</td>\n",
       "      <td>0.1809</td>\n",
       "      <td>0.05883</td>\n",
       "      <td>...</td>\n",
       "      <td>16.67</td>\n",
       "      <td>152.20</td>\n",
       "      <td>1575.0</td>\n",
       "      <td>0.1374</td>\n",
       "      <td>0.2050</td>\n",
       "      <td>0.4000</td>\n",
       "      <td>0.1625</td>\n",
       "      <td>0.2364</td>\n",
       "      <td>0.07678</td>\n",
       "      <td>0</td>\n",
       "    </tr>\n",
       "  </tbody>\n",
       "</table>\n",
       "<p>5 rows × 31 columns</p>\n",
       "</div>"
      ],
      "text/plain": [
       "   mean radius  mean texture  mean perimeter  mean area  mean smoothness  \\\n",
       "0        17.99         10.38          122.80     1001.0          0.11840   \n",
       "1        20.57         17.77          132.90     1326.0          0.08474   \n",
       "2        19.69         21.25          130.00     1203.0          0.10960   \n",
       "3        11.42         20.38           77.58      386.1          0.14250   \n",
       "4        20.29         14.34          135.10     1297.0          0.10030   \n",
       "\n",
       "   mean compactness  mean concavity  mean concave points  mean symmetry  \\\n",
       "0           0.27760          0.3001              0.14710         0.2419   \n",
       "1           0.07864          0.0869              0.07017         0.1812   \n",
       "2           0.15990          0.1974              0.12790         0.2069   \n",
       "3           0.28390          0.2414              0.10520         0.2597   \n",
       "4           0.13280          0.1980              0.10430         0.1809   \n",
       "\n",
       "   mean fractal dimension  ...  worst texture  worst perimeter  worst area  \\\n",
       "0                 0.07871  ...          17.33           184.60      2019.0   \n",
       "1                 0.05667  ...          23.41           158.80      1956.0   \n",
       "2                 0.05999  ...          25.53           152.50      1709.0   \n",
       "3                 0.09744  ...          26.50            98.87       567.7   \n",
       "4                 0.05883  ...          16.67           152.20      1575.0   \n",
       "\n",
       "   worst smoothness  worst compactness  worst concavity  worst concave points  \\\n",
       "0            0.1622             0.6656           0.7119                0.2654   \n",
       "1            0.1238             0.1866           0.2416                0.1860   \n",
       "2            0.1444             0.4245           0.4504                0.2430   \n",
       "3            0.2098             0.8663           0.6869                0.2575   \n",
       "4            0.1374             0.2050           0.4000                0.1625   \n",
       "\n",
       "   worst symmetry  worst fractal dimension  y  \n",
       "0          0.4601                  0.11890  0  \n",
       "1          0.2750                  0.08902  0  \n",
       "2          0.3613                  0.08758  0  \n",
       "3          0.6638                  0.17300  0  \n",
       "4          0.2364                  0.07678  0  \n",
       "\n",
       "[5 rows x 31 columns]"
      ]
     },
     "execution_count": 4,
     "metadata": {},
     "output_type": "execute_result"
    }
   ],
   "source": [
    "df.head()"
   ]
  },
  {
   "cell_type": "code",
   "execution_count": 5,
   "metadata": {},
   "outputs": [
    {
     "data": {
      "text/plain": [
       "mean radius                0\n",
       "mean texture               0\n",
       "mean perimeter             0\n",
       "mean area                  0\n",
       "mean smoothness            0\n",
       "mean compactness           0\n",
       "mean concavity             0\n",
       "mean concave points        0\n",
       "mean symmetry              0\n",
       "mean fractal dimension     0\n",
       "radius error               0\n",
       "texture error              0\n",
       "perimeter error            0\n",
       "area error                 0\n",
       "smoothness error           0\n",
       "compactness error          0\n",
       "concavity error            0\n",
       "concave points error       0\n",
       "symmetry error             0\n",
       "fractal dimension error    0\n",
       "worst radius               0\n",
       "worst texture              0\n",
       "worst perimeter            0\n",
       "worst area                 0\n",
       "worst smoothness           0\n",
       "worst compactness          0\n",
       "worst concavity            0\n",
       "worst concave points       0\n",
       "worst symmetry             0\n",
       "worst fractal dimension    0\n",
       "y                          0\n",
       "dtype: int64"
      ]
     },
     "execution_count": 5,
     "metadata": {},
     "output_type": "execute_result"
    }
   ],
   "source": [
    "df.isnull().sum()"
   ]
  },
  {
   "cell_type": "markdown",
   "metadata": {},
   "source": [
    "There is no data missing in this case and all the variable are int64 type, so there is no encoding required"
   ]
  },
  {
   "cell_type": "markdown",
   "metadata": {},
   "source": [
    "## Feature Selection\n",
    "Here, you need to divide given columns into two types of variables dependent(or target variable) and independent variable(or feature variables)."
   ]
  },
  {
   "cell_type": "code",
   "execution_count": 6,
   "metadata": {},
   "outputs": [],
   "source": [
    "#split dataset in features and target variable\n",
    "feature_cols = df.columns\n",
    "feature_cols = feature_cols.drop('y')\n",
    "X = df.iloc[:,:-1] # Features\n",
    "y = df.iloc[:,-1] # Target variable"
   ]
  },
  {
   "cell_type": "markdown",
   "metadata": {},
   "source": [
    "## Splitting Data\n",
    "To understand model performance, dividing the dataset into a training set and a test set is a good strategy.\n",
    "\n",
    "Let's split the dataset by using function train_test_split(). You need to pass 3 parameters features, target, and test_set size."
   ]
  },
  {
   "cell_type": "code",
   "execution_count": 7,
   "metadata": {},
   "outputs": [],
   "source": [
    "# Split dataset into training set and test set\n",
    "X_train, X_test, y_train, y_test = train_test_split(X, y, test_size=0.3, random_state=1) # 70% training and 30% test"
   ]
  },
  {
   "cell_type": "markdown",
   "metadata": {},
   "source": [
    "## Basic Random Forest Classification"
   ]
  },
  {
   "cell_type": "code",
   "execution_count": 8,
   "metadata": {},
   "outputs": [
    {
     "data": {
      "text/plain": [
       "RandomForestClassifier(random_state=0, warm_start=True)"
      ]
     },
     "execution_count": 8,
     "metadata": {},
     "output_type": "execute_result"
    }
   ],
   "source": [
    "estimator = RandomForestClassifier(random_state=0, warm_start = True)\n",
    "estimator.fit(X_train, y_train)"
   ]
  },
  {
   "cell_type": "code",
   "execution_count": 9,
   "metadata": {},
   "outputs": [
    {
     "name": "stdout",
     "output_type": "stream",
     "text": [
      "0.9629629629629629\n",
      "0.9454545454545454\n",
      "0.9338624338624338\n",
      "\n",
      " confusion matrix on validation data: \n",
      "[[ 57   6]\n",
      " [  4 104]]\n"
     ]
    }
   ],
   "source": [
    "pred_test = estimator.predict(X_test)\n",
    "print(recall_score(y_test, pred_test))     \n",
    "print(precision_score(y_test, pred_test))  \n",
    "print(roc_auc_score(y_test, pred_test))    \n",
    "print(\"\\n confusion matrix on validation data: \\n\" + str(confusion_matrix(y_test, pred_test)))"
   ]
  },
  {
   "cell_type": "markdown",
   "metadata": {},
   "source": [
    "## Evaluating Model"
   ]
  },
  {
   "cell_type": "code",
   "execution_count": 10,
   "metadata": {},
   "outputs": [
    {
     "name": "stdout",
     "output_type": "stream",
     "text": [
      "Confusion Matrix : \n",
      " [[ 57   6]\n",
      " [  4 104]]\n",
      "Accuracy Score is 0.9415\n",
      "Classification Report : \n",
      "               precision    recall  f1-score   support\n",
      "\n",
      "           0       0.93      0.90      0.92        63\n",
      "           1       0.95      0.96      0.95       108\n",
      "\n",
      "    accuracy                           0.94       171\n",
      "   macro avg       0.94      0.93      0.94       171\n",
      "weighted avg       0.94      0.94      0.94       171\n",
      "\n",
      "AUC-ROC: 0.9338624338624338\n",
      "LOGLOSS Value is 2.0198\n"
     ]
    },
    {
     "data": {
      "image/png": "[encoded data removed]",
      "text/plain": [
       "<Figure size 1152x648 with 1 Axes>"
      ]
     },
     "metadata": {
      "needs_background": "light"
     },
     "output_type": "display_data"
    }
   ],
   "source": [
    "y_pred = estimator.predict(X_test)\n",
    "fpr, tpr, thresholds = roc_curve(y_test, y_pred)\n",
    "roc_auc = auc(fpr, tpr)\n",
    "results = confusion_matrix(y_test, y_pred)\n",
    "print ('Confusion Matrix : \\n', results)\n",
    "print ('Accuracy Score is %.4f' % (accuracy_score(y_test, y_pred)))\n",
    "print ('Classification Report : \\n', classification_report(y_test, y_pred))\n",
    "print('AUC-ROC:',roc_auc_score(y_test, y_pred))\n",
    "print('LOGLOSS Value is %.4f' % log_loss(y_test, y_pred))\n",
    "plt.title('Receiver Operating Characteristic')\n",
    "plt.plot(fpr, tpr, 'y', label = 'AUC = %0.2f' % roc_auc)\n",
    "plt.legend(loc = 'lower right')\n",
    "plt.plot([0, 1], [0, 1],'r--')\n",
    "plt.xlim([0, 1])\n",
    "plt.ylim([0, 1])\n",
    "plt.ylabel('True Positive Rate')\n",
    "plt.xlabel('False Positive Rate')\n",
    "plt.show()"
   ]
  },
  {
   "cell_type": "markdown",
   "metadata": {},
   "source": [
    "### With few changes in parameters"
   ]
  },
  {
   "cell_type": "code",
   "execution_count": 11,
   "metadata": {},
   "outputs": [],
   "source": [
    "rf_tuned_parameters =  {\"criterion\": [\"gini\", \"entropy\"], \"max_depth\": [10, 20, 50, 100], 'min_samples_leaf':[10, 20, 50]}"
   ]
  },
  {
   "cell_type": "code",
   "execution_count": 12,
   "metadata": {},
   "outputs": [
    {
     "name": "stdout",
     "output_type": "stream",
     "text": [
      "Fitting 5 folds for each of 24 candidates, totalling 120 fits\n",
      "[CV] criterion=gini, max_depth=10, min_samples_leaf=10 ...............\n",
      "[CV]  criterion=gini, max_depth=10, min_samples_leaf=10, score=0.988, total=   0.2s\n",
      "[CV] criterion=gini, max_depth=10, min_samples_leaf=10 ...............\n"
     ]
    },
    {
     "name": "stderr",
     "output_type": "stream",
     "text": [
      "[Parallel(n_jobs=1)]: Using backend SequentialBackend with 1 concurrent workers.\n",
      "[Parallel(n_jobs=1)]: Done   1 out of   1 | elapsed:    0.1s remaining:    0.0s\n"
     ]
    },
    {
     "name": "stdout",
     "output_type": "stream",
     "text": [
      "[CV]  criterion=gini, max_depth=10, min_samples_leaf=10, score=0.985, total=   0.2s\n",
      "[CV] criterion=gini, max_depth=10, min_samples_leaf=10 ...............\n",
      "[CV]  criterion=gini, max_depth=10, min_samples_leaf=10, score=1.000, total=   0.2s"
     ]
    },
    {
     "name": "stderr",
     "output_type": "stream",
     "text": [
      "[Parallel(n_jobs=1)]: Done   2 out of   2 | elapsed:    0.3s remaining:    0.0s\n"
     ]
    },
    {
     "name": "stdout",
     "output_type": "stream",
     "text": [
      "\n",
      "[CV] criterion=gini, max_depth=10, min_samples_leaf=10 ...............\n",
      "[CV]  criterion=gini, max_depth=10, min_samples_leaf=10, score=0.994, total=   0.2s\n",
      "[CV] criterion=gini, max_depth=10, min_samples_leaf=10 ...............\n",
      "[CV]  criterion=gini, max_depth=10, min_samples_leaf=10, score=0.990, total=   0.2s"
     ]
    },
    {
     "name": "stderr",
     "output_type": "stream",
     "text": [
      "[Parallel(n_jobs=1)]: Done   3 out of   3 | elapsed:    0.5s remaining:    0.0s\n",
      "[Parallel(n_jobs=1)]: Done   4 out of   4 | elapsed:    0.7s remaining:    0.0s\n"
     ]
    },
    {
     "name": "stdout",
     "output_type": "stream",
     "text": [
      "\n",
      "[CV] criterion=gini, max_depth=10, min_samples_leaf=20 ...............\n",
      "[CV]  criterion=gini, max_depth=10, min_samples_leaf=20, score=0.987, total=   0.2s\n",
      "[CV] criterion=gini, max_depth=10, min_samples_leaf=20 ...............\n",
      "[CV]  criterion=gini, max_depth=10, min_samples_leaf=20, score=0.985, total=   0.2s\n",
      "[CV] criterion=gini, max_depth=10, min_samples_leaf=20 ...............\n",
      "[CV]  criterion=gini, max_depth=10, min_samples_leaf=20, score=1.000, total=   0.2s\n",
      "[CV] criterion=gini, max_depth=10, min_samples_leaf=20 ...............\n",
      "[CV]  criterion=gini, max_depth=10, min_samples_leaf=20, score=0.994, total=   0.2s\n",
      "[CV] criterion=gini, max_depth=10, min_samples_leaf=20 ...............\n",
      "[CV]  criterion=gini, max_depth=10, min_samples_leaf=20, score=0.987, total=   0.2s\n",
      "[CV] criterion=gini, max_depth=10, min_samples_leaf=50 ...............\n",
      "[CV]  criterion=gini, max_depth=10, min_samples_leaf=50, score=0.983, total=   0.1s\n",
      "[CV] criterion=gini, max_depth=10, min_samples_leaf=50 ...............\n",
      "[CV]  criterion=gini, max_depth=10, min_samples_leaf=50, score=0.979, total=   0.2s\n",
      "[CV] criterion=gini, max_depth=10, min_samples_leaf=50 ...............\n",
      "[CV]  criterion=gini, max_depth=10, min_samples_leaf=50, score=0.999, total=   0.1s\n",
      "[CV] criterion=gini, max_depth=10, min_samples_leaf=50 ...............\n",
      "[CV]  criterion=gini, max_depth=10, min_samples_leaf=50, score=0.992, total=   0.2s\n",
      "[CV] criterion=gini, max_depth=10, min_samples_leaf=50 ...............\n",
      "[CV]  criterion=gini, max_depth=10, min_samples_leaf=50, score=0.985, total=   0.2s\n",
      "[CV] criterion=gini, max_depth=20, min_samples_leaf=10 ...............\n",
      "[CV]  criterion=gini, max_depth=20, min_samples_leaf=10, score=0.988, total=   0.2s\n",
      "[CV] criterion=gini, max_depth=20, min_samples_leaf=10 ...............\n",
      "[CV]  criterion=gini, max_depth=20, min_samples_leaf=10, score=0.985, total=   0.2s\n",
      "[CV] criterion=gini, max_depth=20, min_samples_leaf=10 ...............\n",
      "[CV]  criterion=gini, max_depth=20, min_samples_leaf=10, score=1.000, total=   0.2s\n",
      "[CV] criterion=gini, max_depth=20, min_samples_leaf=10 ...............\n",
      "[CV]  criterion=gini, max_depth=20, min_samples_leaf=10, score=0.994, total=   0.2s\n",
      "[CV] criterion=gini, max_depth=20, min_samples_leaf=10 ...............\n",
      "[CV]  criterion=gini, max_depth=20, min_samples_leaf=10, score=0.990, total=   0.2s\n",
      "[CV] criterion=gini, max_depth=20, min_samples_leaf=20 ...............\n",
      "[CV]  criterion=gini, max_depth=20, min_samples_leaf=20, score=0.987, total=   0.2s\n",
      "[CV] criterion=gini, max_depth=20, min_samples_leaf=20 ...............\n",
      "[CV]  criterion=gini, max_depth=20, min_samples_leaf=20, score=0.985, total=   0.1s\n",
      "[CV] criterion=gini, max_depth=20, min_samples_leaf=20 ...............\n",
      "[CV]  criterion=gini, max_depth=20, min_samples_leaf=20, score=1.000, total=   0.2s\n",
      "[CV] criterion=gini, max_depth=20, min_samples_leaf=20 ...............\n",
      "[CV]  criterion=gini, max_depth=20, min_samples_leaf=20, score=0.994, total=   0.2s\n",
      "[CV] criterion=gini, max_depth=20, min_samples_leaf=20 ...............\n",
      "[CV]  criterion=gini, max_depth=20, min_samples_leaf=20, score=0.987, total=   0.2s\n",
      "[CV] criterion=gini, max_depth=20, min_samples_leaf=50 ...............\n",
      "[CV]  criterion=gini, max_depth=20, min_samples_leaf=50, score=0.983, total=   0.2s\n",
      "[CV] criterion=gini, max_depth=20, min_samples_leaf=50 ...............\n",
      "[CV]  criterion=gini, max_depth=20, min_samples_leaf=50, score=0.979, total=   0.2s\n",
      "[CV] criterion=gini, max_depth=20, min_samples_leaf=50 ...............\n",
      "[CV]  criterion=gini, max_depth=20, min_samples_leaf=50, score=0.999, total=   0.2s\n",
      "[CV] criterion=gini, max_depth=20, min_samples_leaf=50 ...............\n",
      "[CV]  criterion=gini, max_depth=20, min_samples_leaf=50, score=0.992, total=   0.1s\n",
      "[CV] criterion=gini, max_depth=20, min_samples_leaf=50 ...............\n",
      "[CV]  criterion=gini, max_depth=20, min_samples_leaf=50, score=0.985, total=   0.2s\n",
      "[CV] criterion=gini, max_depth=50, min_samples_leaf=10 ...............\n",
      "[CV]  criterion=gini, max_depth=50, min_samples_leaf=10, score=0.988, total=   0.2s\n",
      "[CV] criterion=gini, max_depth=50, min_samples_leaf=10 ...............\n",
      "[CV]  criterion=gini, max_depth=50, min_samples_leaf=10, score=0.985, total=   0.2s\n",
      "[CV] criterion=gini, max_depth=50, min_samples_leaf=10 ...............\n",
      "[CV]  criterion=gini, max_depth=50, min_samples_leaf=10, score=1.000, total=   0.2s\n",
      "[CV] criterion=gini, max_depth=50, min_samples_leaf=10 ...............\n",
      "[CV]  criterion=gini, max_depth=50, min_samples_leaf=10, score=0.994, total=   0.2s\n",
      "[CV] criterion=gini, max_depth=50, min_samples_leaf=10 ...............\n",
      "[CV]  criterion=gini, max_depth=50, min_samples_leaf=10, score=0.990, total=   0.2s\n",
      "[CV] criterion=gini, max_depth=50, min_samples_leaf=20 ...............\n",
      "[CV]  criterion=gini, max_depth=50, min_samples_leaf=20, score=0.987, total=   0.2s\n",
      "[CV] criterion=gini, max_depth=50, min_samples_leaf=20 ...............\n",
      "[CV]  criterion=gini, max_depth=50, min_samples_leaf=20, score=0.985, total=   0.2s\n",
      "[CV] criterion=gini, max_depth=50, min_samples_leaf=20 ...............\n",
      "[CV]  criterion=gini, max_depth=50, min_samples_leaf=20, score=1.000, total=   0.2s\n",
      "[CV] criterion=gini, max_depth=50, min_samples_leaf=20 ...............\n",
      "[CV]  criterion=gini, max_depth=50, min_samples_leaf=20, score=0.994, total=   0.1s\n",
      "[CV] criterion=gini, max_depth=50, min_samples_leaf=20 ...............\n",
      "[CV]  criterion=gini, max_depth=50, min_samples_leaf=20, score=0.987, total=   0.2s\n",
      "[CV] criterion=gini, max_depth=50, min_samples_leaf=50 ...............\n",
      "[CV]  criterion=gini, max_depth=50, min_samples_leaf=50, score=0.983, total=   0.1s\n",
      "[CV] criterion=gini, max_depth=50, min_samples_leaf=50 ...............\n",
      "[CV]  criterion=gini, max_depth=50, min_samples_leaf=50, score=0.979, total=   0.1s\n",
      "[CV] criterion=gini, max_depth=50, min_samples_leaf=50 ...............\n",
      "[CV]  criterion=gini, max_depth=50, min_samples_leaf=50, score=0.999, total=   0.2s\n",
      "[CV] criterion=gini, max_depth=50, min_samples_leaf=50 ...............\n",
      "[CV]  criterion=gini, max_depth=50, min_samples_leaf=50, score=0.992, total=   0.2s\n",
      "[CV] criterion=gini, max_depth=50, min_samples_leaf=50 ...............\n",
      "[CV]  criterion=gini, max_depth=50, min_samples_leaf=50, score=0.985, total=   0.2s\n",
      "[CV] criterion=gini, max_depth=100, min_samples_leaf=10 ..............\n",
      "[CV]  criterion=gini, max_depth=100, min_samples_leaf=10, score=0.988, total=   0.2s\n",
      "[CV] criterion=gini, max_depth=100, min_samples_leaf=10 ..............\n",
      "[CV]  criterion=gini, max_depth=100, min_samples_leaf=10, score=0.985, total=   0.1s\n",
      "[CV] criterion=gini, max_depth=100, min_samples_leaf=10 ..............\n",
      "[CV]  criterion=gini, max_depth=100, min_samples_leaf=10, score=1.000, total=   0.2s\n",
      "[CV] criterion=gini, max_depth=100, min_samples_leaf=10 ..............\n",
      "[CV]  criterion=gini, max_depth=100, min_samples_leaf=10, score=0.994, total=   0.2s\n",
      "[CV] criterion=gini, max_depth=100, min_samples_leaf=10 ..............\n",
      "[CV]  criterion=gini, max_depth=100, min_samples_leaf=10, score=0.990, total=   0.2s\n",
      "[CV] criterion=gini, max_depth=100, min_samples_leaf=20 ..............\n",
      "[CV]  criterion=gini, max_depth=100, min_samples_leaf=20, score=0.987, total=   0.2s\n",
      "[CV] criterion=gini, max_depth=100, min_samples_leaf=20 ..............\n",
      "[CV]  criterion=gini, max_depth=100, min_samples_leaf=20, score=0.985, total=   0.2s\n",
      "[CV] criterion=gini, max_depth=100, min_samples_leaf=20 ..............\n",
      "[CV]  criterion=gini, max_depth=100, min_samples_leaf=20, score=1.000, total=   0.2s\n",
      "[CV] criterion=gini, max_depth=100, min_samples_leaf=20 ..............\n",
      "[CV]  criterion=gini, max_depth=100, min_samples_leaf=20, score=0.994, total=   0.2s\n",
      "[CV] criterion=gini, max_depth=100, min_samples_leaf=20 ..............\n",
      "[CV]  criterion=gini, max_depth=100, min_samples_leaf=20, score=0.987, total=   0.2s\n",
      "[CV] criterion=gini, max_depth=100, min_samples_leaf=50 ..............\n",
      "[CV]  criterion=gini, max_depth=100, min_samples_leaf=50, score=0.983, total=   0.2s\n",
      "[CV] criterion=gini, max_depth=100, min_samples_leaf=50 ..............\n",
      "[CV]  criterion=gini, max_depth=100, min_samples_leaf=50, score=0.979, total=   0.1s\n",
      "[CV] criterion=gini, max_depth=100, min_samples_leaf=50 ..............\n",
      "[CV]  criterion=gini, max_depth=100, min_samples_leaf=50, score=0.999, total=   0.1s\n",
      "[CV] criterion=gini, max_depth=100, min_samples_leaf=50 ..............\n"
     ]
    },
    {
     "name": "stdout",
     "output_type": "stream",
     "text": [
      "[CV]  criterion=gini, max_depth=100, min_samples_leaf=50, score=0.992, total=   0.1s\n",
      "[CV] criterion=gini, max_depth=100, min_samples_leaf=50 ..............\n",
      "[CV]  criterion=gini, max_depth=100, min_samples_leaf=50, score=0.985, total=   0.2s\n",
      "[CV] criterion=entropy, max_depth=10, min_samples_leaf=10 ............\n",
      "[CV]  criterion=entropy, max_depth=10, min_samples_leaf=10, score=0.989, total=   0.2s\n",
      "[CV] criterion=entropy, max_depth=10, min_samples_leaf=10 ............\n",
      "[CV]  criterion=entropy, max_depth=10, min_samples_leaf=10, score=0.985, total=   0.2s\n",
      "[CV] criterion=entropy, max_depth=10, min_samples_leaf=10 ............\n",
      "[CV]  criterion=entropy, max_depth=10, min_samples_leaf=10, score=1.000, total=   0.2s\n",
      "[CV] criterion=entropy, max_depth=10, min_samples_leaf=10 ............\n",
      "[CV]  criterion=entropy, max_depth=10, min_samples_leaf=10, score=0.994, total=   0.2s\n",
      "[CV] criterion=entropy, max_depth=10, min_samples_leaf=10 ............\n",
      "[CV]  criterion=entropy, max_depth=10, min_samples_leaf=10, score=0.993, total=   0.2s\n",
      "[CV] criterion=entropy, max_depth=10, min_samples_leaf=20 ............\n",
      "[CV]  criterion=entropy, max_depth=10, min_samples_leaf=20, score=0.989, total=   0.2s\n",
      "[CV] criterion=entropy, max_depth=10, min_samples_leaf=20 ............\n",
      "[CV]  criterion=entropy, max_depth=10, min_samples_leaf=20, score=0.979, total=   0.2s\n",
      "[CV] criterion=entropy, max_depth=10, min_samples_leaf=20 ............\n",
      "[CV]  criterion=entropy, max_depth=10, min_samples_leaf=20, score=1.000, total=   0.2s\n",
      "[CV] criterion=entropy, max_depth=10, min_samples_leaf=20 ............\n",
      "[CV]  criterion=entropy, max_depth=10, min_samples_leaf=20, score=0.994, total=   0.2s\n",
      "[CV] criterion=entropy, max_depth=10, min_samples_leaf=20 ............\n",
      "[CV]  criterion=entropy, max_depth=10, min_samples_leaf=20, score=0.988, total=   0.2s\n",
      "[CV] criterion=entropy, max_depth=10, min_samples_leaf=50 ............\n",
      "[CV]  criterion=entropy, max_depth=10, min_samples_leaf=50, score=0.983, total=   0.2s\n",
      "[CV] criterion=entropy, max_depth=10, min_samples_leaf=50 ............\n",
      "[CV]  criterion=entropy, max_depth=10, min_samples_leaf=50, score=0.976, total=   0.2s\n",
      "[CV] criterion=entropy, max_depth=10, min_samples_leaf=50 ............\n",
      "[CV]  criterion=entropy, max_depth=10, min_samples_leaf=50, score=0.999, total=   0.2s\n",
      "[CV] criterion=entropy, max_depth=10, min_samples_leaf=50 ............\n",
      "[CV]  criterion=entropy, max_depth=10, min_samples_leaf=50, score=0.994, total=   0.2s\n",
      "[CV] criterion=entropy, max_depth=10, min_samples_leaf=50 ............\n",
      "[CV]  criterion=entropy, max_depth=10, min_samples_leaf=50, score=0.984, total=   0.2s\n",
      "[CV] criterion=entropy, max_depth=20, min_samples_leaf=10 ............\n",
      "[CV]  criterion=entropy, max_depth=20, min_samples_leaf=10, score=0.989, total=   0.2s\n",
      "[CV] criterion=entropy, max_depth=20, min_samples_leaf=10 ............\n",
      "[CV]  criterion=entropy, max_depth=20, min_samples_leaf=10, score=0.985, total=   0.2s\n",
      "[CV] criterion=entropy, max_depth=20, min_samples_leaf=10 ............\n",
      "[CV]  criterion=entropy, max_depth=20, min_samples_leaf=10, score=1.000, total=   0.2s\n",
      "[CV] criterion=entropy, max_depth=20, min_samples_leaf=10 ............\n",
      "[CV]  criterion=entropy, max_depth=20, min_samples_leaf=10, score=0.994, total=   0.2s\n",
      "[CV] criterion=entropy, max_depth=20, min_samples_leaf=10 ............\n",
      "[CV]  criterion=entropy, max_depth=20, min_samples_leaf=10, score=0.993, total=   0.2s\n",
      "[CV] criterion=entropy, max_depth=20, min_samples_leaf=20 ............\n",
      "[CV]  criterion=entropy, max_depth=20, min_samples_leaf=20, score=0.989, total=   0.2s\n",
      "[CV] criterion=entropy, max_depth=20, min_samples_leaf=20 ............\n",
      "[CV]  criterion=entropy, max_depth=20, min_samples_leaf=20, score=0.979, total=   0.2s\n",
      "[CV] criterion=entropy, max_depth=20, min_samples_leaf=20 ............\n",
      "[CV]  criterion=entropy, max_depth=20, min_samples_leaf=20, score=1.000, total=   0.2s\n",
      "[CV] criterion=entropy, max_depth=20, min_samples_leaf=20 ............\n",
      "[CV]  criterion=entropy, max_depth=20, min_samples_leaf=20, score=0.994, total=   0.2s\n",
      "[CV] criterion=entropy, max_depth=20, min_samples_leaf=20 ............\n",
      "[CV]  criterion=entropy, max_depth=20, min_samples_leaf=20, score=0.988, total=   0.2s\n",
      "[CV] criterion=entropy, max_depth=20, min_samples_leaf=50 ............\n",
      "[CV]  criterion=entropy, max_depth=20, min_samples_leaf=50, score=0.983, total=   0.2s\n",
      "[CV] criterion=entropy, max_depth=20, min_samples_leaf=50 ............\n",
      "[CV]  criterion=entropy, max_depth=20, min_samples_leaf=50, score=0.976, total=   0.2s\n",
      "[CV] criterion=entropy, max_depth=20, min_samples_leaf=50 ............\n",
      "[CV]  criterion=entropy, max_depth=20, min_samples_leaf=50, score=0.999, total=   0.2s\n",
      "[CV] criterion=entropy, max_depth=20, min_samples_leaf=50 ............\n",
      "[CV]  criterion=entropy, max_depth=20, min_samples_leaf=50, score=0.994, total=   0.2s\n",
      "[CV] criterion=entropy, max_depth=20, min_samples_leaf=50 ............\n",
      "[CV]  criterion=entropy, max_depth=20, min_samples_leaf=50, score=0.984, total=   0.2s\n",
      "[CV] criterion=entropy, max_depth=50, min_samples_leaf=10 ............\n",
      "[CV]  criterion=entropy, max_depth=50, min_samples_leaf=10, score=0.989, total=   0.2s\n",
      "[CV] criterion=entropy, max_depth=50, min_samples_leaf=10 ............\n",
      "[CV]  criterion=entropy, max_depth=50, min_samples_leaf=10, score=0.985, total=   0.2s\n",
      "[CV] criterion=entropy, max_depth=50, min_samples_leaf=10 ............\n",
      "[CV]  criterion=entropy, max_depth=50, min_samples_leaf=10, score=1.000, total=   0.2s\n",
      "[CV] criterion=entropy, max_depth=50, min_samples_leaf=10 ............\n",
      "[CV]  criterion=entropy, max_depth=50, min_samples_leaf=10, score=0.994, total=   0.2s\n",
      "[CV] criterion=entropy, max_depth=50, min_samples_leaf=10 ............\n",
      "[CV]  criterion=entropy, max_depth=50, min_samples_leaf=10, score=0.993, total=   0.2s\n",
      "[CV] criterion=entropy, max_depth=50, min_samples_leaf=20 ............\n",
      "[CV]  criterion=entropy, max_depth=50, min_samples_leaf=20, score=0.989, total=   0.2s\n",
      "[CV] criterion=entropy, max_depth=50, min_samples_leaf=20 ............\n",
      "[CV]  criterion=entropy, max_depth=50, min_samples_leaf=20, score=0.979, total=   0.2s\n",
      "[CV] criterion=entropy, max_depth=50, min_samples_leaf=20 ............\n",
      "[CV]  criterion=entropy, max_depth=50, min_samples_leaf=20, score=1.000, total=   0.2s\n",
      "[CV] criterion=entropy, max_depth=50, min_samples_leaf=20 ............\n",
      "[CV]  criterion=entropy, max_depth=50, min_samples_leaf=20, score=0.994, total=   0.2s\n",
      "[CV] criterion=entropy, max_depth=50, min_samples_leaf=20 ............\n",
      "[CV]  criterion=entropy, max_depth=50, min_samples_leaf=20, score=0.988, total=   0.2s\n",
      "[CV] criterion=entropy, max_depth=50, min_samples_leaf=50 ............\n",
      "[CV]  criterion=entropy, max_depth=50, min_samples_leaf=50, score=0.983, total=   0.2s\n",
      "[CV] criterion=entropy, max_depth=50, min_samples_leaf=50 ............\n",
      "[CV]  criterion=entropy, max_depth=50, min_samples_leaf=50, score=0.976, total=   0.2s\n",
      "[CV] criterion=entropy, max_depth=50, min_samples_leaf=50 ............\n",
      "[CV]  criterion=entropy, max_depth=50, min_samples_leaf=50, score=0.999, total=   0.2s\n",
      "[CV] criterion=entropy, max_depth=50, min_samples_leaf=50 ............\n",
      "[CV]  criterion=entropy, max_depth=50, min_samples_leaf=50, score=0.994, total=   0.2s\n",
      "[CV] criterion=entropy, max_depth=50, min_samples_leaf=50 ............\n",
      "[CV]  criterion=entropy, max_depth=50, min_samples_leaf=50, score=0.984, total=   0.2s\n",
      "[CV] criterion=entropy, max_depth=100, min_samples_leaf=10 ...........\n",
      "[CV]  criterion=entropy, max_depth=100, min_samples_leaf=10, score=0.989, total=   0.2s\n",
      "[CV] criterion=entropy, max_depth=100, min_samples_leaf=10 ...........\n",
      "[CV]  criterion=entropy, max_depth=100, min_samples_leaf=10, score=0.985, total=   0.2s\n",
      "[CV] criterion=entropy, max_depth=100, min_samples_leaf=10 ...........\n",
      "[CV]  criterion=entropy, max_depth=100, min_samples_leaf=10, score=1.000, total=   0.2s\n",
      "[CV] criterion=entropy, max_depth=100, min_samples_leaf=10 ...........\n",
      "[CV]  criterion=entropy, max_depth=100, min_samples_leaf=10, score=0.994, total=   0.2s\n",
      "[CV] criterion=entropy, max_depth=100, min_samples_leaf=10 ...........\n",
      "[CV]  criterion=entropy, max_depth=100, min_samples_leaf=10, score=0.993, total=   0.2s\n",
      "[CV] criterion=entropy, max_depth=100, min_samples_leaf=20 ...........\n"
     ]
    },
    {
     "name": "stdout",
     "output_type": "stream",
     "text": [
      "[CV]  criterion=entropy, max_depth=100, min_samples_leaf=20, score=0.989, total=   0.2s\n",
      "[CV] criterion=entropy, max_depth=100, min_samples_leaf=20 ...........\n",
      "[CV]  criterion=entropy, max_depth=100, min_samples_leaf=20, score=0.979, total=   0.2s\n",
      "[CV] criterion=entropy, max_depth=100, min_samples_leaf=20 ...........\n",
      "[CV]  criterion=entropy, max_depth=100, min_samples_leaf=20, score=1.000, total=   0.2s\n",
      "[CV] criterion=entropy, max_depth=100, min_samples_leaf=20 ...........\n",
      "[CV]  criterion=entropy, max_depth=100, min_samples_leaf=20, score=0.994, total=   0.2s\n",
      "[CV] criterion=entropy, max_depth=100, min_samples_leaf=20 ...........\n",
      "[CV]  criterion=entropy, max_depth=100, min_samples_leaf=20, score=0.988, total=   0.2s\n",
      "[CV] criterion=entropy, max_depth=100, min_samples_leaf=50 ...........\n",
      "[CV]  criterion=entropy, max_depth=100, min_samples_leaf=50, score=0.983, total=   0.2s\n",
      "[CV] criterion=entropy, max_depth=100, min_samples_leaf=50 ...........\n",
      "[CV]  criterion=entropy, max_depth=100, min_samples_leaf=50, score=0.976, total=   0.2s\n",
      "[CV] criterion=entropy, max_depth=100, min_samples_leaf=50 ...........\n",
      "[CV]  criterion=entropy, max_depth=100, min_samples_leaf=50, score=0.999, total=   0.2s\n",
      "[CV] criterion=entropy, max_depth=100, min_samples_leaf=50 ...........\n",
      "[CV]  criterion=entropy, max_depth=100, min_samples_leaf=50, score=0.994, total=   0.2s\n",
      "[CV] criterion=entropy, max_depth=100, min_samples_leaf=50 ...........\n",
      "[CV]  criterion=entropy, max_depth=100, min_samples_leaf=50, score=0.984, total=   0.2s\n"
     ]
    },
    {
     "name": "stderr",
     "output_type": "stream",
     "text": [
      "[Parallel(n_jobs=1)]: Done 120 out of 120 | elapsed:   21.6s finished\n"
     ]
    },
    {
     "data": {
      "text/plain": [
       "GridSearchCV(estimator=RandomForestClassifier(random_state=0, warm_start=True),\n",
       "             param_grid={'criterion': ['gini', 'entropy'],\n",
       "                         'max_depth': [10, 20, 50, 100],\n",
       "                         'min_samples_leaf': [10, 20, 50]},\n",
       "             scoring='roc_auc', verbose=5)"
      ]
     },
     "execution_count": 12,
     "metadata": {},
     "output_type": "execute_result"
    }
   ],
   "source": [
    "cv_grid = GridSearchCV(estimator, param_grid = rf_tuned_parameters, scoring = 'roc_auc', verbose = 5) # 'recall', my_score\n",
    "cv_grid.fit(X_train, y_train)"
   ]
  },
  {
   "cell_type": "code",
   "execution_count": 13,
   "metadata": {},
   "outputs": [
    {
     "data": {
      "text/plain": [
       "{'mean_fit_time': array([0.1792191 , 0.18333168, 0.14321065, 0.16981316, 0.16061158,\n",
       "        0.16001139, 0.17400904, 0.15401101, 0.14661002, 0.15781164,\n",
       "        0.17281246, 0.13800907, 0.16801648, 0.18146267, 0.1490109 ,\n",
       "        0.21402502, 0.18301291, 0.16221242, 0.183813  , 0.16181207,\n",
       "        0.16421232, 0.17461286, 0.17381196, 0.14780993]),\n",
       " 'std_fit_time': array([0.0092883 , 0.02120233, 0.01471742, 0.01146233, 0.01358961,\n",
       "        0.01741274, 0.01889626, 0.02244321, 0.01350071, 0.01412168,\n",
       "        0.00391986, 0.00506037, 0.01284293, 0.00773332, 0.00994037,\n",
       "        0.01650577, 0.00698682, 0.01103404, 0.0054563 , 0.01959039,\n",
       "        0.00913073, 0.01059511, 0.01014954, 0.00248209]),\n",
       " 'mean_score_time': array([0.01419501, 0.01300159, 0.01120086, 0.01220021, 0.01220012,\n",
       "        0.01200113, 0.01340137, 0.01120119, 0.01240125, 0.01160111,\n",
       "        0.01300106, 0.01080093, 0.01160116, 0.01260095, 0.01240158,\n",
       "        0.01339746, 0.01300039, 0.01220164, 0.0124011 , 0.01240106,\n",
       "        0.01200104, 0.01200194, 0.01240029, 0.01060128]),\n",
       " 'std_score_time': array([0.00214164, 0.00227981, 0.0007484 , 0.00116686, 0.00097976,\n",
       "        0.00141556, 0.00233144, 0.00147055, 0.00162478, 0.00080044,\n",
       "        0.00063218, 0.00040011, 0.00102028, 0.0010199 , 0.00080013,\n",
       "        0.00102084, 0.00063256, 0.0021363 , 0.00120008, 0.00135593,\n",
       "        0.00126437, 0.00089527, 0.00079994, 0.00048988]),\n",
       " 'param_criterion': masked_array(data=['gini', 'gini', 'gini', 'gini', 'gini', 'gini', 'gini',\n",
       "                    'gini', 'gini', 'gini', 'gini', 'gini', 'entropy',\n",
       "                    'entropy', 'entropy', 'entropy', 'entropy', 'entropy',\n",
       "                    'entropy', 'entropy', 'entropy', 'entropy', 'entropy',\n",
       "                    'entropy'],\n",
       "              mask=[False, False, False, False, False, False, False, False,\n",
       "                    False, False, False, False, False, False, False, False,\n",
       "                    False, False, False, False, False, False, False, False],\n",
       "        fill_value='?',\n",
       "             dtype=object),\n",
       " 'param_max_depth': masked_array(data=[10, 10, 10, 20, 20, 20, 50, 50, 50, 100, 100, 100, 10,\n",
       "                    10, 10, 20, 20, 20, 50, 50, 50, 100, 100, 100],\n",
       "              mask=[False, False, False, False, False, False, False, False,\n",
       "                    False, False, False, False, False, False, False, False,\n",
       "                    False, False, False, False, False, False, False, False],\n",
       "        fill_value='?',\n",
       "             dtype=object),\n",
       " 'param_min_samples_leaf': masked_array(data=[10, 20, 50, 10, 20, 50, 10, 20, 50, 10, 20, 50, 10, 20,\n",
       "                    50, 10, 20, 50, 10, 20, 50, 10, 20, 50],\n",
       "              mask=[False, False, False, False, False, False, False, False,\n",
       "                    False, False, False, False, False, False, False, False,\n",
       "                    False, False, False, False, False, False, False, False],\n",
       "        fill_value='?',\n",
       "             dtype=object),\n",
       " 'params': [{'criterion': 'gini', 'max_depth': 10, 'min_samples_leaf': 10},\n",
       "  {'criterion': 'gini', 'max_depth': 10, 'min_samples_leaf': 20},\n",
       "  {'criterion': 'gini', 'max_depth': 10, 'min_samples_leaf': 50},\n",
       "  {'criterion': 'gini', 'max_depth': 20, 'min_samples_leaf': 10},\n",
       "  {'criterion': 'gini', 'max_depth': 20, 'min_samples_leaf': 20},\n",
       "  {'criterion': 'gini', 'max_depth': 20, 'min_samples_leaf': 50},\n",
       "  {'criterion': 'gini', 'max_depth': 50, 'min_samples_leaf': 10},\n",
       "  {'criterion': 'gini', 'max_depth': 50, 'min_samples_leaf': 20},\n",
       "  {'criterion': 'gini', 'max_depth': 50, 'min_samples_leaf': 50},\n",
       "  {'criterion': 'gini', 'max_depth': 100, 'min_samples_leaf': 10},\n",
       "  {'criterion': 'gini', 'max_depth': 100, 'min_samples_leaf': 20},\n",
       "  {'criterion': 'gini', 'max_depth': 100, 'min_samples_leaf': 50},\n",
       "  {'criterion': 'entropy', 'max_depth': 10, 'min_samples_leaf': 10},\n",
       "  {'criterion': 'entropy', 'max_depth': 10, 'min_samples_leaf': 20},\n",
       "  {'criterion': 'entropy', 'max_depth': 10, 'min_samples_leaf': 50},\n",
       "  {'criterion': 'entropy', 'max_depth': 20, 'min_samples_leaf': 10},\n",
       "  {'criterion': 'entropy', 'max_depth': 20, 'min_samples_leaf': 20},\n",
       "  {'criterion': 'entropy', 'max_depth': 20, 'min_samples_leaf': 50},\n",
       "  {'criterion': 'entropy', 'max_depth': 50, 'min_samples_leaf': 10},\n",
       "  {'criterion': 'entropy', 'max_depth': 50, 'min_samples_leaf': 20},\n",
       "  {'criterion': 'entropy', 'max_depth': 50, 'min_samples_leaf': 50},\n",
       "  {'criterion': 'entropy', 'max_depth': 100, 'min_samples_leaf': 10},\n",
       "  {'criterion': 'entropy', 'max_depth': 100, 'min_samples_leaf': 20},\n",
       "  {'criterion': 'entropy', 'max_depth': 100, 'min_samples_leaf': 50}],\n",
       " 'split0_test_score': array([0.988     , 0.98666667, 0.98333333, 0.988     , 0.98666667,\n",
       "        0.98333333, 0.988     , 0.98666667, 0.98333333, 0.988     ,\n",
       "        0.98666667, 0.98333333, 0.98933333, 0.98933333, 0.98333333,\n",
       "        0.98933333, 0.98933333, 0.98333333, 0.98933333, 0.98933333,\n",
       "        0.98333333, 0.98933333, 0.98933333, 0.98333333]),\n",
       " 'split1_test_score': array([0.98466667, 0.98466667, 0.97866667, 0.98466667, 0.98466667,\n",
       "        0.97866667, 0.98466667, 0.98466667, 0.97866667, 0.98466667,\n",
       "        0.98466667, 0.97866667, 0.98466667, 0.97933333, 0.976     ,\n",
       "        0.98466667, 0.97933333, 0.976     , 0.98466667, 0.97933333,\n",
       "        0.976     , 0.98466667, 0.97933333, 0.976     ]),\n",
       " 'split2_test_score': array([1.        , 1.        , 0.99866667, 1.        , 1.        ,\n",
       "        0.99866667, 1.        , 1.        , 0.99866667, 1.        ,\n",
       "        1.        , 0.99866667, 1.        , 1.        , 0.99866667,\n",
       "        1.        , 1.        , 0.99866667, 1.        , 1.        ,\n",
       "        0.99866667, 1.        , 1.        , 0.99866667]),\n",
       " 'split3_test_score': array([0.99448276, 0.99448276, 0.99241379, 0.99448276, 0.99448276,\n",
       "        0.99241379, 0.99448276, 0.99448276, 0.99241379, 0.99448276,\n",
       "        0.99448276, 0.99241379, 0.9937931 , 0.9937931 , 0.99448276,\n",
       "        0.9937931 , 0.9937931 , 0.99448276, 0.9937931 , 0.9937931 ,\n",
       "        0.99448276, 0.9937931 , 0.9937931 , 0.99448276]),\n",
       " 'split4_test_score': array([0.98979592, 0.98707483, 0.98503401, 0.98979592, 0.98707483,\n",
       "        0.98503401, 0.98979592, 0.98707483, 0.98503401, 0.98979592,\n",
       "        0.98707483, 0.98503401, 0.99251701, 0.98843537, 0.98367347,\n",
       "        0.99251701, 0.98843537, 0.98367347, 0.99251701, 0.98843537,\n",
       "        0.98367347, 0.99251701, 0.98843537, 0.98367347]),\n",
       " 'mean_test_score': array([0.99138907, 0.99057818, 0.98762289, 0.99138907, 0.99057818,\n",
       "        0.98762289, 0.99138907, 0.99057818, 0.98762289, 0.99138907,\n",
       "        0.99057818, 0.98762289, 0.99206202, 0.99017903, 0.98723125,\n",
       "        0.99206202, 0.99017903, 0.98723125, 0.99206202, 0.99017903,\n",
       "        0.98723125, 0.99206202, 0.99017903, 0.98723125]),\n",
       " 'std_test_score': array([0.00534666, 0.00577124, 0.00707438, 0.00534666, 0.00577124,\n",
       "        0.00707438, 0.00534666, 0.00577124, 0.00707438, 0.00534666,\n",
       "        0.00577124, 0.00707438, 0.0050666 , 0.00679555, 0.00821396,\n",
       "        0.0050666 , 0.00679555, 0.00821396, 0.0050666 , 0.00679555,\n",
       "        0.00821396, 0.0050666 , 0.00679555, 0.00821396]),\n",
       " 'rank_test_score': array([ 5,  9, 17,  5,  9, 17,  5,  9, 17,  5,  9, 17,  1, 13, 21,  1, 13,\n",
       "        21,  1, 13, 21,  1, 13, 21])}"
      ]
     },
     "execution_count": 13,
     "metadata": {},
     "output_type": "execute_result"
    }
   ],
   "source": [
    "cv_grid.cv_results_"
   ]
  },
  {
   "cell_type": "code",
   "execution_count": 14,
   "metadata": {},
   "outputs": [],
   "source": [
    "best_parameters = cv_grid.best_estimator_.get_params()"
   ]
  },
  {
   "cell_type": "code",
   "execution_count": 15,
   "metadata": {},
   "outputs": [
    {
     "data": {
      "text/plain": [
       "{'bootstrap': True,\n",
       " 'ccp_alpha': 0.0,\n",
       " 'class_weight': None,\n",
       " 'criterion': 'entropy',\n",
       " 'max_depth': 10,\n",
       " 'max_features': 'auto',\n",
       " 'max_leaf_nodes': None,\n",
       " 'max_samples': None,\n",
       " 'min_impurity_decrease': 0.0,\n",
       " 'min_impurity_split': None,\n",
       " 'min_samples_leaf': 10,\n",
       " 'min_samples_split': 2,\n",
       " 'min_weight_fraction_leaf': 0.0,\n",
       " 'n_estimators': 100,\n",
       " 'n_jobs': None,\n",
       " 'oob_score': False,\n",
       " 'random_state': 0,\n",
       " 'verbose': 0,\n",
       " 'warm_start': True}"
      ]
     },
     "execution_count": 15,
     "metadata": {},
     "output_type": "execute_result"
    }
   ],
   "source": [
    "best_parameters"
   ]
  },
  {
   "cell_type": "code",
   "execution_count": 16,
   "metadata": {
    "scrolled": true
   },
   "outputs": [
    {
     "name": "stdout",
     "output_type": "stream",
     "text": [
      "\tcriterion: 'entropy'\n",
      "\tmax_depth: 10\n",
      "\tmin_samples_leaf: 10\n"
     ]
    }
   ],
   "source": [
    "for param_name in sorted(rf_tuned_parameters.keys()):\n",
    "    print(\"\\t%s: %r\" % (param_name, best_parameters[param_name]))"
   ]
  },
  {
   "cell_type": "code",
   "execution_count": 17,
   "metadata": {},
   "outputs": [
    {
     "name": "stdout",
     "output_type": "stream",
     "text": [
      "0.9444444444444444\n",
      "0.9357798165137615\n",
      "0.9166666666666666\n",
      "\n",
      " confusion matrix on validation data: \n",
      "[[ 56   7]\n",
      " [  6 102]]\n"
     ]
    }
   ],
   "source": [
    "pred_test = cv_grid.predict(X_test)\n",
    "print(recall_score(y_test, pred_test))     \n",
    "print(precision_score(y_test, pred_test))  \n",
    "print(roc_auc_score(y_test, pred_test))    \n",
    "print(\"\\n confusion matrix on validation data: \\n\" + str(confusion_matrix(y_test, pred_test)))"
   ]
  },
  {
   "cell_type": "markdown",
   "metadata": {},
   "source": [
    "## Evaluating Model"
   ]
  },
  {
   "cell_type": "code",
   "execution_count": 18,
   "metadata": {},
   "outputs": [
    {
     "name": "stdout",
     "output_type": "stream",
     "text": [
      "Confusion Matrix : \n",
      " [[ 57   6]\n",
      " [  4 104]]\n",
      "Accuracy Score is 0.9415\n",
      "Classification Report : \n",
      "               precision    recall  f1-score   support\n",
      "\n",
      "           0       0.93      0.90      0.92        63\n",
      "           1       0.95      0.96      0.95       108\n",
      "\n",
      "    accuracy                           0.94       171\n",
      "   macro avg       0.94      0.93      0.94       171\n",
      "weighted avg       0.94      0.94      0.94       171\n",
      "\n",
      "AUC-ROC: 0.9338624338624338\n",
      "LOGLOSS Value is 2.0198\n"
     ]
    },
    {
     "data": {
      "image/png": "[encoded data removed]",
      "text/plain": [
       "<Figure size 1152x648 with 1 Axes>"
      ]
     },
     "metadata": {
      "needs_background": "light"
     },
     "output_type": "display_data"
    }
   ],
   "source": [
    "fpr, tpr, thresholds = roc_curve(y_test, y_pred)\n",
    "roc_auc = auc(fpr, tpr)\n",
    "results = confusion_matrix(y_test, y_pred)\n",
    "print ('Confusion Matrix : \\n', results)\n",
    "print ('Accuracy Score is %.4f' % (accuracy_score(y_test, y_pred)))\n",
    "print ('Classification Report : \\n', classification_report(y_test, y_pred))\n",
    "print('AUC-ROC:',roc_auc_score(y_test, y_pred))\n",
    "print('LOGLOSS Value is %.4f' % log_loss(y_test, y_pred))\n",
    "plt.title('Receiver Operating Characteristic')\n",
    "plt.plot(fpr, tpr, 'y', label = 'AUC = %0.2f' % roc_auc)\n",
    "plt.legend(loc = 'lower right')\n",
    "plt.plot([0, 1], [0, 1],'r--')\n",
    "plt.xlim([0, 1])\n",
    "plt.ylim([0, 1])\n",
    "plt.ylabel('True Positive Rate')\n",
    "plt.xlabel('False Positive Rate')\n",
    "plt.show()"
   ]
  },
  {
   "cell_type": "markdown",
   "metadata": {},
   "source": [
    "# With changes in Parameters (for practice)"
   ]
  },
  {
   "cell_type": "markdown",
   "metadata": {},
   "source": [
    "## RandomForestClassifier with class_weight"
   ]
  },
  {
   "cell_type": "code",
   "execution_count": 19,
   "metadata": {},
   "outputs": [],
   "source": [
    "positive_weight = sum(y_train == 0) / sum(y_train == 1)  # size to repeat y == 1\n",
    "\n",
    "estimator = RandomForestClassifier(random_state=0, class_weight = {0 : 1, 1 : positive_weight}, warm_start = True)\n",
    "rf_tuned_parameters = {\"max_depth\": [10,20], 'n_estimators': [50], 'min_samples_leaf': [10]}"
   ]
  },
  {
   "cell_type": "code",
   "execution_count": 20,
   "metadata": {},
   "outputs": [
    {
     "name": "stdout",
     "output_type": "stream",
     "text": [
      "Fitting 5 folds for each of 2 candidates, totalling 10 fits\n",
      "[CV] max_depth=10, min_samples_leaf=10, n_estimators=50 ..............\n",
      "[CV]  max_depth=10, min_samples_leaf=10, n_estimators=50, score=0.985, total=   0.1s\n",
      "[CV] max_depth=10, min_samples_leaf=10, n_estimators=50 ..............\n",
      "[CV]  max_depth=10, min_samples_leaf=10, n_estimators=50, score=0.984, total=   0.1s\n",
      "[CV] max_depth=10, min_samples_leaf=10, n_estimators=50 ..............\n"
     ]
    },
    {
     "name": "stderr",
     "output_type": "stream",
     "text": [
      "[Parallel(n_jobs=1)]: Using backend SequentialBackend with 1 concurrent workers.\n",
      "[Parallel(n_jobs=1)]: Done   1 out of   1 | elapsed:    0.0s remaining:    0.0s\n",
      "[Parallel(n_jobs=1)]: Done   2 out of   2 | elapsed:    0.1s remaining:    0.0s\n"
     ]
    },
    {
     "name": "stdout",
     "output_type": "stream",
     "text": [
      "[CV]  max_depth=10, min_samples_leaf=10, n_estimators=50, score=1.000, total=   0.1s\n",
      "[CV] max_depth=10, min_samples_leaf=10, n_estimators=50 ..............\n",
      "[CV]  max_depth=10, min_samples_leaf=10, n_estimators=50, score=0.994, total=   0.1s\n",
      "[CV] max_depth=10, min_samples_leaf=10, n_estimators=50 ..............\n"
     ]
    },
    {
     "name": "stderr",
     "output_type": "stream",
     "text": [
      "[Parallel(n_jobs=1)]: Done   3 out of   3 | elapsed:    0.2s remaining:    0.0s\n",
      "[Parallel(n_jobs=1)]: Done   4 out of   4 | elapsed:    0.3s remaining:    0.0s\n"
     ]
    },
    {
     "name": "stdout",
     "output_type": "stream",
     "text": [
      "[CV]  max_depth=10, min_samples_leaf=10, n_estimators=50, score=0.990, total=   0.1s\n",
      "[CV] max_depth=20, min_samples_leaf=10, n_estimators=50 ..............\n",
      "[CV]  max_depth=20, min_samples_leaf=10, n_estimators=50, score=0.985, total=   0.1s\n",
      "[CV] max_depth=20, min_samples_leaf=10, n_estimators=50 ..............\n",
      "[CV]  max_depth=20, min_samples_leaf=10, n_estimators=50, score=0.984, total=   0.1s\n",
      "[CV] max_depth=20, min_samples_leaf=10, n_estimators=50 ..............\n",
      "[CV]  max_depth=20, min_samples_leaf=10, n_estimators=50, score=1.000, total=   0.1s\n",
      "[CV] max_depth=20, min_samples_leaf=10, n_estimators=50 ..............\n",
      "[CV]  max_depth=20, min_samples_leaf=10, n_estimators=50, score=0.994, total=   0.1s\n",
      "[CV] max_depth=20, min_samples_leaf=10, n_estimators=50 ..............\n",
      "[CV]  max_depth=20, min_samples_leaf=10, n_estimators=50, score=0.990, total=   0.1s\n"
     ]
    },
    {
     "name": "stderr",
     "output_type": "stream",
     "text": [
      "[Parallel(n_jobs=1)]: Done  10 out of  10 | elapsed:    1.0s finished\n"
     ]
    },
    {
     "data": {
      "text/plain": [
       "GridSearchCV(estimator=RandomForestClassifier(class_weight={0: 1,\n",
       "                                                            1: 0.5983935742971888},\n",
       "                                              random_state=0, warm_start=True),\n",
       "             param_grid={'max_depth': [10, 20], 'min_samples_leaf': [10],\n",
       "                         'n_estimators': [50]},\n",
       "             scoring='roc_auc', verbose=5)"
      ]
     },
     "execution_count": 20,
     "metadata": {},
     "output_type": "execute_result"
    }
   ],
   "source": [
    "cv_grid = GridSearchCV(estimator, param_grid = rf_tuned_parameters, scoring = 'roc_auc', verbose = 5) # 'recall', my_score\n",
    "cv_grid.fit(X_train, y_train)"
   ]
  },
  {
   "cell_type": "code",
   "execution_count": 21,
   "metadata": {},
   "outputs": [
    {
     "data": {
      "text/plain": [
       "{'mean_fit_time': array([0.0952064 , 0.09760628]),\n",
       " 'std_fit_time': array([0.01635242, 0.01608312]),\n",
       " 'mean_score_time': array([0.00820112, 0.00780048]),\n",
       " 'std_score_time': array([0.00097937, 0.00132639]),\n",
       " 'param_max_depth': masked_array(data=[10, 20],\n",
       "              mask=[False, False],\n",
       "        fill_value='?',\n",
       "             dtype=object),\n",
       " 'param_min_samples_leaf': masked_array(data=[10, 10],\n",
       "              mask=[False, False],\n",
       "        fill_value='?',\n",
       "             dtype=object),\n",
       " 'param_n_estimators': masked_array(data=[50, 50],\n",
       "              mask=[False, False],\n",
       "        fill_value='?',\n",
       "             dtype=object),\n",
       " 'params': [{'max_depth': 10, 'min_samples_leaf': 10, 'n_estimators': 50},\n",
       "  {'max_depth': 20, 'min_samples_leaf': 10, 'n_estimators': 50}],\n",
       " 'split0_test_score': array([0.98533333, 0.98533333]),\n",
       " 'split1_test_score': array([0.984, 0.984]),\n",
       " 'split2_test_score': array([1., 1.]),\n",
       " 'split3_test_score': array([0.9937931, 0.9937931]),\n",
       " 'split4_test_score': array([0.98979592, 0.98979592]),\n",
       " 'mean_test_score': array([0.99058447, 0.99058447]),\n",
       " 'std_test_score': array([0.0058395, 0.0058395]),\n",
       " 'rank_test_score': array([1, 1])}"
      ]
     },
     "execution_count": 21,
     "metadata": {},
     "output_type": "execute_result"
    }
   ],
   "source": [
    "cv_grid.cv_results_"
   ]
  },
  {
   "cell_type": "code",
   "execution_count": 22,
   "metadata": {},
   "outputs": [
    {
     "data": {
      "text/plain": [
       "{'bootstrap': True,\n",
       " 'ccp_alpha': 0.0,\n",
       " 'class_weight': {0: 1, 1: 0.5983935742971888},\n",
       " 'criterion': 'gini',\n",
       " 'max_depth': 10,\n",
       " 'max_features': 'auto',\n",
       " 'max_leaf_nodes': None,\n",
       " 'max_samples': None,\n",
       " 'min_impurity_decrease': 0.0,\n",
       " 'min_impurity_split': None,\n",
       " 'min_samples_leaf': 10,\n",
       " 'min_samples_split': 2,\n",
       " 'min_weight_fraction_leaf': 0.0,\n",
       " 'n_estimators': 50,\n",
       " 'n_jobs': None,\n",
       " 'oob_score': False,\n",
       " 'random_state': 0,\n",
       " 'verbose': 0,\n",
       " 'warm_start': True}"
      ]
     },
     "execution_count": 22,
     "metadata": {},
     "output_type": "execute_result"
    }
   ],
   "source": [
    "best_parameters = cv_grid.best_estimator_.get_params()\n",
    "best_parameters"
   ]
  },
  {
   "cell_type": "code",
   "execution_count": 23,
   "metadata": {},
   "outputs": [
    {
     "name": "stdout",
     "output_type": "stream",
     "text": [
      "\tmax_depth: 10\n",
      "\tmin_samples_leaf: 10\n",
      "\tn_estimators: 50\n"
     ]
    }
   ],
   "source": [
    "for param_name in sorted(rf_tuned_parameters.keys()):\n",
    "    print(\"\\t%s: %r\" % (param_name, best_parameters[param_name]))"
   ]
  },
  {
   "cell_type": "code",
   "execution_count": 24,
   "metadata": {},
   "outputs": [
    {
     "name": "stdout",
     "output_type": "stream",
     "text": [
      "0.9259259259259259\n",
      "0.9345794392523364\n",
      "0.9074074074074074\n",
      "\n",
      " confusion matrix on validation data: \n",
      "[[ 56   7]\n",
      " [  8 100]]\n"
     ]
    }
   ],
   "source": [
    "pred_test = cv_grid.predict(X_test)\n",
    "print(recall_score(y_test, pred_test))     \n",
    "print(precision_score(y_test, pred_test))  \n",
    "print(roc_auc_score(y_test, pred_test))    \n",
    "print(\"\\n confusion matrix on validation data: \\n\" + str(confusion_matrix(y_test, pred_test)))"
   ]
  },
  {
   "cell_type": "markdown",
   "metadata": {},
   "source": [
    "### With few changes in parameters"
   ]
  },
  {
   "cell_type": "code",
   "execution_count": 25,
   "metadata": {},
   "outputs": [],
   "source": [
    "rf_tuned_parameters = {\"max_depth\": [10, 20, 50, 100], 'n_estimators': [50, 100, 200, 500], 'min_samples_leaf': [10, 20, 50]}"
   ]
  },
  {
   "cell_type": "code",
   "execution_count": 26,
   "metadata": {},
   "outputs": [
    {
     "name": "stdout",
     "output_type": "stream",
     "text": [
      "Fitting 5 folds for each of 48 candidates, totalling 240 fits\n",
      "[CV] max_depth=10, min_samples_leaf=10, n_estimators=50 ..............\n",
      "[CV]  max_depth=10, min_samples_leaf=10, n_estimators=50, score=0.985, total=   0.1s\n",
      "[CV] max_depth=10, min_samples_leaf=10, n_estimators=50 ..............\n"
     ]
    },
    {
     "name": "stderr",
     "output_type": "stream",
     "text": [
      "[Parallel(n_jobs=1)]: Using backend SequentialBackend with 1 concurrent workers.\n",
      "[Parallel(n_jobs=1)]: Done   1 out of   1 | elapsed:    0.0s remaining:    0.0s\n"
     ]
    },
    {
     "name": "stdout",
     "output_type": "stream",
     "text": [
      "[CV]  max_depth=10, min_samples_leaf=10, n_estimators=50, score=0.984, total=   0.1s\n",
      "[CV] max_depth=10, min_samples_leaf=10, n_estimators=50 ..............\n",
      "[CV]  max_depth=10, min_samples_leaf=10, n_estimators=50, score=1.000, total=   0.1s\n",
      "[CV] max_depth=10, min_samples_leaf=10, n_estimators=50 ..............\n"
     ]
    },
    {
     "name": "stderr",
     "output_type": "stream",
     "text": [
      "[Parallel(n_jobs=1)]: Done   2 out of   2 | elapsed:    0.2s remaining:    0.0s\n",
      "[Parallel(n_jobs=1)]: Done   3 out of   3 | elapsed:    0.3s remaining:    0.0s\n"
     ]
    },
    {
     "name": "stdout",
     "output_type": "stream",
     "text": [
      "[CV]  max_depth=10, min_samples_leaf=10, n_estimators=50, score=0.994, total=   0.1s\n",
      "[CV] max_depth=10, min_samples_leaf=10, n_estimators=50 ..............\n",
      "[CV]  max_depth=10, min_samples_leaf=10, n_estimators=50, score=0.990, total=   0.1s\n",
      "[CV] max_depth=10, min_samples_leaf=10, n_estimators=100 .............\n"
     ]
    },
    {
     "name": "stderr",
     "output_type": "stream",
     "text": [
      "[Parallel(n_jobs=1)]: Done   4 out of   4 | elapsed:    0.4s remaining:    0.0s\n"
     ]
    },
    {
     "name": "stdout",
     "output_type": "stream",
     "text": [
      "[CV]  max_depth=10, min_samples_leaf=10, n_estimators=100, score=0.986, total=   0.2s\n",
      "[CV] max_depth=10, min_samples_leaf=10, n_estimators=100 .............\n",
      "[CV]  max_depth=10, min_samples_leaf=10, n_estimators=100, score=0.985, total=   0.2s\n",
      "[CV] max_depth=10, min_samples_leaf=10, n_estimators=100 .............\n",
      "[CV]  max_depth=10, min_samples_leaf=10, n_estimators=100, score=1.000, total=   0.3s\n",
      "[CV] max_depth=10, min_samples_leaf=10, n_estimators=100 .............\n",
      "[CV]  max_depth=10, min_samples_leaf=10, n_estimators=100, score=0.994, total=   0.2s\n",
      "[CV] max_depth=10, min_samples_leaf=10, n_estimators=100 .............\n",
      "[CV]  max_depth=10, min_samples_leaf=10, n_estimators=100, score=0.989, total=   0.2s\n",
      "[CV] max_depth=10, min_samples_leaf=10, n_estimators=200 .............\n",
      "[CV]  max_depth=10, min_samples_leaf=10, n_estimators=200, score=0.987, total=   0.4s\n",
      "[CV] max_depth=10, min_samples_leaf=10, n_estimators=200 .............\n",
      "[CV]  max_depth=10, min_samples_leaf=10, n_estimators=200, score=0.983, total=   0.4s\n",
      "[CV] max_depth=10, min_samples_leaf=10, n_estimators=200 .............\n",
      "[CV]  max_depth=10, min_samples_leaf=10, n_estimators=200, score=1.000, total=   0.4s\n",
      "[CV] max_depth=10, min_samples_leaf=10, n_estimators=200 .............\n",
      "[CV]  max_depth=10, min_samples_leaf=10, n_estimators=200, score=0.994, total=   0.4s\n",
      "[CV] max_depth=10, min_samples_leaf=10, n_estimators=200 .............\n",
      "[CV]  max_depth=10, min_samples_leaf=10, n_estimators=200, score=0.989, total=   0.4s\n",
      "[CV] max_depth=10, min_samples_leaf=10, n_estimators=500 .............\n",
      "[CV]  max_depth=10, min_samples_leaf=10, n_estimators=500, score=0.987, total=   0.9s\n",
      "[CV] max_depth=10, min_samples_leaf=10, n_estimators=500 .............\n",
      "[CV]  max_depth=10, min_samples_leaf=10, n_estimators=500, score=0.984, total=   1.0s\n",
      "[CV] max_depth=10, min_samples_leaf=10, n_estimators=500 .............\n",
      "[CV]  max_depth=10, min_samples_leaf=10, n_estimators=500, score=1.000, total=   0.8s\n",
      "[CV] max_depth=10, min_samples_leaf=10, n_estimators=500 .............\n",
      "[CV]  max_depth=10, min_samples_leaf=10, n_estimators=500, score=0.993, total=   0.8s\n",
      "[CV] max_depth=10, min_samples_leaf=10, n_estimators=500 .............\n",
      "[CV]  max_depth=10, min_samples_leaf=10, n_estimators=500, score=0.990, total=   0.8s\n",
      "[CV] max_depth=10, min_samples_leaf=20, n_estimators=50 ..............\n",
      "[CV]  max_depth=10, min_samples_leaf=20, n_estimators=50, score=0.985, total=   0.1s\n",
      "[CV] max_depth=10, min_samples_leaf=20, n_estimators=50 ..............\n",
      "[CV]  max_depth=10, min_samples_leaf=20, n_estimators=50, score=0.983, total=   0.1s\n",
      "[CV] max_depth=10, min_samples_leaf=20, n_estimators=50 ..............\n",
      "[CV]  max_depth=10, min_samples_leaf=20, n_estimators=50, score=1.000, total=   0.1s\n",
      "[CV] max_depth=10, min_samples_leaf=20, n_estimators=50 ..............\n",
      "[CV]  max_depth=10, min_samples_leaf=20, n_estimators=50, score=0.994, total=   0.1s\n",
      "[CV] max_depth=10, min_samples_leaf=20, n_estimators=50 ..............\n",
      "[CV]  max_depth=10, min_samples_leaf=20, n_estimators=50, score=0.988, total=   0.1s\n",
      "[CV] max_depth=10, min_samples_leaf=20, n_estimators=100 .............\n",
      "[CV]  max_depth=10, min_samples_leaf=20, n_estimators=100, score=0.984, total=   0.2s\n",
      "[CV] max_depth=10, min_samples_leaf=20, n_estimators=100 .............\n",
      "[CV]  max_depth=10, min_samples_leaf=20, n_estimators=100, score=0.981, total=   0.2s\n",
      "[CV] max_depth=10, min_samples_leaf=20, n_estimators=100 .............\n",
      "[CV]  max_depth=10, min_samples_leaf=20, n_estimators=100, score=1.000, total=   0.2s\n",
      "[CV] max_depth=10, min_samples_leaf=20, n_estimators=100 .............\n",
      "[CV]  max_depth=10, min_samples_leaf=20, n_estimators=100, score=0.994, total=   0.2s\n",
      "[CV] max_depth=10, min_samples_leaf=20, n_estimators=100 .............\n",
      "[CV]  max_depth=10, min_samples_leaf=20, n_estimators=100, score=0.986, total=   0.2s\n",
      "[CV] max_depth=10, min_samples_leaf=20, n_estimators=200 .............\n",
      "[CV]  max_depth=10, min_samples_leaf=20, n_estimators=200, score=0.984, total=   0.3s\n",
      "[CV] max_depth=10, min_samples_leaf=20, n_estimators=200 .............\n",
      "[CV]  max_depth=10, min_samples_leaf=20, n_estimators=200, score=0.981, total=   0.3s\n",
      "[CV] max_depth=10, min_samples_leaf=20, n_estimators=200 .............\n",
      "[CV]  max_depth=10, min_samples_leaf=20, n_estimators=200, score=0.998, total=   0.3s\n",
      "[CV] max_depth=10, min_samples_leaf=20, n_estimators=200 .............\n",
      "[CV]  max_depth=10, min_samples_leaf=20, n_estimators=200, score=0.994, total=   0.3s\n",
      "[CV] max_depth=10, min_samples_leaf=20, n_estimators=200 .............\n",
      "[CV]  max_depth=10, min_samples_leaf=20, n_estimators=200, score=0.985, total=   0.3s\n",
      "[CV] max_depth=10, min_samples_leaf=20, n_estimators=500 .............\n",
      "[CV]  max_depth=10, min_samples_leaf=20, n_estimators=500, score=0.985, total=   0.9s\n",
      "[CV] max_depth=10, min_samples_leaf=20, n_estimators=500 .............\n",
      "[CV]  max_depth=10, min_samples_leaf=20, n_estimators=500, score=0.979, total=   0.8s\n",
      "[CV] max_depth=10, min_samples_leaf=20, n_estimators=500 .............\n",
      "[CV]  max_depth=10, min_samples_leaf=20, n_estimators=500, score=0.999, total=   0.8s\n",
      "[CV] max_depth=10, min_samples_leaf=20, n_estimators=500 .............\n",
      "[CV]  max_depth=10, min_samples_leaf=20, n_estimators=500, score=0.993, total=   0.8s\n",
      "[CV] max_depth=10, min_samples_leaf=20, n_estimators=500 .............\n",
      "[CV]  max_depth=10, min_samples_leaf=20, n_estimators=500, score=0.984, total=   0.8s\n",
      "[CV] max_depth=10, min_samples_leaf=50, n_estimators=50 ..............\n",
      "[CV]  max_depth=10, min_samples_leaf=50, n_estimators=50, score=0.981, total=   0.1s\n",
      "[CV] max_depth=10, min_samples_leaf=50, n_estimators=50 ..............\n",
      "[CV]  max_depth=10, min_samples_leaf=50, n_estimators=50, score=0.981, total=   0.1s\n",
      "[CV] max_depth=10, min_samples_leaf=50, n_estimators=50 ..............\n",
      "[CV]  max_depth=10, min_samples_leaf=50, n_estimators=50, score=0.997, total=   0.1s\n",
      "[CV] max_depth=10, min_samples_leaf=50, n_estimators=50 ..............\n",
      "[CV]  max_depth=10, min_samples_leaf=50, n_estimators=50, score=0.992, total=   0.1s\n",
      "[CV] max_depth=10, min_samples_leaf=50, n_estimators=50 ..............\n",
      "[CV]  max_depth=10, min_samples_leaf=50, n_estimators=50, score=0.984, total=   0.1s\n",
      "[CV] max_depth=10, min_samples_leaf=50, n_estimators=100 .............\n",
      "[CV]  max_depth=10, min_samples_leaf=50, n_estimators=100, score=0.982, total=   0.2s\n",
      "[CV] max_depth=10, min_samples_leaf=50, n_estimators=100 .............\n",
      "[CV]  max_depth=10, min_samples_leaf=50, n_estimators=100, score=0.973, total=   0.2s\n",
      "[CV] max_depth=10, min_samples_leaf=50, n_estimators=100 .............\n",
      "[CV]  max_depth=10, min_samples_leaf=50, n_estimators=100, score=0.997, total=   0.2s\n",
      "[CV] max_depth=10, min_samples_leaf=50, n_estimators=100 .............\n",
      "[CV]  max_depth=10, min_samples_leaf=50, n_estimators=100, score=0.992, total=   0.2s\n",
      "[CV] max_depth=10, min_samples_leaf=50, n_estimators=100 .............\n",
      "[CV]  max_depth=10, min_samples_leaf=50, n_estimators=100, score=0.980, total=   0.1s\n",
      "[CV] max_depth=10, min_samples_leaf=50, n_estimators=200 .............\n",
      "[CV]  max_depth=10, min_samples_leaf=50, n_estimators=200, score=0.981, total=   0.3s\n",
      "[CV] max_depth=10, min_samples_leaf=50, n_estimators=200 .............\n",
      "[CV]  max_depth=10, min_samples_leaf=50, n_estimators=200, score=0.976, total=   0.3s\n",
      "[CV] max_depth=10, min_samples_leaf=50, n_estimators=200 .............\n",
      "[CV]  max_depth=10, min_samples_leaf=50, n_estimators=200, score=0.997, total=   0.3s\n",
      "[CV] max_depth=10, min_samples_leaf=50, n_estimators=200 .............\n",
      "[CV]  max_depth=10, min_samples_leaf=50, n_estimators=200, score=0.992, total=   0.3s\n",
      "[CV] max_depth=10, min_samples_leaf=50, n_estimators=200 .............\n",
      "[CV]  max_depth=10, min_samples_leaf=50, n_estimators=200, score=0.978, total=   0.4s\n",
      "[CV] max_depth=10, min_samples_leaf=50, n_estimators=500 .............\n",
      "[CV]  max_depth=10, min_samples_leaf=50, n_estimators=500, score=0.982, total=   0.8s\n",
      "[CV] max_depth=10, min_samples_leaf=50, n_estimators=500 .............\n",
      "[CV]  max_depth=10, min_samples_leaf=50, n_estimators=500, score=0.977, total=   0.8s\n",
      "[CV] max_depth=10, min_samples_leaf=50, n_estimators=500 .............\n",
      "[CV]  max_depth=10, min_samples_leaf=50, n_estimators=500, score=0.997, total=   0.7s\n",
      "[CV] max_depth=10, min_samples_leaf=50, n_estimators=500 .............\n"
     ]
    },
    {
     "name": "stdout",
     "output_type": "stream",
     "text": [
      "[CV]  max_depth=10, min_samples_leaf=50, n_estimators=500, score=0.992, total=   0.7s\n",
      "[CV] max_depth=10, min_samples_leaf=50, n_estimators=500 .............\n",
      "[CV]  max_depth=10, min_samples_leaf=50, n_estimators=500, score=0.978, total=   0.8s\n",
      "[CV] max_depth=20, min_samples_leaf=10, n_estimators=50 ..............\n",
      "[CV]  max_depth=20, min_samples_leaf=10, n_estimators=50, score=0.985, total=   0.1s\n",
      "[CV] max_depth=20, min_samples_leaf=10, n_estimators=50 ..............\n",
      "[CV]  max_depth=20, min_samples_leaf=10, n_estimators=50, score=0.984, total=   0.1s\n",
      "[CV] max_depth=20, min_samples_leaf=10, n_estimators=50 ..............\n",
      "[CV]  max_depth=20, min_samples_leaf=10, n_estimators=50, score=1.000, total=   0.1s\n",
      "[CV] max_depth=20, min_samples_leaf=10, n_estimators=50 ..............\n",
      "[CV]  max_depth=20, min_samples_leaf=10, n_estimators=50, score=0.994, total=   0.1s\n",
      "[CV] max_depth=20, min_samples_leaf=10, n_estimators=50 ..............\n",
      "[CV]  max_depth=20, min_samples_leaf=10, n_estimators=50, score=0.990, total=   0.1s\n",
      "[CV] max_depth=20, min_samples_leaf=10, n_estimators=100 .............\n",
      "[CV]  max_depth=20, min_samples_leaf=10, n_estimators=100, score=0.986, total=   0.2s\n",
      "[CV] max_depth=20, min_samples_leaf=10, n_estimators=100 .............\n",
      "[CV]  max_depth=20, min_samples_leaf=10, n_estimators=100, score=0.985, total=   0.2s\n",
      "[CV] max_depth=20, min_samples_leaf=10, n_estimators=100 .............\n",
      "[CV]  max_depth=20, min_samples_leaf=10, n_estimators=100, score=1.000, total=   0.2s\n",
      "[CV] max_depth=20, min_samples_leaf=10, n_estimators=100 .............\n",
      "[CV]  max_depth=20, min_samples_leaf=10, n_estimators=100, score=0.994, total=   0.2s\n",
      "[CV] max_depth=20, min_samples_leaf=10, n_estimators=100 .............\n",
      "[CV]  max_depth=20, min_samples_leaf=10, n_estimators=100, score=0.989, total=   0.2s\n",
      "[CV] max_depth=20, min_samples_leaf=10, n_estimators=200 .............\n",
      "[CV]  max_depth=20, min_samples_leaf=10, n_estimators=200, score=0.987, total=   0.3s\n",
      "[CV] max_depth=20, min_samples_leaf=10, n_estimators=200 .............\n",
      "[CV]  max_depth=20, min_samples_leaf=10, n_estimators=200, score=0.983, total=   0.4s\n",
      "[CV] max_depth=20, min_samples_leaf=10, n_estimators=200 .............\n",
      "[CV]  max_depth=20, min_samples_leaf=10, n_estimators=200, score=1.000, total=   0.4s\n",
      "[CV] max_depth=20, min_samples_leaf=10, n_estimators=200 .............\n",
      "[CV]  max_depth=20, min_samples_leaf=10, n_estimators=200, score=0.994, total=   0.4s\n",
      "[CV] max_depth=20, min_samples_leaf=10, n_estimators=200 .............\n",
      "[CV]  max_depth=20, min_samples_leaf=10, n_estimators=200, score=0.989, total=   0.3s\n",
      "[CV] max_depth=20, min_samples_leaf=10, n_estimators=500 .............\n",
      "[CV]  max_depth=20, min_samples_leaf=10, n_estimators=500, score=0.987, total=   0.8s\n",
      "[CV] max_depth=20, min_samples_leaf=10, n_estimators=500 .............\n",
      "[CV]  max_depth=20, min_samples_leaf=10, n_estimators=500, score=0.984, total=   0.9s\n",
      "[CV] max_depth=20, min_samples_leaf=10, n_estimators=500 .............\n",
      "[CV]  max_depth=20, min_samples_leaf=10, n_estimators=500, score=1.000, total=   0.9s\n",
      "[CV] max_depth=20, min_samples_leaf=10, n_estimators=500 .............\n",
      "[CV]  max_depth=20, min_samples_leaf=10, n_estimators=500, score=0.993, total=   0.8s\n",
      "[CV] max_depth=20, min_samples_leaf=10, n_estimators=500 .............\n",
      "[CV]  max_depth=20, min_samples_leaf=10, n_estimators=500, score=0.990, total=   0.9s\n",
      "[CV] max_depth=20, min_samples_leaf=20, n_estimators=50 ..............\n",
      "[CV]  max_depth=20, min_samples_leaf=20, n_estimators=50, score=0.985, total=   0.1s\n",
      "[CV] max_depth=20, min_samples_leaf=20, n_estimators=50 ..............\n",
      "[CV]  max_depth=20, min_samples_leaf=20, n_estimators=50, score=0.983, total=   0.1s\n",
      "[CV] max_depth=20, min_samples_leaf=20, n_estimators=50 ..............\n",
      "[CV]  max_depth=20, min_samples_leaf=20, n_estimators=50, score=1.000, total=   0.1s\n",
      "[CV] max_depth=20, min_samples_leaf=20, n_estimators=50 ..............\n",
      "[CV]  max_depth=20, min_samples_leaf=20, n_estimators=50, score=0.994, total=   0.1s\n",
      "[CV] max_depth=20, min_samples_leaf=20, n_estimators=50 ..............\n",
      "[CV]  max_depth=20, min_samples_leaf=20, n_estimators=50, score=0.988, total=   0.1s\n",
      "[CV] max_depth=20, min_samples_leaf=20, n_estimators=100 .............\n",
      "[CV]  max_depth=20, min_samples_leaf=20, n_estimators=100, score=0.984, total=   0.2s\n",
      "[CV] max_depth=20, min_samples_leaf=20, n_estimators=100 .............\n",
      "[CV]  max_depth=20, min_samples_leaf=20, n_estimators=100, score=0.981, total=   0.2s\n",
      "[CV] max_depth=20, min_samples_leaf=20, n_estimators=100 .............\n",
      "[CV]  max_depth=20, min_samples_leaf=20, n_estimators=100, score=1.000, total=   0.2s\n",
      "[CV] max_depth=20, min_samples_leaf=20, n_estimators=100 .............\n",
      "[CV]  max_depth=20, min_samples_leaf=20, n_estimators=100, score=0.994, total=   0.2s\n",
      "[CV] max_depth=20, min_samples_leaf=20, n_estimators=100 .............\n",
      "[CV]  max_depth=20, min_samples_leaf=20, n_estimators=100, score=0.986, total=   0.2s\n",
      "[CV] max_depth=20, min_samples_leaf=20, n_estimators=200 .............\n",
      "[CV]  max_depth=20, min_samples_leaf=20, n_estimators=200, score=0.984, total=   0.4s\n",
      "[CV] max_depth=20, min_samples_leaf=20, n_estimators=200 .............\n",
      "[CV]  max_depth=20, min_samples_leaf=20, n_estimators=200, score=0.981, total=   0.3s\n",
      "[CV] max_depth=20, min_samples_leaf=20, n_estimators=200 .............\n",
      "[CV]  max_depth=20, min_samples_leaf=20, n_estimators=200, score=0.998, total=   0.3s\n",
      "[CV] max_depth=20, min_samples_leaf=20, n_estimators=200 .............\n",
      "[CV]  max_depth=20, min_samples_leaf=20, n_estimators=200, score=0.994, total=   0.3s\n",
      "[CV] max_depth=20, min_samples_leaf=20, n_estimators=200 .............\n",
      "[CV]  max_depth=20, min_samples_leaf=20, n_estimators=200, score=0.985, total=   0.4s\n",
      "[CV] max_depth=20, min_samples_leaf=20, n_estimators=500 .............\n",
      "[CV]  max_depth=20, min_samples_leaf=20, n_estimators=500, score=0.985, total=   0.9s\n",
      "[CV] max_depth=20, min_samples_leaf=20, n_estimators=500 .............\n",
      "[CV]  max_depth=20, min_samples_leaf=20, n_estimators=500, score=0.979, total=   0.9s\n",
      "[CV] max_depth=20, min_samples_leaf=20, n_estimators=500 .............\n",
      "[CV]  max_depth=20, min_samples_leaf=20, n_estimators=500, score=0.999, total=   0.8s\n",
      "[CV] max_depth=20, min_samples_leaf=20, n_estimators=500 .............\n",
      "[CV]  max_depth=20, min_samples_leaf=20, n_estimators=500, score=0.993, total=   0.8s\n",
      "[CV] max_depth=20, min_samples_leaf=20, n_estimators=500 .............\n",
      "[CV]  max_depth=20, min_samples_leaf=20, n_estimators=500, score=0.984, total=   0.9s\n",
      "[CV] max_depth=20, min_samples_leaf=50, n_estimators=50 ..............\n",
      "[CV]  max_depth=20, min_samples_leaf=50, n_estimators=50, score=0.981, total=   0.1s\n",
      "[CV] max_depth=20, min_samples_leaf=50, n_estimators=50 ..............\n",
      "[CV]  max_depth=20, min_samples_leaf=50, n_estimators=50, score=0.981, total=   0.1s\n",
      "[CV] max_depth=20, min_samples_leaf=50, n_estimators=50 ..............\n",
      "[CV]  max_depth=20, min_samples_leaf=50, n_estimators=50, score=0.997, total=   0.1s\n",
      "[CV] max_depth=20, min_samples_leaf=50, n_estimators=50 ..............\n",
      "[CV]  max_depth=20, min_samples_leaf=50, n_estimators=50, score=0.992, total=   0.1s\n",
      "[CV] max_depth=20, min_samples_leaf=50, n_estimators=50 ..............\n",
      "[CV]  max_depth=20, min_samples_leaf=50, n_estimators=50, score=0.984, total=   0.1s\n",
      "[CV] max_depth=20, min_samples_leaf=50, n_estimators=100 .............\n",
      "[CV]  max_depth=20, min_samples_leaf=50, n_estimators=100, score=0.982, total=   0.1s\n",
      "[CV] max_depth=20, min_samples_leaf=50, n_estimators=100 .............\n",
      "[CV]  max_depth=20, min_samples_leaf=50, n_estimators=100, score=0.973, total=   0.2s\n",
      "[CV] max_depth=20, min_samples_leaf=50, n_estimators=100 .............\n",
      "[CV]  max_depth=20, min_samples_leaf=50, n_estimators=100, score=0.997, total=   0.2s\n",
      "[CV] max_depth=20, min_samples_leaf=50, n_estimators=100 .............\n",
      "[CV]  max_depth=20, min_samples_leaf=50, n_estimators=100, score=0.992, total=   0.1s\n",
      "[CV] max_depth=20, min_samples_leaf=50, n_estimators=100 .............\n",
      "[CV]  max_depth=20, min_samples_leaf=50, n_estimators=100, score=0.980, total=   0.2s\n",
      "[CV] max_depth=20, min_samples_leaf=50, n_estimators=200 .............\n",
      "[CV]  max_depth=20, min_samples_leaf=50, n_estimators=200, score=0.981, total=   0.3s\n",
      "[CV] max_depth=20, min_samples_leaf=50, n_estimators=200 .............\n"
     ]
    },
    {
     "name": "stdout",
     "output_type": "stream",
     "text": [
      "[CV]  max_depth=20, min_samples_leaf=50, n_estimators=200, score=0.976, total=   0.3s\n",
      "[CV] max_depth=20, min_samples_leaf=50, n_estimators=200 .............\n",
      "[CV]  max_depth=20, min_samples_leaf=50, n_estimators=200, score=0.997, total=   0.3s\n",
      "[CV] max_depth=20, min_samples_leaf=50, n_estimators=200 .............\n",
      "[CV]  max_depth=20, min_samples_leaf=50, n_estimators=200, score=0.992, total=   0.3s\n",
      "[CV] max_depth=20, min_samples_leaf=50, n_estimators=200 .............\n",
      "[CV]  max_depth=20, min_samples_leaf=50, n_estimators=200, score=0.978, total=   0.4s\n",
      "[CV] max_depth=20, min_samples_leaf=50, n_estimators=500 .............\n",
      "[CV]  max_depth=20, min_samples_leaf=50, n_estimators=500, score=0.982, total=   0.8s\n",
      "[CV] max_depth=20, min_samples_leaf=50, n_estimators=500 .............\n",
      "[CV]  max_depth=20, min_samples_leaf=50, n_estimators=500, score=0.977, total=   0.7s\n",
      "[CV] max_depth=20, min_samples_leaf=50, n_estimators=500 .............\n",
      "[CV]  max_depth=20, min_samples_leaf=50, n_estimators=500, score=0.997, total=   0.8s\n",
      "[CV] max_depth=20, min_samples_leaf=50, n_estimators=500 .............\n",
      "[CV]  max_depth=20, min_samples_leaf=50, n_estimators=500, score=0.992, total=   0.9s\n",
      "[CV] max_depth=20, min_samples_leaf=50, n_estimators=500 .............\n",
      "[CV]  max_depth=20, min_samples_leaf=50, n_estimators=500, score=0.978, total=   0.8s\n",
      "[CV] max_depth=50, min_samples_leaf=10, n_estimators=50 ..............\n",
      "[CV]  max_depth=50, min_samples_leaf=10, n_estimators=50, score=0.985, total=   0.1s\n",
      "[CV] max_depth=50, min_samples_leaf=10, n_estimators=50 ..............\n",
      "[CV]  max_depth=50, min_samples_leaf=10, n_estimators=50, score=0.984, total=   0.1s\n",
      "[CV] max_depth=50, min_samples_leaf=10, n_estimators=50 ..............\n",
      "[CV]  max_depth=50, min_samples_leaf=10, n_estimators=50, score=1.000, total=   0.1s\n",
      "[CV] max_depth=50, min_samples_leaf=10, n_estimators=50 ..............\n",
      "[CV]  max_depth=50, min_samples_leaf=10, n_estimators=50, score=0.994, total=   0.1s\n",
      "[CV] max_depth=50, min_samples_leaf=10, n_estimators=50 ..............\n",
      "[CV]  max_depth=50, min_samples_leaf=10, n_estimators=50, score=0.990, total=   0.1s\n",
      "[CV] max_depth=50, min_samples_leaf=10, n_estimators=100 .............\n",
      "[CV]  max_depth=50, min_samples_leaf=10, n_estimators=100, score=0.986, total=   0.2s\n",
      "[CV] max_depth=50, min_samples_leaf=10, n_estimators=100 .............\n",
      "[CV]  max_depth=50, min_samples_leaf=10, n_estimators=100, score=0.985, total=   0.2s\n",
      "[CV] max_depth=50, min_samples_leaf=10, n_estimators=100 .............\n",
      "[CV]  max_depth=50, min_samples_leaf=10, n_estimators=100, score=1.000, total=   0.2s\n",
      "[CV] max_depth=50, min_samples_leaf=10, n_estimators=100 .............\n",
      "[CV]  max_depth=50, min_samples_leaf=10, n_estimators=100, score=0.994, total=   0.2s\n",
      "[CV] max_depth=50, min_samples_leaf=10, n_estimators=100 .............\n",
      "[CV]  max_depth=50, min_samples_leaf=10, n_estimators=100, score=0.989, total=   0.2s\n",
      "[CV] max_depth=50, min_samples_leaf=10, n_estimators=200 .............\n",
      "[CV]  max_depth=50, min_samples_leaf=10, n_estimators=200, score=0.987, total=   0.3s\n",
      "[CV] max_depth=50, min_samples_leaf=10, n_estimators=200 .............\n",
      "[CV]  max_depth=50, min_samples_leaf=10, n_estimators=200, score=0.983, total=   0.4s\n",
      "[CV] max_depth=50, min_samples_leaf=10, n_estimators=200 .............\n",
      "[CV]  max_depth=50, min_samples_leaf=10, n_estimators=200, score=1.000, total=   0.3s\n",
      "[CV] max_depth=50, min_samples_leaf=10, n_estimators=200 .............\n",
      "[CV]  max_depth=50, min_samples_leaf=10, n_estimators=200, score=0.994, total=   0.3s\n",
      "[CV] max_depth=50, min_samples_leaf=10, n_estimators=200 .............\n",
      "[CV]  max_depth=50, min_samples_leaf=10, n_estimators=200, score=0.989, total=   0.4s\n",
      "[CV] max_depth=50, min_samples_leaf=10, n_estimators=500 .............\n",
      "[CV]  max_depth=50, min_samples_leaf=10, n_estimators=500, score=0.987, total=   0.9s\n",
      "[CV] max_depth=50, min_samples_leaf=10, n_estimators=500 .............\n",
      "[CV]  max_depth=50, min_samples_leaf=10, n_estimators=500, score=0.984, total=   0.8s\n",
      "[CV] max_depth=50, min_samples_leaf=10, n_estimators=500 .............\n",
      "[CV]  max_depth=50, min_samples_leaf=10, n_estimators=500, score=1.000, total=   0.9s\n",
      "[CV] max_depth=50, min_samples_leaf=10, n_estimators=500 .............\n",
      "[CV]  max_depth=50, min_samples_leaf=10, n_estimators=500, score=0.993, total=   0.8s\n",
      "[CV] max_depth=50, min_samples_leaf=10, n_estimators=500 .............\n",
      "[CV]  max_depth=50, min_samples_leaf=10, n_estimators=500, score=0.990, total=   0.8s\n",
      "[CV] max_depth=50, min_samples_leaf=20, n_estimators=50 ..............\n",
      "[CV]  max_depth=50, min_samples_leaf=20, n_estimators=50, score=0.985, total=   0.1s\n",
      "[CV] max_depth=50, min_samples_leaf=20, n_estimators=50 ..............\n",
      "[CV]  max_depth=50, min_samples_leaf=20, n_estimators=50, score=0.983, total=   0.1s\n",
      "[CV] max_depth=50, min_samples_leaf=20, n_estimators=50 ..............\n",
      "[CV]  max_depth=50, min_samples_leaf=20, n_estimators=50, score=1.000, total=   0.1s\n",
      "[CV] max_depth=50, min_samples_leaf=20, n_estimators=50 ..............\n",
      "[CV]  max_depth=50, min_samples_leaf=20, n_estimators=50, score=0.994, total=   0.1s\n",
      "[CV] max_depth=50, min_samples_leaf=20, n_estimators=50 ..............\n",
      "[CV]  max_depth=50, min_samples_leaf=20, n_estimators=50, score=0.988, total=   0.1s\n",
      "[CV] max_depth=50, min_samples_leaf=20, n_estimators=100 .............\n",
      "[CV]  max_depth=50, min_samples_leaf=20, n_estimators=100, score=0.984, total=   0.2s\n",
      "[CV] max_depth=50, min_samples_leaf=20, n_estimators=100 .............\n",
      "[CV]  max_depth=50, min_samples_leaf=20, n_estimators=100, score=0.981, total=   0.2s\n",
      "[CV] max_depth=50, min_samples_leaf=20, n_estimators=100 .............\n",
      "[CV]  max_depth=50, min_samples_leaf=20, n_estimators=100, score=1.000, total=   0.2s\n",
      "[CV] max_depth=50, min_samples_leaf=20, n_estimators=100 .............\n",
      "[CV]  max_depth=50, min_samples_leaf=20, n_estimators=100, score=0.994, total=   0.2s\n",
      "[CV] max_depth=50, min_samples_leaf=20, n_estimators=100 .............\n",
      "[CV]  max_depth=50, min_samples_leaf=20, n_estimators=100, score=0.986, total=   0.2s\n",
      "[CV] max_depth=50, min_samples_leaf=20, n_estimators=200 .............\n",
      "[CV]  max_depth=50, min_samples_leaf=20, n_estimators=200, score=0.984, total=   0.3s\n",
      "[CV] max_depth=50, min_samples_leaf=20, n_estimators=200 .............\n",
      "[CV]  max_depth=50, min_samples_leaf=20, n_estimators=200, score=0.981, total=   0.4s\n",
      "[CV] max_depth=50, min_samples_leaf=20, n_estimators=200 .............\n",
      "[CV]  max_depth=50, min_samples_leaf=20, n_estimators=200, score=0.998, total=   0.3s\n",
      "[CV] max_depth=50, min_samples_leaf=20, n_estimators=200 .............\n",
      "[CV]  max_depth=50, min_samples_leaf=20, n_estimators=200, score=0.994, total=   0.3s\n",
      "[CV] max_depth=50, min_samples_leaf=20, n_estimators=200 .............\n",
      "[CV]  max_depth=50, min_samples_leaf=20, n_estimators=200, score=0.985, total=   0.3s\n",
      "[CV] max_depth=50, min_samples_leaf=20, n_estimators=500 .............\n",
      "[CV]  max_depth=50, min_samples_leaf=20, n_estimators=500, score=0.985, total=   0.8s\n",
      "[CV] max_depth=50, min_samples_leaf=20, n_estimators=500 .............\n",
      "[CV]  max_depth=50, min_samples_leaf=20, n_estimators=500, score=0.979, total=   0.8s\n",
      "[CV] max_depth=50, min_samples_leaf=20, n_estimators=500 .............\n",
      "[CV]  max_depth=50, min_samples_leaf=20, n_estimators=500, score=0.999, total=   0.8s\n",
      "[CV] max_depth=50, min_samples_leaf=20, n_estimators=500 .............\n",
      "[CV]  max_depth=50, min_samples_leaf=20, n_estimators=500, score=0.993, total=   0.7s\n",
      "[CV] max_depth=50, min_samples_leaf=20, n_estimators=500 .............\n",
      "[CV]  max_depth=50, min_samples_leaf=20, n_estimators=500, score=0.984, total=   0.8s\n",
      "[CV] max_depth=50, min_samples_leaf=50, n_estimators=50 ..............\n",
      "[CV]  max_depth=50, min_samples_leaf=50, n_estimators=50, score=0.981, total=   0.1s\n",
      "[CV] max_depth=50, min_samples_leaf=50, n_estimators=50 ..............\n",
      "[CV]  max_depth=50, min_samples_leaf=50, n_estimators=50, score=0.981, total=   0.1s\n",
      "[CV] max_depth=50, min_samples_leaf=50, n_estimators=50 ..............\n",
      "[CV]  max_depth=50, min_samples_leaf=50, n_estimators=50, score=0.997, total=   0.1s\n",
      "[CV] max_depth=50, min_samples_leaf=50, n_estimators=50 ..............\n",
      "[CV]  max_depth=50, min_samples_leaf=50, n_estimators=50, score=0.992, total=   0.1s\n",
      "[CV] max_depth=50, min_samples_leaf=50, n_estimators=50 ..............\n",
      "[CV]  max_depth=50, min_samples_leaf=50, n_estimators=50, score=0.984, total=   0.1s\n",
      "[CV] max_depth=50, min_samples_leaf=50, n_estimators=100 .............\n"
     ]
    },
    {
     "name": "stdout",
     "output_type": "stream",
     "text": [
      "[CV]  max_depth=50, min_samples_leaf=50, n_estimators=100, score=0.982, total=   0.2s\n",
      "[CV] max_depth=50, min_samples_leaf=50, n_estimators=100 .............\n",
      "[CV]  max_depth=50, min_samples_leaf=50, n_estimators=100, score=0.973, total=   0.2s\n",
      "[CV] max_depth=50, min_samples_leaf=50, n_estimators=100 .............\n",
      "[CV]  max_depth=50, min_samples_leaf=50, n_estimators=100, score=0.997, total=   0.2s\n",
      "[CV] max_depth=50, min_samples_leaf=50, n_estimators=100 .............\n",
      "[CV]  max_depth=50, min_samples_leaf=50, n_estimators=100, score=0.992, total=   0.2s\n",
      "[CV] max_depth=50, min_samples_leaf=50, n_estimators=100 .............\n",
      "[CV]  max_depth=50, min_samples_leaf=50, n_estimators=100, score=0.980, total=   0.2s\n",
      "[CV] max_depth=50, min_samples_leaf=50, n_estimators=200 .............\n",
      "[CV]  max_depth=50, min_samples_leaf=50, n_estimators=200, score=0.981, total=   0.4s\n",
      "[CV] max_depth=50, min_samples_leaf=50, n_estimators=200 .............\n",
      "[CV]  max_depth=50, min_samples_leaf=50, n_estimators=200, score=0.976, total=   0.4s\n",
      "[CV] max_depth=50, min_samples_leaf=50, n_estimators=200 .............\n",
      "[CV]  max_depth=50, min_samples_leaf=50, n_estimators=200, score=0.997, total=   0.3s\n",
      "[CV] max_depth=50, min_samples_leaf=50, n_estimators=200 .............\n",
      "[CV]  max_depth=50, min_samples_leaf=50, n_estimators=200, score=0.992, total=   0.3s\n",
      "[CV] max_depth=50, min_samples_leaf=50, n_estimators=200 .............\n",
      "[CV]  max_depth=50, min_samples_leaf=50, n_estimators=200, score=0.978, total=   0.3s\n",
      "[CV] max_depth=50, min_samples_leaf=50, n_estimators=500 .............\n",
      "[CV]  max_depth=50, min_samples_leaf=50, n_estimators=500, score=0.982, total=   0.8s\n",
      "[CV] max_depth=50, min_samples_leaf=50, n_estimators=500 .............\n",
      "[CV]  max_depth=50, min_samples_leaf=50, n_estimators=500, score=0.977, total=   0.7s\n",
      "[CV] max_depth=50, min_samples_leaf=50, n_estimators=500 .............\n",
      "[CV]  max_depth=50, min_samples_leaf=50, n_estimators=500, score=0.997, total=   0.7s\n",
      "[CV] max_depth=50, min_samples_leaf=50, n_estimators=500 .............\n",
      "[CV]  max_depth=50, min_samples_leaf=50, n_estimators=500, score=0.992, total=   0.8s\n",
      "[CV] max_depth=50, min_samples_leaf=50, n_estimators=500 .............\n",
      "[CV]  max_depth=50, min_samples_leaf=50, n_estimators=500, score=0.978, total=   0.7s\n",
      "[CV] max_depth=100, min_samples_leaf=10, n_estimators=50 .............\n",
      "[CV]  max_depth=100, min_samples_leaf=10, n_estimators=50, score=0.985, total=   0.1s\n",
      "[CV] max_depth=100, min_samples_leaf=10, n_estimators=50 .............\n",
      "[CV]  max_depth=100, min_samples_leaf=10, n_estimators=50, score=0.984, total=   0.1s\n",
      "[CV] max_depth=100, min_samples_leaf=10, n_estimators=50 .............\n",
      "[CV]  max_depth=100, min_samples_leaf=10, n_estimators=50, score=1.000, total=   0.1s\n",
      "[CV] max_depth=100, min_samples_leaf=10, n_estimators=50 .............\n",
      "[CV]  max_depth=100, min_samples_leaf=10, n_estimators=50, score=0.994, total=   0.1s\n",
      "[CV] max_depth=100, min_samples_leaf=10, n_estimators=50 .............\n",
      "[CV]  max_depth=100, min_samples_leaf=10, n_estimators=50, score=0.990, total=   0.1s\n",
      "[CV] max_depth=100, min_samples_leaf=10, n_estimators=100 ............\n",
      "[CV]  max_depth=100, min_samples_leaf=10, n_estimators=100, score=0.986, total=   0.2s\n",
      "[CV] max_depth=100, min_samples_leaf=10, n_estimators=100 ............\n",
      "[CV]  max_depth=100, min_samples_leaf=10, n_estimators=100, score=0.985, total=   0.2s\n",
      "[CV] max_depth=100, min_samples_leaf=10, n_estimators=100 ............\n",
      "[CV]  max_depth=100, min_samples_leaf=10, n_estimators=100, score=1.000, total=   0.2s\n",
      "[CV] max_depth=100, min_samples_leaf=10, n_estimators=100 ............\n",
      "[CV]  max_depth=100, min_samples_leaf=10, n_estimators=100, score=0.994, total=   0.2s\n",
      "[CV] max_depth=100, min_samples_leaf=10, n_estimators=100 ............\n",
      "[CV]  max_depth=100, min_samples_leaf=10, n_estimators=100, score=0.989, total=   0.2s\n",
      "[CV] max_depth=100, min_samples_leaf=10, n_estimators=200 ............\n",
      "[CV]  max_depth=100, min_samples_leaf=10, n_estimators=200, score=0.987, total=   0.4s\n",
      "[CV] max_depth=100, min_samples_leaf=10, n_estimators=200 ............\n",
      "[CV]  max_depth=100, min_samples_leaf=10, n_estimators=200, score=0.983, total=   0.3s\n",
      "[CV] max_depth=100, min_samples_leaf=10, n_estimators=200 ............\n",
      "[CV]  max_depth=100, min_samples_leaf=10, n_estimators=200, score=1.000, total=   0.4s\n",
      "[CV] max_depth=100, min_samples_leaf=10, n_estimators=200 ............\n",
      "[CV]  max_depth=100, min_samples_leaf=10, n_estimators=200, score=0.994, total=   0.4s\n",
      "[CV] max_depth=100, min_samples_leaf=10, n_estimators=200 ............\n",
      "[CV]  max_depth=100, min_samples_leaf=10, n_estimators=200, score=0.989, total=   0.3s\n",
      "[CV] max_depth=100, min_samples_leaf=10, n_estimators=500 ............\n",
      "[CV]  max_depth=100, min_samples_leaf=10, n_estimators=500, score=0.987, total=   1.0s\n",
      "[CV] max_depth=100, min_samples_leaf=10, n_estimators=500 ............\n",
      "[CV]  max_depth=100, min_samples_leaf=10, n_estimators=500, score=0.984, total=   0.9s\n",
      "[CV] max_depth=100, min_samples_leaf=10, n_estimators=500 ............\n",
      "[CV]  max_depth=100, min_samples_leaf=10, n_estimators=500, score=1.000, total=   0.9s\n",
      "[CV] max_depth=100, min_samples_leaf=10, n_estimators=500 ............\n",
      "[CV]  max_depth=100, min_samples_leaf=10, n_estimators=500, score=0.993, total=   0.9s\n",
      "[CV] max_depth=100, min_samples_leaf=10, n_estimators=500 ............\n",
      "[CV]  max_depth=100, min_samples_leaf=10, n_estimators=500, score=0.990, total=   0.8s\n",
      "[CV] max_depth=100, min_samples_leaf=20, n_estimators=50 .............\n",
      "[CV]  max_depth=100, min_samples_leaf=20, n_estimators=50, score=0.985, total=   0.1s\n",
      "[CV] max_depth=100, min_samples_leaf=20, n_estimators=50 .............\n",
      "[CV]  max_depth=100, min_samples_leaf=20, n_estimators=50, score=0.983, total=   0.1s\n",
      "[CV] max_depth=100, min_samples_leaf=20, n_estimators=50 .............\n",
      "[CV]  max_depth=100, min_samples_leaf=20, n_estimators=50, score=1.000, total=   0.1s\n",
      "[CV] max_depth=100, min_samples_leaf=20, n_estimators=50 .............\n",
      "[CV]  max_depth=100, min_samples_leaf=20, n_estimators=50, score=0.994, total=   0.1s\n",
      "[CV] max_depth=100, min_samples_leaf=20, n_estimators=50 .............\n",
      "[CV]  max_depth=100, min_samples_leaf=20, n_estimators=50, score=0.988, total=   0.1s\n",
      "[CV] max_depth=100, min_samples_leaf=20, n_estimators=100 ............\n",
      "[CV]  max_depth=100, min_samples_leaf=20, n_estimators=100, score=0.984, total=   0.2s\n",
      "[CV] max_depth=100, min_samples_leaf=20, n_estimators=100 ............\n",
      "[CV]  max_depth=100, min_samples_leaf=20, n_estimators=100, score=0.981, total=   0.2s\n",
      "[CV] max_depth=100, min_samples_leaf=20, n_estimators=100 ............\n",
      "[CV]  max_depth=100, min_samples_leaf=20, n_estimators=100, score=1.000, total=   0.2s\n",
      "[CV] max_depth=100, min_samples_leaf=20, n_estimators=100 ............\n",
      "[CV]  max_depth=100, min_samples_leaf=20, n_estimators=100, score=0.994, total=   0.2s\n",
      "[CV] max_depth=100, min_samples_leaf=20, n_estimators=100 ............\n",
      "[CV]  max_depth=100, min_samples_leaf=20, n_estimators=100, score=0.986, total=   0.2s\n",
      "[CV] max_depth=100, min_samples_leaf=20, n_estimators=200 ............\n",
      "[CV]  max_depth=100, min_samples_leaf=20, n_estimators=200, score=0.984, total=   0.3s\n",
      "[CV] max_depth=100, min_samples_leaf=20, n_estimators=200 ............\n",
      "[CV]  max_depth=100, min_samples_leaf=20, n_estimators=200, score=0.981, total=   0.3s\n",
      "[CV] max_depth=100, min_samples_leaf=20, n_estimators=200 ............\n",
      "[CV]  max_depth=100, min_samples_leaf=20, n_estimators=200, score=0.998, total=   0.3s\n",
      "[CV] max_depth=100, min_samples_leaf=20, n_estimators=200 ............\n",
      "[CV]  max_depth=100, min_samples_leaf=20, n_estimators=200, score=0.994, total=   0.3s\n",
      "[CV] max_depth=100, min_samples_leaf=20, n_estimators=200 ............\n",
      "[CV]  max_depth=100, min_samples_leaf=20, n_estimators=200, score=0.985, total=   0.3s\n",
      "[CV] max_depth=100, min_samples_leaf=20, n_estimators=500 ............\n",
      "[CV]  max_depth=100, min_samples_leaf=20, n_estimators=500, score=0.985, total=   0.9s\n",
      "[CV] max_depth=100, min_samples_leaf=20, n_estimators=500 ............\n",
      "[CV]  max_depth=100, min_samples_leaf=20, n_estimators=500, score=0.979, total=   0.9s\n",
      "[CV] max_depth=100, min_samples_leaf=20, n_estimators=500 ............\n",
      "[CV]  max_depth=100, min_samples_leaf=20, n_estimators=500, score=0.999, total=   0.8s\n",
      "[CV] max_depth=100, min_samples_leaf=20, n_estimators=500 ............\n"
     ]
    },
    {
     "name": "stdout",
     "output_type": "stream",
     "text": [
      "[CV]  max_depth=100, min_samples_leaf=20, n_estimators=500, score=0.993, total=   0.9s\n",
      "[CV] max_depth=100, min_samples_leaf=20, n_estimators=500 ............\n",
      "[CV]  max_depth=100, min_samples_leaf=20, n_estimators=500, score=0.984, total=   0.7s\n",
      "[CV] max_depth=100, min_samples_leaf=50, n_estimators=50 .............\n",
      "[CV]  max_depth=100, min_samples_leaf=50, n_estimators=50, score=0.981, total=   0.1s\n",
      "[CV] max_depth=100, min_samples_leaf=50, n_estimators=50 .............\n",
      "[CV]  max_depth=100, min_samples_leaf=50, n_estimators=50, score=0.981, total=   0.1s\n",
      "[CV] max_depth=100, min_samples_leaf=50, n_estimators=50 .............\n",
      "[CV]  max_depth=100, min_samples_leaf=50, n_estimators=50, score=0.997, total=   0.1s\n",
      "[CV] max_depth=100, min_samples_leaf=50, n_estimators=50 .............\n",
      "[CV]  max_depth=100, min_samples_leaf=50, n_estimators=50, score=0.992, total=   0.1s\n",
      "[CV] max_depth=100, min_samples_leaf=50, n_estimators=50 .............\n",
      "[CV]  max_depth=100, min_samples_leaf=50, n_estimators=50, score=0.984, total=   0.1s\n",
      "[CV] max_depth=100, min_samples_leaf=50, n_estimators=100 ............\n",
      "[CV]  max_depth=100, min_samples_leaf=50, n_estimators=100, score=0.982, total=   0.2s\n",
      "[CV] max_depth=100, min_samples_leaf=50, n_estimators=100 ............\n",
      "[CV]  max_depth=100, min_samples_leaf=50, n_estimators=100, score=0.973, total=   0.2s\n",
      "[CV] max_depth=100, min_samples_leaf=50, n_estimators=100 ............\n",
      "[CV]  max_depth=100, min_samples_leaf=50, n_estimators=100, score=0.997, total=   0.2s\n",
      "[CV] max_depth=100, min_samples_leaf=50, n_estimators=100 ............\n",
      "[CV]  max_depth=100, min_samples_leaf=50, n_estimators=100, score=0.992, total=   0.2s\n",
      "[CV] max_depth=100, min_samples_leaf=50, n_estimators=100 ............\n",
      "[CV]  max_depth=100, min_samples_leaf=50, n_estimators=100, score=0.980, total=   0.1s\n",
      "[CV] max_depth=100, min_samples_leaf=50, n_estimators=200 ............\n",
      "[CV]  max_depth=100, min_samples_leaf=50, n_estimators=200, score=0.981, total=   0.3s\n",
      "[CV] max_depth=100, min_samples_leaf=50, n_estimators=200 ............\n",
      "[CV]  max_depth=100, min_samples_leaf=50, n_estimators=200, score=0.976, total=   0.3s\n",
      "[CV] max_depth=100, min_samples_leaf=50, n_estimators=200 ............\n",
      "[CV]  max_depth=100, min_samples_leaf=50, n_estimators=200, score=0.997, total=   0.3s\n",
      "[CV] max_depth=100, min_samples_leaf=50, n_estimators=200 ............\n",
      "[CV]  max_depth=100, min_samples_leaf=50, n_estimators=200, score=0.992, total=   0.3s\n",
      "[CV] max_depth=100, min_samples_leaf=50, n_estimators=200 ............\n",
      "[CV]  max_depth=100, min_samples_leaf=50, n_estimators=200, score=0.978, total=   0.3s\n",
      "[CV] max_depth=100, min_samples_leaf=50, n_estimators=500 ............\n",
      "[CV]  max_depth=100, min_samples_leaf=50, n_estimators=500, score=0.982, total=   0.8s\n",
      "[CV] max_depth=100, min_samples_leaf=50, n_estimators=500 ............\n",
      "[CV]  max_depth=100, min_samples_leaf=50, n_estimators=500, score=0.977, total=   0.8s\n",
      "[CV] max_depth=100, min_samples_leaf=50, n_estimators=500 ............\n",
      "[CV]  max_depth=100, min_samples_leaf=50, n_estimators=500, score=0.997, total=   0.9s\n",
      "[CV] max_depth=100, min_samples_leaf=50, n_estimators=500 ............\n",
      "[CV]  max_depth=100, min_samples_leaf=50, n_estimators=500, score=0.992, total=   0.8s\n",
      "[CV] max_depth=100, min_samples_leaf=50, n_estimators=500 ............\n",
      "[CV]  max_depth=100, min_samples_leaf=50, n_estimators=500, score=0.978, total=   0.8s\n"
     ]
    },
    {
     "name": "stderr",
     "output_type": "stream",
     "text": [
      "[Parallel(n_jobs=1)]: Done 240 out of 240 | elapsed:  1.4min finished\n"
     ]
    },
    {
     "data": {
      "text/plain": [
       "GridSearchCV(estimator=RandomForestClassifier(class_weight={0: 1,\n",
       "                                                            1: 0.5983935742971888},\n",
       "                                              random_state=0, warm_start=True),\n",
       "             param_grid={'max_depth': [10, 20, 50, 100],\n",
       "                         'min_samples_leaf': [10, 20, 50],\n",
       "                         'n_estimators': [50, 100, 200, 500]},\n",
       "             scoring='roc_auc', verbose=5)"
      ]
     },
     "execution_count": 26,
     "metadata": {},
     "output_type": "execute_result"
    }
   ],
   "source": [
    "cv_grid = GridSearchCV(estimator, param_grid = rf_tuned_parameters, scoring = 'roc_auc', verbose = 5) # 'recall', my_score\n",
    "cv_grid.fit(X_train, y_train)"
   ]
  },
  {
   "cell_type": "code",
   "execution_count": 27,
   "metadata": {},
   "outputs": [
    {
     "data": {
      "text/plain": [
       "{'mean_fit_time': array([0.11321235, 0.19741468, 0.353227  , 0.80486183, 0.0780056 ,\n",
       "        0.15081015, 0.30142269, 0.78485928, 0.07460418, 0.14601016,\n",
       "        0.3046217 , 0.72785587, 0.08380628, 0.1738133 , 0.32642512,\n",
       "        0.79005976, 0.0744071 , 0.15921202, 0.31842413, 0.8088624 ,\n",
       "        0.06900554, 0.14261189, 0.30382328, 0.7468574 , 0.08580647,\n",
       "        0.17021375, 0.31802464, 0.80906115, 0.08500571, 0.17021284,\n",
       "        0.29842267, 0.74685678, 0.07080574, 0.16560469, 0.31502442,\n",
       "        0.73465605, 0.07500482, 0.15361085, 0.33622546, 0.85986524,\n",
       "        0.08420639, 0.16881289, 0.29202223, 0.79306073, 0.0716054 ,\n",
       "        0.15721183, 0.27602129, 0.75965867]),\n",
       " 'std_fit_time': array([0.01738767, 0.04840955, 0.012352  , 0.05947345, 0.00572697,\n",
       "        0.00444481, 0.01504344, 0.05937189, 0.00631262, 0.010451  ,\n",
       "        0.0255492 , 0.04497219, 0.00890733, 0.00601486, 0.02343436,\n",
       "        0.0375533 , 0.00480131, 0.01062849, 0.02110698, 0.0382364 ,\n",
       "        0.00505999, 0.01197748, 0.02087696, 0.04236572, 0.00649288,\n",
       "        0.00805982, 0.02373377, 0.03631192, 0.00167311, 0.01195917,\n",
       "        0.02017442, 0.04911883, 0.00786062, 0.02027264, 0.01899713,\n",
       "        0.04290571, 0.0037951 , 0.01276758, 0.02113323, 0.04607947,\n",
       "        0.00523093, 0.01666632, 0.01418513, 0.06252564, 0.00462875,\n",
       "        0.01654673, 0.01657815, 0.03803186]),\n",
       " 'mean_score_time': array([0.00859699, 0.01260033, 0.02340279, 0.04600325, 0.00720034,\n",
       "        0.01080265, 0.02020192, 0.04600344, 0.00760055, 0.0120007 ,\n",
       "        0.02000213, 0.04620404, 0.00780025, 0.01260123, 0.0200016 ,\n",
       "        0.04620395, 0.00719976, 0.01180086, 0.02120161, 0.04800353,\n",
       "        0.0070004 , 0.01179981, 0.02040133, 0.04760365, 0.00840101,\n",
       "        0.01220069, 0.02100368, 0.05100374, 0.00780044, 0.01240201,\n",
       "        0.02020092, 0.04500375, 0.00739965, 0.01240091, 0.02160149,\n",
       "        0.04500346, 0.00680075, 0.01220107, 0.02220249, 0.04820428,\n",
       "        0.00820069, 0.01180019, 0.02040825, 0.04620428, 0.00740061,\n",
       "        0.01180182, 0.01940284, 0.04640279]),\n",
       " 'std_score_time': array([0.00101517, 0.00241703, 0.00382751, 0.00384749, 0.00040026,\n",
       "        0.00116714, 0.00222833, 0.00282907, 0.00049008, 0.00126478,\n",
       "        0.0017903 , 0.00386804, 0.00132624, 0.00080018, 0.00209765,\n",
       "        0.00479235, 0.00116638, 0.00160061, 0.00183393, 0.00260764,\n",
       "        0.00063249, 0.00116618, 0.00224597, 0.00174405, 0.00079949,\n",
       "        0.0011667 , 0.00109685, 0.00167348, 0.00039988, 0.00102004,\n",
       "        0.00160045, 0.00384788, 0.00101863, 0.00048955, 0.00196017,\n",
       "        0.00447235, 0.00039999, 0.00116622, 0.00278535, 0.00305965,\n",
       "        0.00039826, 0.00116686, 0.00206822, 0.00278671, 0.00049058,\n",
       "        0.00116611, 0.00149842, 0.00398049]),\n",
       " 'param_max_depth': masked_array(data=[10, 10, 10, 10, 10, 10, 10, 10, 10, 10, 10, 10, 20, 20,\n",
       "                    20, 20, 20, 20, 20, 20, 20, 20, 20, 20, 50, 50, 50, 50,\n",
       "                    50, 50, 50, 50, 50, 50, 50, 50, 100, 100, 100, 100,\n",
       "                    100, 100, 100, 100, 100, 100, 100, 100],\n",
       "              mask=[False, False, False, False, False, False, False, False,\n",
       "                    False, False, False, False, False, False, False, False,\n",
       "                    False, False, False, False, False, False, False, False,\n",
       "                    False, False, False, False, False, False, False, False,\n",
       "                    False, False, False, False, False, False, False, False,\n",
       "                    False, False, False, False, False, False, False, False],\n",
       "        fill_value='?',\n",
       "             dtype=object),\n",
       " 'param_min_samples_leaf': masked_array(data=[10, 10, 10, 10, 20, 20, 20, 20, 50, 50, 50, 50, 10, 10,\n",
       "                    10, 10, 20, 20, 20, 20, 50, 50, 50, 50, 10, 10, 10, 10,\n",
       "                    20, 20, 20, 20, 50, 50, 50, 50, 10, 10, 10, 10, 20, 20,\n",
       "                    20, 20, 50, 50, 50, 50],\n",
       "              mask=[False, False, False, False, False, False, False, False,\n",
       "                    False, False, False, False, False, False, False, False,\n",
       "                    False, False, False, False, False, False, False, False,\n",
       "                    False, False, False, False, False, False, False, False,\n",
       "                    False, False, False, False, False, False, False, False,\n",
       "                    False, False, False, False, False, False, False, False],\n",
       "        fill_value='?',\n",
       "             dtype=object),\n",
       " 'param_n_estimators': masked_array(data=[50, 100, 200, 500, 50, 100, 200, 500, 50, 100, 200,\n",
       "                    500, 50, 100, 200, 500, 50, 100, 200, 500, 50, 100,\n",
       "                    200, 500, 50, 100, 200, 500, 50, 100, 200, 500, 50,\n",
       "                    100, 200, 500, 50, 100, 200, 500, 50, 100, 200, 500,\n",
       "                    50, 100, 200, 500],\n",
       "              mask=[False, False, False, False, False, False, False, False,\n",
       "                    False, False, False, False, False, False, False, False,\n",
       "                    False, False, False, False, False, False, False, False,\n",
       "                    False, False, False, False, False, False, False, False,\n",
       "                    False, False, False, False, False, False, False, False,\n",
       "                    False, False, False, False, False, False, False, False],\n",
       "        fill_value='?',\n",
       "             dtype=object),\n",
       " 'params': [{'max_depth': 10, 'min_samples_leaf': 10, 'n_estimators': 50},\n",
       "  {'max_depth': 10, 'min_samples_leaf': 10, 'n_estimators': 100},\n",
       "  {'max_depth': 10, 'min_samples_leaf': 10, 'n_estimators': 200},\n",
       "  {'max_depth': 10, 'min_samples_leaf': 10, 'n_estimators': 500},\n",
       "  {'max_depth': 10, 'min_samples_leaf': 20, 'n_estimators': 50},\n",
       "  {'max_depth': 10, 'min_samples_leaf': 20, 'n_estimators': 100},\n",
       "  {'max_depth': 10, 'min_samples_leaf': 20, 'n_estimators': 200},\n",
       "  {'max_depth': 10, 'min_samples_leaf': 20, 'n_estimators': 500},\n",
       "  {'max_depth': 10, 'min_samples_leaf': 50, 'n_estimators': 50},\n",
       "  {'max_depth': 10, 'min_samples_leaf': 50, 'n_estimators': 100},\n",
       "  {'max_depth': 10, 'min_samples_leaf': 50, 'n_estimators': 200},\n",
       "  {'max_depth': 10, 'min_samples_leaf': 50, 'n_estimators': 500},\n",
       "  {'max_depth': 20, 'min_samples_leaf': 10, 'n_estimators': 50},\n",
       "  {'max_depth': 20, 'min_samples_leaf': 10, 'n_estimators': 100},\n",
       "  {'max_depth': 20, 'min_samples_leaf': 10, 'n_estimators': 200},\n",
       "  {'max_depth': 20, 'min_samples_leaf': 10, 'n_estimators': 500},\n",
       "  {'max_depth': 20, 'min_samples_leaf': 20, 'n_estimators': 50},\n",
       "  {'max_depth': 20, 'min_samples_leaf': 20, 'n_estimators': 100},\n",
       "  {'max_depth': 20, 'min_samples_leaf': 20, 'n_estimators': 200},\n",
       "  {'max_depth': 20, 'min_samples_leaf': 20, 'n_estimators': 500},\n",
       "  {'max_depth': 20, 'min_samples_leaf': 50, 'n_estimators': 50},\n",
       "  {'max_depth': 20, 'min_samples_leaf': 50, 'n_estimators': 100},\n",
       "  {'max_depth': 20, 'min_samples_leaf': 50, 'n_estimators': 200},\n",
       "  {'max_depth': 20, 'min_samples_leaf': 50, 'n_estimators': 500},\n",
       "  {'max_depth': 50, 'min_samples_leaf': 10, 'n_estimators': 50},\n",
       "  {'max_depth': 50, 'min_samples_leaf': 10, 'n_estimators': 100},\n",
       "  {'max_depth': 50, 'min_samples_leaf': 10, 'n_estimators': 200},\n",
       "  {'max_depth': 50, 'min_samples_leaf': 10, 'n_estimators': 500},\n",
       "  {'max_depth': 50, 'min_samples_leaf': 20, 'n_estimators': 50},\n",
       "  {'max_depth': 50, 'min_samples_leaf': 20, 'n_estimators': 100},\n",
       "  {'max_depth': 50, 'min_samples_leaf': 20, 'n_estimators': 200},\n",
       "  {'max_depth': 50, 'min_samples_leaf': 20, 'n_estimators': 500},\n",
       "  {'max_depth': 50, 'min_samples_leaf': 50, 'n_estimators': 50},\n",
       "  {'max_depth': 50, 'min_samples_leaf': 50, 'n_estimators': 100},\n",
       "  {'max_depth': 50, 'min_samples_leaf': 50, 'n_estimators': 200},\n",
       "  {'max_depth': 50, 'min_samples_leaf': 50, 'n_estimators': 500},\n",
       "  {'max_depth': 100, 'min_samples_leaf': 10, 'n_estimators': 50},\n",
       "  {'max_depth': 100, 'min_samples_leaf': 10, 'n_estimators': 100},\n",
       "  {'max_depth': 100, 'min_samples_leaf': 10, 'n_estimators': 200},\n",
       "  {'max_depth': 100, 'min_samples_leaf': 10, 'n_estimators': 500},\n",
       "  {'max_depth': 100, 'min_samples_leaf': 20, 'n_estimators': 50},\n",
       "  {'max_depth': 100, 'min_samples_leaf': 20, 'n_estimators': 100},\n",
       "  {'max_depth': 100, 'min_samples_leaf': 20, 'n_estimators': 200},\n",
       "  {'max_depth': 100, 'min_samples_leaf': 20, 'n_estimators': 500},\n",
       "  {'max_depth': 100, 'min_samples_leaf': 50, 'n_estimators': 50},\n",
       "  {'max_depth': 100, 'min_samples_leaf': 50, 'n_estimators': 100},\n",
       "  {'max_depth': 100, 'min_samples_leaf': 50, 'n_estimators': 200},\n",
       "  {'max_depth': 100, 'min_samples_leaf': 50, 'n_estimators': 500}],\n",
       " 'split0_test_score': array([0.98533333, 0.986     , 0.98666667, 0.98733333, 0.98466667,\n",
       "        0.984     , 0.984     , 0.98466667, 0.98133333, 0.982     ,\n",
       "        0.98133333, 0.982     , 0.98533333, 0.986     , 0.98666667,\n",
       "        0.98733333, 0.98466667, 0.984     , 0.984     , 0.98466667,\n",
       "        0.98133333, 0.982     , 0.98133333, 0.982     , 0.98533333,\n",
       "        0.986     , 0.98666667, 0.98733333, 0.98466667, 0.984     ,\n",
       "        0.984     , 0.98466667, 0.98133333, 0.982     , 0.98133333,\n",
       "        0.982     , 0.98533333, 0.986     , 0.98666667, 0.98733333,\n",
       "        0.98466667, 0.984     , 0.984     , 0.98466667, 0.98133333,\n",
       "        0.982     , 0.98133333, 0.982     ]),\n",
       " 'split1_test_score': array([0.984     , 0.98466667, 0.98333333, 0.984     , 0.98333333,\n",
       "        0.98066667, 0.98066667, 0.97933333, 0.98133333, 0.97266667,\n",
       "        0.976     , 0.97666667, 0.984     , 0.98466667, 0.98333333,\n",
       "        0.984     , 0.98333333, 0.98066667, 0.98066667, 0.97933333,\n",
       "        0.98133333, 0.97266667, 0.976     , 0.97666667, 0.984     ,\n",
       "        0.98466667, 0.98333333, 0.984     , 0.98333333, 0.98066667,\n",
       "        0.98066667, 0.97933333, 0.98133333, 0.97266667, 0.976     ,\n",
       "        0.97666667, 0.984     , 0.98466667, 0.98333333, 0.984     ,\n",
       "        0.98333333, 0.98066667, 0.98066667, 0.97933333, 0.98133333,\n",
       "        0.97266667, 0.976     , 0.97666667]),\n",
       " 'split2_test_score': array([1.        , 1.        , 1.        , 1.        , 1.        ,\n",
       "        1.        , 0.998     , 0.99866667, 0.99666667, 0.99733333,\n",
       "        0.99666667, 0.99666667, 1.        , 1.        , 1.        ,\n",
       "        1.        , 1.        , 1.        , 0.998     , 0.99866667,\n",
       "        0.99666667, 0.99733333, 0.99666667, 0.99666667, 1.        ,\n",
       "        1.        , 1.        , 1.        , 1.        , 1.        ,\n",
       "        0.998     , 0.99866667, 0.99666667, 0.99733333, 0.99666667,\n",
       "        0.99666667, 1.        , 1.        , 1.        , 1.        ,\n",
       "        1.        , 1.        , 0.998     , 0.99866667, 0.99666667,\n",
       "        0.99733333, 0.99666667, 0.99666667]),\n",
       " 'split3_test_score': array([0.9937931 , 0.9937931 , 0.9937931 , 0.99310345, 0.9937931 ,\n",
       "        0.9937931 , 0.9937931 , 0.99310345, 0.99172414, 0.99172414,\n",
       "        0.99172414, 0.99172414, 0.9937931 , 0.9937931 , 0.9937931 ,\n",
       "        0.99310345, 0.9937931 , 0.9937931 , 0.9937931 , 0.99310345,\n",
       "        0.99172414, 0.99172414, 0.99172414, 0.99172414, 0.9937931 ,\n",
       "        0.9937931 , 0.9937931 , 0.99310345, 0.9937931 , 0.9937931 ,\n",
       "        0.9937931 , 0.99310345, 0.99172414, 0.99172414, 0.99172414,\n",
       "        0.99172414, 0.9937931 , 0.9937931 , 0.9937931 , 0.99310345,\n",
       "        0.9937931 , 0.9937931 , 0.9937931 , 0.99310345, 0.99172414,\n",
       "        0.99172414, 0.99172414, 0.99172414]),\n",
       " 'split4_test_score': array([0.98979592, 0.98911565, 0.98911565, 0.98979592, 0.98843537,\n",
       "        0.98639456, 0.98503401, 0.98367347, 0.98435374, 0.97959184,\n",
       "        0.97755102, 0.97823129, 0.98979592, 0.98911565, 0.98911565,\n",
       "        0.98979592, 0.98843537, 0.98639456, 0.98503401, 0.98367347,\n",
       "        0.98435374, 0.97959184, 0.97755102, 0.97823129, 0.98979592,\n",
       "        0.98911565, 0.98911565, 0.98979592, 0.98843537, 0.98639456,\n",
       "        0.98503401, 0.98367347, 0.98435374, 0.97959184, 0.97755102,\n",
       "        0.97823129, 0.98979592, 0.98911565, 0.98911565, 0.98979592,\n",
       "        0.98843537, 0.98639456, 0.98503401, 0.98367347, 0.98435374,\n",
       "        0.97959184, 0.97755102, 0.97823129]),\n",
       " 'mean_test_score': array([0.99058447, 0.99071508, 0.99058175, 0.99084654, 0.9900457 ,\n",
       "        0.98897087, 0.98829876, 0.98788872, 0.98708224, 0.98466319,\n",
       "        0.98465503, 0.98505775, 0.99058447, 0.99071508, 0.99058175,\n",
       "        0.99084654, 0.9900457 , 0.98897087, 0.98829876, 0.98788872,\n",
       "        0.98708224, 0.98466319, 0.98465503, 0.98505775, 0.99058447,\n",
       "        0.99071508, 0.99058175, 0.99084654, 0.9900457 , 0.98897087,\n",
       "        0.98829876, 0.98788872, 0.98708224, 0.98466319, 0.98465503,\n",
       "        0.98505775, 0.99058447, 0.99071508, 0.99058175, 0.99084654,\n",
       "        0.9900457 , 0.98897087, 0.98829876, 0.98788872, 0.98708224,\n",
       "        0.98466319, 0.98465503, 0.98505775]),\n",
       " 'std_test_score': array([0.0058395 , 0.0056046 , 0.00581435, 0.00546262, 0.00615977,\n",
       "        0.00700289, 0.00650674, 0.00699574, 0.00611479, 0.00879906,\n",
       "        0.00813218, 0.00781752, 0.0058395 , 0.0056046 , 0.00581435,\n",
       "        0.00546262, 0.00615977, 0.00700289, 0.00650674, 0.00699574,\n",
       "        0.00611479, 0.00879906, 0.00813218, 0.00781752, 0.0058395 ,\n",
       "        0.0056046 , 0.00581435, 0.00546262, 0.00615977, 0.00700289,\n",
       "        0.00650674, 0.00699574, 0.00611479, 0.00879906, 0.00813218,\n",
       "        0.00781752, 0.0058395 , 0.0056046 , 0.00581435, 0.00546262,\n",
       "        0.00615977, 0.00700289, 0.00650674, 0.00699574, 0.00611479,\n",
       "        0.00879906, 0.00813218, 0.00781752]),\n",
       " 'rank_test_score': array([ 9,  5, 13,  1, 17, 21, 25, 29, 33, 41, 45, 37,  9,  5, 13,  1, 17,\n",
       "        21, 25, 29, 33, 41, 45, 37,  9,  5, 13,  1, 17, 21, 25, 29, 33, 41,\n",
       "        45, 37,  9,  5, 13,  1, 17, 21, 25, 29, 33, 41, 45, 37])}"
      ]
     },
     "execution_count": 27,
     "metadata": {},
     "output_type": "execute_result"
    }
   ],
   "source": [
    "cv_grid.cv_results_"
   ]
  },
  {
   "cell_type": "code",
   "execution_count": 28,
   "metadata": {},
   "outputs": [],
   "source": [
    "best_parameters = cv_grid.best_estimator_.get_params()"
   ]
  },
  {
   "cell_type": "code",
   "execution_count": 29,
   "metadata": {
    "scrolled": true
   },
   "outputs": [
    {
     "data": {
      "text/plain": [
       "{'bootstrap': True,\n",
       " 'ccp_alpha': 0.0,\n",
       " 'class_weight': {0: 1, 1: 0.5983935742971888},\n",
       " 'criterion': 'gini',\n",
       " 'max_depth': 10,\n",
       " 'max_features': 'auto',\n",
       " 'max_leaf_nodes': None,\n",
       " 'max_samples': None,\n",
       " 'min_impurity_decrease': 0.0,\n",
       " 'min_impurity_split': None,\n",
       " 'min_samples_leaf': 10,\n",
       " 'min_samples_split': 2,\n",
       " 'min_weight_fraction_leaf': 0.0,\n",
       " 'n_estimators': 500,\n",
       " 'n_jobs': None,\n",
       " 'oob_score': False,\n",
       " 'random_state': 0,\n",
       " 'verbose': 0,\n",
       " 'warm_start': True}"
      ]
     },
     "execution_count": 29,
     "metadata": {},
     "output_type": "execute_result"
    }
   ],
   "source": [
    "best_parameters"
   ]
  },
  {
   "cell_type": "code",
   "execution_count": 30,
   "metadata": {
    "scrolled": true
   },
   "outputs": [
    {
     "name": "stdout",
     "output_type": "stream",
     "text": [
      "\tmax_depth: 10\n",
      "\tmin_samples_leaf: 10\n",
      "\tn_estimators: 500\n"
     ]
    }
   ],
   "source": [
    "for param_name in sorted(rf_tuned_parameters.keys()):\n",
    "    print(\"\\t%s: %r\" % (param_name, best_parameters[param_name]))"
   ]
  },
  {
   "cell_type": "code",
   "execution_count": 31,
   "metadata": {},
   "outputs": [
    {
     "name": "stdout",
     "output_type": "stream",
     "text": [
      "0.9259259259259259\n",
      "0.9345794392523364\n",
      "0.9074074074074074\n",
      "\n",
      " confusion matrix on validation data: \n",
      "[[ 56   7]\n",
      " [  8 100]]\n"
     ]
    }
   ],
   "source": [
    "pred_test = cv_grid.predict(X_test)\n",
    "print(recall_score(y_test, pred_test))     \n",
    "print(precision_score(y_test, pred_test))  \n",
    "print(roc_auc_score(y_test, pred_test))    \n",
    "print(\"\\n confusion matrix on validation data: \\n\" + str(confusion_matrix(y_test, pred_test)))"
   ]
  },
  {
   "cell_type": "markdown",
   "metadata": {},
   "source": [
    "## Self-defined Score and GridSearchCV of hyperparameter"
   ]
  },
  {
   "cell_type": "code",
   "execution_count": 32,
   "metadata": {},
   "outputs": [],
   "source": [
    "def scoring(ground_truth, predictions):\n",
    "    '''\n",
    "    based on results above about the average loss from false positive and false negative predictions.\n",
    "    '''\n",
    "    cmatrix = confusion_matrix(ground_truth, predictions)\n",
    "    fp = cmatrix[0, 1]\n",
    "    fn = cmatrix[1, 0]\n",
    "    return  fn * 122 + fp * 1.76"
   ]
  },
  {
   "cell_type": "code",
   "execution_count": 33,
   "metadata": {},
   "outputs": [],
   "source": [
    "wt_loss_score = make_scorer(scoring, greater_is_better = False)"
   ]
  },
  {
   "cell_type": "code",
   "execution_count": 34,
   "metadata": {},
   "outputs": [],
   "source": [
    "estimator = RandomForestClassifier(random_state=0, warm_start = True)\n",
    "rf_tuned_parameters = {\"max_depth\": [10,20], 'n_estimators': [50], 'min_samples_leaf': [10]}"
   ]
  },
  {
   "cell_type": "code",
   "execution_count": 35,
   "metadata": {},
   "outputs": [
    {
     "name": "stdout",
     "output_type": "stream",
     "text": [
      "Fitting 5 folds for each of 2 candidates, totalling 10 fits\n",
      "[CV] max_depth=10, min_samples_leaf=10, n_estimators=50 ..............\n",
      "[CV]  max_depth=10, min_samples_leaf=10, n_estimators=50, score=-369.520, total=   0.1s"
     ]
    },
    {
     "name": "stderr",
     "output_type": "stream",
     "text": [
      "[Parallel(n_jobs=1)]: Using backend SequentialBackend with 1 concurrent workers.\n",
      "[Parallel(n_jobs=1)]: Done   1 out of   1 | elapsed:    0.0s remaining:    0.0s\n"
     ]
    },
    {
     "name": "stdout",
     "output_type": "stream",
     "text": [
      "\n",
      "[CV] max_depth=10, min_samples_leaf=10, n_estimators=50 ..............\n",
      "[CV]  max_depth=10, min_samples_leaf=10, n_estimators=50, score=-495.040, total=   0.1s\n",
      "[CV] max_depth=10, min_samples_leaf=10, n_estimators=50 ..............\n",
      "[CV]  max_depth=10, min_samples_leaf=10, n_estimators=50, score=-5.280, total=   0.1s\n",
      "[CV] max_depth=10, min_samples_leaf=10, n_estimators=50 ..............\n",
      "[CV]  max_depth=10, min_samples_leaf=10, n_estimators=50, score=-369.520, total=   0.1s\n",
      "[CV] max_depth=10, min_samples_leaf=10, n_estimators=50 ..............\n"
     ]
    },
    {
     "name": "stderr",
     "output_type": "stream",
     "text": [
      "[Parallel(n_jobs=1)]: Done   2 out of   2 | elapsed:    0.1s remaining:    0.0s\n",
      "[Parallel(n_jobs=1)]: Done   3 out of   3 | elapsed:    0.2s remaining:    0.0s\n",
      "[Parallel(n_jobs=1)]: Done   4 out of   4 | elapsed:    0.3s remaining:    0.0s\n"
     ]
    },
    {
     "name": "stdout",
     "output_type": "stream",
     "text": [
      "[CV]  max_depth=10, min_samples_leaf=10, n_estimators=50, score=-127.280, total=   0.1s\n",
      "[CV] max_depth=20, min_samples_leaf=10, n_estimators=50 ..............\n",
      "[CV]  max_depth=20, min_samples_leaf=10, n_estimators=50, score=-369.520, total=   0.1s\n",
      "[CV] max_depth=20, min_samples_leaf=10, n_estimators=50 ..............\n",
      "[CV]  max_depth=20, min_samples_leaf=10, n_estimators=50, score=-495.040, total=   0.1s\n",
      "[CV] max_depth=20, min_samples_leaf=10, n_estimators=50 ..............\n",
      "[CV]  max_depth=20, min_samples_leaf=10, n_estimators=50, score=-5.280, total=   0.1s\n",
      "[CV] max_depth=20, min_samples_leaf=10, n_estimators=50 ..............\n",
      "[CV]  max_depth=20, min_samples_leaf=10, n_estimators=50, score=-369.520, total=   0.1s\n",
      "[CV] max_depth=20, min_samples_leaf=10, n_estimators=50 ..............\n",
      "[CV]  max_depth=20, min_samples_leaf=10, n_estimators=50, score=-127.280, total=   0.1s\n"
     ]
    },
    {
     "name": "stderr",
     "output_type": "stream",
     "text": [
      "[Parallel(n_jobs=1)]: Done  10 out of  10 | elapsed:    0.9s finished\n"
     ]
    },
    {
     "data": {
      "text/plain": [
       "GridSearchCV(estimator=RandomForestClassifier(random_state=0, warm_start=True),\n",
       "             param_grid={'max_depth': [10, 20], 'min_samples_leaf': [10],\n",
       "                         'n_estimators': [50]},\n",
       "             scoring=make_scorer(scoring, greater_is_better=False), verbose=5)"
      ]
     },
     "execution_count": 35,
     "metadata": {},
     "output_type": "execute_result"
    }
   ],
   "source": [
    "cv_grid = GridSearchCV(estimator, param_grid = rf_tuned_parameters, scoring = wt_loss_score, verbose = 5)\n",
    "cv_grid.fit(X_train, y_train)"
   ]
  },
  {
   "cell_type": "code",
   "execution_count": 36,
   "metadata": {},
   "outputs": [
    {
     "data": {
      "text/plain": [
       "{'mean_fit_time': array([0.089606  , 0.08740735]),\n",
       " 'std_fit_time': array([0.01036607, 0.00241646]),\n",
       " 'mean_score_time': array([0.00780015, 0.00719986]),\n",
       " 'std_score_time': array([0.001722 , 0.0004005]),\n",
       " 'param_max_depth': masked_array(data=[10, 20],\n",
       "              mask=[False, False],\n",
       "        fill_value='?',\n",
       "             dtype=object),\n",
       " 'param_min_samples_leaf': masked_array(data=[10, 10],\n",
       "              mask=[False, False],\n",
       "        fill_value='?',\n",
       "             dtype=object),\n",
       " 'param_n_estimators': masked_array(data=[50, 50],\n",
       "              mask=[False, False],\n",
       "        fill_value='?',\n",
       "             dtype=object),\n",
       " 'params': [{'max_depth': 10, 'min_samples_leaf': 10, 'n_estimators': 50},\n",
       "  {'max_depth': 20, 'min_samples_leaf': 10, 'n_estimators': 50}],\n",
       " 'split0_test_score': array([-369.52, -369.52]),\n",
       " 'split1_test_score': array([-495.04, -495.04]),\n",
       " 'split2_test_score': array([-5.28, -5.28]),\n",
       " 'split3_test_score': array([-369.52, -369.52]),\n",
       " 'split4_test_score': array([-127.28, -127.28]),\n",
       " 'mean_test_score': array([-273.328, -273.328]),\n",
       " 'std_test_score': array([179.35537978, 179.35537978]),\n",
       " 'rank_test_score': array([1, 1])}"
      ]
     },
     "execution_count": 36,
     "metadata": {},
     "output_type": "execute_result"
    }
   ],
   "source": [
    "cv_grid.cv_results_"
   ]
  },
  {
   "cell_type": "code",
   "execution_count": 37,
   "metadata": {},
   "outputs": [],
   "source": [
    "best_parameters = cv_grid.best_estimator_.get_params()"
   ]
  },
  {
   "cell_type": "code",
   "execution_count": 38,
   "metadata": {
    "scrolled": true
   },
   "outputs": [
    {
     "data": {
      "text/plain": [
       "{'bootstrap': True,\n",
       " 'ccp_alpha': 0.0,\n",
       " 'class_weight': None,\n",
       " 'criterion': 'gini',\n",
       " 'max_depth': 10,\n",
       " 'max_features': 'auto',\n",
       " 'max_leaf_nodes': None,\n",
       " 'max_samples': None,\n",
       " 'min_impurity_decrease': 0.0,\n",
       " 'min_impurity_split': None,\n",
       " 'min_samples_leaf': 10,\n",
       " 'min_samples_split': 2,\n",
       " 'min_weight_fraction_leaf': 0.0,\n",
       " 'n_estimators': 50,\n",
       " 'n_jobs': None,\n",
       " 'oob_score': False,\n",
       " 'random_state': 0,\n",
       " 'verbose': 0,\n",
       " 'warm_start': True}"
      ]
     },
     "execution_count": 38,
     "metadata": {},
     "output_type": "execute_result"
    }
   ],
   "source": [
    "best_parameters"
   ]
  },
  {
   "cell_type": "code",
   "execution_count": 39,
   "metadata": {
    "scrolled": true
   },
   "outputs": [
    {
     "name": "stdout",
     "output_type": "stream",
     "text": [
      "\tmax_depth: 10\n",
      "\tmin_samples_leaf: 10\n",
      "\tn_estimators: 50\n"
     ]
    }
   ],
   "source": [
    "for param_name in sorted(rf_tuned_parameters.keys()):\n",
    "    print(\"\\t%s: %r\" % (param_name, best_parameters[param_name]))"
   ]
  },
  {
   "cell_type": "code",
   "execution_count": 40,
   "metadata": {},
   "outputs": [
    {
     "name": "stdout",
     "output_type": "stream",
     "text": [
      "0.9444444444444444\n",
      "0.9357798165137615\n",
      "0.9166666666666666\n",
      "\n",
      " confusion matrix on validation data: \n",
      "[[ 56   7]\n",
      " [  6 102]]\n"
     ]
    }
   ],
   "source": [
    "pred_test = cv_grid.predict(X_test)\n",
    "print(recall_score(y_test, pred_test))     \n",
    "print(precision_score(y_test, pred_test))  \n",
    "print(roc_auc_score(y_test, pred_test))    \n",
    "print(\"\\n confusion matrix on validation data: \\n\" + str(confusion_matrix(y_test, pred_test)))"
   ]
  }
 ],
 "metadata": {
  "kernelspec": {
   "display_name": "Python 3",
   "language": "python",
   "name": "python3"
  },
  "language_info": {
   "codemirror_mode": {
    "name": "ipython",
    "version": 3
   },
   "file_extension": ".py",
   "mimetype": "text/x-python",
   "name": "python",
   "nbconvert_exporter": "python",
   "pygments_lexer": "ipython3",
   "version": "3.8.5"
  }
 },
 "nbformat": 4,
 "nbformat_minor": 4
}
